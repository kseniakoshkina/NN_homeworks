{
  "cells": [
    {
      "cell_type": "markdown",
      "metadata": {
        "id": "E7hGmlGBDWxW"
      },
      "source": [
        "## Домашнее задание Кошкиной Ксении"
      ]
    },
    {
      "cell_type": "markdown",
      "metadata": {
        "id": "K0A61vxBDUMR"
      },
      "source": [
        "## Домашнее задание 3\n",
        "### RNN архитектуры \n",
        "\n",
        "\n",
        "В этой домашке будем разбираться с RNN и учиться работать со статьями, я нашла для вас вот такую достаточно уже старую, но при этом несложно написанную, статью с хорошо описанными экспериментами, в современных реалиях, она конечно не state of the art, но она хорошо подойдет для наших целей. \n",
        "1) прочитайте статью https://arxiv.org/pdf/1511.08630.pdf\n",
        "2) мы будем ставить эксперименты на других данных, поэтому, проанализируйте и сделайте препроцессинг на основании вашего анализа и того дизайна экспериментов, который описан в статье, для этого датасета https://www.kaggle.com/clmentbisaillon/fake-and-real-news-dataset?select=Fake.csv \n",
        "\n",
        "Задача: предсказать категорию новости (там есть дополнительная колонка, не обращаем внимание, что это датасет fakenews, в этом дз нас интересует тематика новости)\n",
        "3) реализуйте на pytorch ту архитектуру модели, которую в итоге тестировали авторы (подробное описание есть в статье), таким образом, чтобы это был пайплайн для проведения экспериментов: можно было запускать модель с разными гиперпараметрами, разными способами регуляризации, описанными в статье (в том числе, чтобы можно было вставлять ее в разных местах), паддингом, векторизацией.  \n",
        "4) поставьте эксперименты с разными параметрами и особенностями архитектуры (регуляризация, паддинг, векторизация, драпаут и тд, в статье подробно описан смысл этих операций и что конкретно делали, загуглите как это имплементировано в торче) так как описано в статье (там есть подробное описание в разделе 5.2 Experimental Settings )\n",
        "5) оцените результаты экспериментов также, как это сделали в статье \n",
        "6) напишите выводы (это должно быть похоже на раздел Results and Model Analysis только не нужно сравнивать с другими моделями, как это делают авторы статьи, сравнивайте только результаты своих экспериментов, потому что там цифры на других датасетах. Да писать так много тоже не нужно, но у вас и должно получиться меньше потому что не будет сравнения)\n",
        "\n",
        "\n",
        "Если вы хотите дополнительный балл:\n",
        "1) реализуйте классы для RNN, LSTM и GRU ячейки \n",
        "2) реализуйте класс RNN слоя\n",
        "\n",
        "Если вы хотите еще один дополнительный балл, то используйте в экспериментах не RNN слой из торча, а свой самочинный слой, с разными типами ячеек (то есть поставьте дополнительные эксперименты не только с LSTM слоем, но и с обычным RNN и GRU слоем) "
      ]
    },
    {
      "cell_type": "code",
      "source": [
        "! pip install torchmetrics"
      ],
      "metadata": {
        "colab": {
          "base_uri": "https://localhost:8080/"
        },
        "id": "8matSjWXyGhB",
        "outputId": "c8e9a8d8-6241-4ff8-929b-4137ce77e5f2"
      },
      "execution_count": 1,
      "outputs": [
        {
          "output_type": "stream",
          "name": "stdout",
          "text": [
            "Collecting torchmetrics\n",
            "  Downloading torchmetrics-0.6.2-py3-none-any.whl (332 kB)\n",
            "\u001b[K     |████████████████████████████████| 332 kB 5.2 MB/s \n",
            "\u001b[?25hRequirement already satisfied: torch>=1.3.1 in /usr/local/lib/python3.7/dist-packages (from torchmetrics) (1.10.0+cu111)\n",
            "Requirement already satisfied: packaging in /usr/local/lib/python3.7/dist-packages (from torchmetrics) (21.3)\n",
            "Requirement already satisfied: numpy>=1.17.2 in /usr/local/lib/python3.7/dist-packages (from torchmetrics) (1.19.5)\n",
            "Requirement already satisfied: typing-extensions in /usr/local/lib/python3.7/dist-packages (from torch>=1.3.1->torchmetrics) (3.10.0.2)\n",
            "Requirement already satisfied: pyparsing!=3.0.5,>=2.0.2 in /usr/local/lib/python3.7/dist-packages (from packaging->torchmetrics) (3.0.6)\n",
            "Installing collected packages: torchmetrics\n",
            "Successfully installed torchmetrics-0.6.2\n"
          ]
        }
      ]
    },
    {
      "cell_type": "code",
      "execution_count": 2,
      "metadata": {
        "colab": {
          "base_uri": "https://localhost:8080/"
        },
        "id": "if5Lf3SkGnms",
        "outputId": "0e449064-7358-49ff-98b6-2be41840f706"
      },
      "outputs": [
        {
          "output_type": "stream",
          "name": "stdout",
          "text": [
            "[nltk_data] Downloading package punkt to /root/nltk_data...\n",
            "[nltk_data]   Unzipping tokenizers/punkt.zip.\n"
          ]
        }
      ],
      "source": [
        "import torch\n",
        "import numpy as np\n",
        "from torch import nn, optim\n",
        "from torch.utils.data import Dataset, DataLoader, RandomSampler, SequentialSampler\n",
        "import pandas as pd\n",
        "from collections import Counter\n",
        "from torch.optim import RMSprop\n",
        "import seaborn as sns\n",
        "import nltk\n",
        "nltk.download('punkt')\n",
        "from nltk.tokenize import word_tokenize\n",
        "from sklearn.metrics import accuracy_score\n",
        "from sklearn.metrics import classification_report\n",
        "from sklearn.metrics import f1_score\n",
        "from string import punctuation\n",
        "from matplotlib import pyplot as plt\n",
        "from sklearn.model_selection import train_test_split\n",
        "from sklearn.utils import shuffle\n",
        "import torch.nn.functional as F\n",
        "from torchmetrics.functional import f1, recall, accuracy\n",
        "from torch.nn.utils.rnn import pad_sequence\n",
        "import random"
      ]
    },
    {
      "cell_type": "code",
      "execution_count": 3,
      "metadata": {
        "id": "8q7GETyQRCKP"
      },
      "outputs": [],
      "source": [
        "seed = 13\n",
        "random.seed(seed)\n",
        "np.random.seed(seed)\n",
        "torch.manual_seed(seed)\n",
        "torch.cuda.manual_seed(seed)\n",
        "torch.backends.cudnn.deterministic = True"
      ]
    },
    {
      "cell_type": "code",
      "execution_count": 4,
      "metadata": {
        "id": "4Tk_BKbF2htl"
      },
      "outputs": [],
      "source": [
        "device = torch.device(\"cuda:0\" if torch.cuda.is_available() else \"cpu\")\n",
        "#device = 'cpu'\n",
        "DEVICE = device"
      ]
    },
    {
      "cell_type": "code",
      "execution_count": 5,
      "metadata": {
        "colab": {
          "base_uri": "https://localhost:8080/"
        },
        "id": "XediUhEqaMmz",
        "outputId": "9df39040-b658-4ab3-9a15-4bb9fb057846"
      },
      "outputs": [
        {
          "output_type": "stream",
          "name": "stdout",
          "text": [
            "Mounted at /content/drive\n"
          ]
        }
      ],
      "source": [
        "from google.colab import drive\n",
        "drive.mount('/content/drive')"
      ]
    },
    {
      "cell_type": "code",
      "execution_count": 6,
      "metadata": {
        "id": "Whq5kJpCLI5_"
      },
      "outputs": [],
      "source": [
        "data = pd.read_csv('/content/drive/MyDrive/Fake.csv')"
      ]
    },
    {
      "cell_type": "code",
      "execution_count": 7,
      "metadata": {
        "id": "MbXnnjd7QwzR"
      },
      "outputs": [],
      "source": [
        "data.drop_duplicates(inplace=True)\n",
        "data.reset_index(drop=True, inplace=True)"
      ]
    },
    {
      "cell_type": "code",
      "execution_count": 8,
      "metadata": {
        "id": "ojYwIoE0PN6s"
      },
      "outputs": [],
      "source": [
        "def preprocessing(text):\n",
        "  text = word_tokenize(text.lower())\n",
        "  return text"
      ]
    },
    {
      "cell_type": "code",
      "execution_count": 9,
      "metadata": {
        "id": "wuQor2xZHttw"
      },
      "outputs": [],
      "source": [
        "data['preprocess_text'] = [preprocessing(x) for x in data['text'].tolist()]"
      ]
    },
    {
      "cell_type": "code",
      "execution_count": 10,
      "metadata": {
        "colab": {
          "base_uri": "https://localhost:8080/",
          "height": 206
        },
        "id": "syPyiwEqH5sr",
        "outputId": "f35d2a82-c150-4c6a-aa14-09fee1002627"
      },
      "outputs": [
        {
          "output_type": "execute_result",
          "data": {
            "text/html": [
              "\n",
              "  <div id=\"df-f4b318ab-cdb7-47b9-a5c1-0e8e9cba6d82\">\n",
              "    <div class=\"colab-df-container\">\n",
              "      <div>\n",
              "<style scoped>\n",
              "    .dataframe tbody tr th:only-of-type {\n",
              "        vertical-align: middle;\n",
              "    }\n",
              "\n",
              "    .dataframe tbody tr th {\n",
              "        vertical-align: top;\n",
              "    }\n",
              "\n",
              "    .dataframe thead th {\n",
              "        text-align: right;\n",
              "    }\n",
              "</style>\n",
              "<table border=\"1\" class=\"dataframe\">\n",
              "  <thead>\n",
              "    <tr style=\"text-align: right;\">\n",
              "      <th></th>\n",
              "      <th>title</th>\n",
              "      <th>text</th>\n",
              "      <th>subject</th>\n",
              "      <th>date</th>\n",
              "      <th>preprocess_text</th>\n",
              "    </tr>\n",
              "  </thead>\n",
              "  <tbody>\n",
              "    <tr>\n",
              "      <th>0</th>\n",
              "      <td>Donald Trump Sends Out Embarrassing New Year’...</td>\n",
              "      <td>Donald Trump just couldn t wish all Americans ...</td>\n",
              "      <td>News</td>\n",
              "      <td>December 31, 2017</td>\n",
              "      <td>[donald, trump, just, couldn, t, wish, all, am...</td>\n",
              "    </tr>\n",
              "    <tr>\n",
              "      <th>1</th>\n",
              "      <td>Drunk Bragging Trump Staffer Started Russian ...</td>\n",
              "      <td>House Intelligence Committee Chairman Devin Nu...</td>\n",
              "      <td>News</td>\n",
              "      <td>December 31, 2017</td>\n",
              "      <td>[house, intelligence, committee, chairman, dev...</td>\n",
              "    </tr>\n",
              "    <tr>\n",
              "      <th>2</th>\n",
              "      <td>Sheriff David Clarke Becomes An Internet Joke...</td>\n",
              "      <td>On Friday, it was revealed that former Milwauk...</td>\n",
              "      <td>News</td>\n",
              "      <td>December 30, 2017</td>\n",
              "      <td>[on, friday, ,, it, was, revealed, that, forme...</td>\n",
              "    </tr>\n",
              "    <tr>\n",
              "      <th>3</th>\n",
              "      <td>Trump Is So Obsessed He Even Has Obama’s Name...</td>\n",
              "      <td>On Christmas day, Donald Trump announced that ...</td>\n",
              "      <td>News</td>\n",
              "      <td>December 29, 2017</td>\n",
              "      <td>[on, christmas, day, ,, donald, trump, announc...</td>\n",
              "    </tr>\n",
              "    <tr>\n",
              "      <th>4</th>\n",
              "      <td>Pope Francis Just Called Out Donald Trump Dur...</td>\n",
              "      <td>Pope Francis used his annual Christmas Day mes...</td>\n",
              "      <td>News</td>\n",
              "      <td>December 25, 2017</td>\n",
              "      <td>[pope, francis, used, his, annual, christmas, ...</td>\n",
              "    </tr>\n",
              "  </tbody>\n",
              "</table>\n",
              "</div>\n",
              "      <button class=\"colab-df-convert\" onclick=\"convertToInteractive('df-f4b318ab-cdb7-47b9-a5c1-0e8e9cba6d82')\"\n",
              "              title=\"Convert this dataframe to an interactive table.\"\n",
              "              style=\"display:none;\">\n",
              "        \n",
              "  <svg xmlns=\"http://www.w3.org/2000/svg\" height=\"24px\"viewBox=\"0 0 24 24\"\n",
              "       width=\"24px\">\n",
              "    <path d=\"M0 0h24v24H0V0z\" fill=\"none\"/>\n",
              "    <path d=\"M18.56 5.44l.94 2.06.94-2.06 2.06-.94-2.06-.94-.94-2.06-.94 2.06-2.06.94zm-11 1L8.5 8.5l.94-2.06 2.06-.94-2.06-.94L8.5 2.5l-.94 2.06-2.06.94zm10 10l.94 2.06.94-2.06 2.06-.94-2.06-.94-.94-2.06-.94 2.06-2.06.94z\"/><path d=\"M17.41 7.96l-1.37-1.37c-.4-.4-.92-.59-1.43-.59-.52 0-1.04.2-1.43.59L10.3 9.45l-7.72 7.72c-.78.78-.78 2.05 0 2.83L4 21.41c.39.39.9.59 1.41.59.51 0 1.02-.2 1.41-.59l7.78-7.78 2.81-2.81c.8-.78.8-2.07 0-2.86zM5.41 20L4 18.59l7.72-7.72 1.47 1.35L5.41 20z\"/>\n",
              "  </svg>\n",
              "      </button>\n",
              "      \n",
              "  <style>\n",
              "    .colab-df-container {\n",
              "      display:flex;\n",
              "      flex-wrap:wrap;\n",
              "      gap: 12px;\n",
              "    }\n",
              "\n",
              "    .colab-df-convert {\n",
              "      background-color: #E8F0FE;\n",
              "      border: none;\n",
              "      border-radius: 50%;\n",
              "      cursor: pointer;\n",
              "      display: none;\n",
              "      fill: #1967D2;\n",
              "      height: 32px;\n",
              "      padding: 0 0 0 0;\n",
              "      width: 32px;\n",
              "    }\n",
              "\n",
              "    .colab-df-convert:hover {\n",
              "      background-color: #E2EBFA;\n",
              "      box-shadow: 0px 1px 2px rgba(60, 64, 67, 0.3), 0px 1px 3px 1px rgba(60, 64, 67, 0.15);\n",
              "      fill: #174EA6;\n",
              "    }\n",
              "\n",
              "    [theme=dark] .colab-df-convert {\n",
              "      background-color: #3B4455;\n",
              "      fill: #D2E3FC;\n",
              "    }\n",
              "\n",
              "    [theme=dark] .colab-df-convert:hover {\n",
              "      background-color: #434B5C;\n",
              "      box-shadow: 0px 1px 3px 1px rgba(0, 0, 0, 0.15);\n",
              "      filter: drop-shadow(0px 1px 2px rgba(0, 0, 0, 0.3));\n",
              "      fill: #FFFFFF;\n",
              "    }\n",
              "  </style>\n",
              "\n",
              "      <script>\n",
              "        const buttonEl =\n",
              "          document.querySelector('#df-f4b318ab-cdb7-47b9-a5c1-0e8e9cba6d82 button.colab-df-convert');\n",
              "        buttonEl.style.display =\n",
              "          google.colab.kernel.accessAllowed ? 'block' : 'none';\n",
              "\n",
              "        async function convertToInteractive(key) {\n",
              "          const element = document.querySelector('#df-f4b318ab-cdb7-47b9-a5c1-0e8e9cba6d82');\n",
              "          const dataTable =\n",
              "            await google.colab.kernel.invokeFunction('convertToInteractive',\n",
              "                                                     [key], {});\n",
              "          if (!dataTable) return;\n",
              "\n",
              "          const docLinkHtml = 'Like what you see? Visit the ' +\n",
              "            '<a target=\"_blank\" href=https://colab.research.google.com/notebooks/data_table.ipynb>data table notebook</a>'\n",
              "            + ' to learn more about interactive tables.';\n",
              "          element.innerHTML = '';\n",
              "          dataTable['output_type'] = 'display_data';\n",
              "          await google.colab.output.renderOutput(dataTable, element);\n",
              "          const docLink = document.createElement('div');\n",
              "          docLink.innerHTML = docLinkHtml;\n",
              "          element.appendChild(docLink);\n",
              "        }\n",
              "      </script>\n",
              "    </div>\n",
              "  </div>\n",
              "  "
            ],
            "text/plain": [
              "                                               title  ...                                    preprocess_text\n",
              "0   Donald Trump Sends Out Embarrassing New Year’...  ...  [donald, trump, just, couldn, t, wish, all, am...\n",
              "1   Drunk Bragging Trump Staffer Started Russian ...  ...  [house, intelligence, committee, chairman, dev...\n",
              "2   Sheriff David Clarke Becomes An Internet Joke...  ...  [on, friday, ,, it, was, revealed, that, forme...\n",
              "3   Trump Is So Obsessed He Even Has Obama’s Name...  ...  [on, christmas, day, ,, donald, trump, announc...\n",
              "4   Pope Francis Just Called Out Donald Trump Dur...  ...  [pope, francis, used, his, annual, christmas, ...\n",
              "\n",
              "[5 rows x 5 columns]"
            ]
          },
          "metadata": {},
          "execution_count": 10
        }
      ],
      "source": [
        "data.head()"
      ]
    },
    {
      "cell_type": "code",
      "execution_count": 11,
      "metadata": {
        "colab": {
          "base_uri": "https://localhost:8080/"
        },
        "id": "yATjG1EmJVet",
        "outputId": "c6fed310-b6a3-4e86-de69-4eeff6779b3c"
      },
      "outputs": [
        {
          "output_type": "execute_result",
          "data": {
            "text/plain": [
              "array(['News', 'politics', 'Government News', 'left-news', 'US_News',\n",
              "       'Middle-east'], dtype=object)"
            ]
          },
          "metadata": {},
          "execution_count": 11
        }
      ],
      "source": [
        "data['subject'].unique()"
      ]
    },
    {
      "cell_type": "code",
      "execution_count": 12,
      "metadata": {
        "colab": {
          "base_uri": "https://localhost:8080/",
          "height": 283
        },
        "id": "zlgbi_lsE60m",
        "outputId": "d9c36e8f-0a3d-4772-cad6-1a785461d708"
      },
      "outputs": [
        {
          "output_type": "execute_result",
          "data": {
            "text/plain": [
              "<matplotlib.axes._subplots.AxesSubplot at 0x7f6c7f8aa190>"
            ]
          },
          "metadata": {},
          "execution_count": 12
        },
        {
          "output_type": "display_data",
          "data": {
            "image/png": "[encoded data removed]",
            "text/plain": [
              "<Figure size 432x288 with 1 Axes>"
            ]
          },
          "metadata": {
            "needs_background": "light"
          }
        }
      ],
      "source": [
        "data['subject'].hist()"
      ]
    },
    {
      "cell_type": "code",
      "execution_count": 13,
      "metadata": {
        "id": "vLrAOAnPMCok"
      },
      "outputs": [],
      "source": [
        "data['sub'] = data['subject'].astype('category').cat.codes"
      ]
    },
    {
      "cell_type": "code",
      "execution_count": 14,
      "metadata": {
        "colab": {
          "base_uri": "https://localhost:8080/",
          "height": 250
        },
        "id": "yBrHxI4dMr2O",
        "outputId": "fd3be105-63b3-4708-da50-13afb158ae36"
      },
      "outputs": [
        {
          "output_type": "execute_result",
          "data": {
            "text/html": [
              "\n",
              "  <div id=\"df-bfb26537-fe6b-43a5-985f-f46c4c597c0c\">\n",
              "    <div class=\"colab-df-container\">\n",
              "      <div>\n",
              "<style scoped>\n",
              "    .dataframe tbody tr th:only-of-type {\n",
              "        vertical-align: middle;\n",
              "    }\n",
              "\n",
              "    .dataframe tbody tr th {\n",
              "        vertical-align: top;\n",
              "    }\n",
              "\n",
              "    .dataframe thead th {\n",
              "        text-align: right;\n",
              "    }\n",
              "</style>\n",
              "<table border=\"1\" class=\"dataframe\">\n",
              "  <thead>\n",
              "    <tr style=\"text-align: right;\">\n",
              "      <th></th>\n",
              "      <th>title</th>\n",
              "      <th>text</th>\n",
              "      <th>subject</th>\n",
              "      <th>date</th>\n",
              "      <th>preprocess_text</th>\n",
              "      <th>sub</th>\n",
              "    </tr>\n",
              "  </thead>\n",
              "  <tbody>\n",
              "    <tr>\n",
              "      <th>0</th>\n",
              "      <td>Donald Trump Sends Out Embarrassing New Year’...</td>\n",
              "      <td>Donald Trump just couldn t wish all Americans ...</td>\n",
              "      <td>News</td>\n",
              "      <td>December 31, 2017</td>\n",
              "      <td>[donald, trump, just, couldn, t, wish, all, am...</td>\n",
              "      <td>2</td>\n",
              "    </tr>\n",
              "    <tr>\n",
              "      <th>1</th>\n",
              "      <td>Drunk Bragging Trump Staffer Started Russian ...</td>\n",
              "      <td>House Intelligence Committee Chairman Devin Nu...</td>\n",
              "      <td>News</td>\n",
              "      <td>December 31, 2017</td>\n",
              "      <td>[house, intelligence, committee, chairman, dev...</td>\n",
              "      <td>2</td>\n",
              "    </tr>\n",
              "    <tr>\n",
              "      <th>2</th>\n",
              "      <td>Sheriff David Clarke Becomes An Internet Joke...</td>\n",
              "      <td>On Friday, it was revealed that former Milwauk...</td>\n",
              "      <td>News</td>\n",
              "      <td>December 30, 2017</td>\n",
              "      <td>[on, friday, ,, it, was, revealed, that, forme...</td>\n",
              "      <td>2</td>\n",
              "    </tr>\n",
              "    <tr>\n",
              "      <th>3</th>\n",
              "      <td>Trump Is So Obsessed He Even Has Obama’s Name...</td>\n",
              "      <td>On Christmas day, Donald Trump announced that ...</td>\n",
              "      <td>News</td>\n",
              "      <td>December 29, 2017</td>\n",
              "      <td>[on, christmas, day, ,, donald, trump, announc...</td>\n",
              "      <td>2</td>\n",
              "    </tr>\n",
              "    <tr>\n",
              "      <th>4</th>\n",
              "      <td>Pope Francis Just Called Out Donald Trump Dur...</td>\n",
              "      <td>Pope Francis used his annual Christmas Day mes...</td>\n",
              "      <td>News</td>\n",
              "      <td>December 25, 2017</td>\n",
              "      <td>[pope, francis, used, his, annual, christmas, ...</td>\n",
              "      <td>2</td>\n",
              "    </tr>\n",
              "  </tbody>\n",
              "</table>\n",
              "</div>\n",
              "      <button class=\"colab-df-convert\" onclick=\"convertToInteractive('df-bfb26537-fe6b-43a5-985f-f46c4c597c0c')\"\n",
              "              title=\"Convert this dataframe to an interactive table.\"\n",
              "              style=\"display:none;\">\n",
              "        \n",
              "  <svg xmlns=\"http://www.w3.org/2000/svg\" height=\"24px\"viewBox=\"0 0 24 24\"\n",
              "       width=\"24px\">\n",
              "    <path d=\"M0 0h24v24H0V0z\" fill=\"none\"/>\n",
              "    <path d=\"M18.56 5.44l.94 2.06.94-2.06 2.06-.94-2.06-.94-.94-2.06-.94 2.06-2.06.94zm-11 1L8.5 8.5l.94-2.06 2.06-.94-2.06-.94L8.5 2.5l-.94 2.06-2.06.94zm10 10l.94 2.06.94-2.06 2.06-.94-2.06-.94-.94-2.06-.94 2.06-2.06.94z\"/><path d=\"M17.41 7.96l-1.37-1.37c-.4-.4-.92-.59-1.43-.59-.52 0-1.04.2-1.43.59L10.3 9.45l-7.72 7.72c-.78.78-.78 2.05 0 2.83L4 21.41c.39.39.9.59 1.41.59.51 0 1.02-.2 1.41-.59l7.78-7.78 2.81-2.81c.8-.78.8-2.07 0-2.86zM5.41 20L4 18.59l7.72-7.72 1.47 1.35L5.41 20z\"/>\n",
              "  </svg>\n",
              "      </button>\n",
              "      \n",
              "  <style>\n",
              "    .colab-df-container {\n",
              "      display:flex;\n",
              "      flex-wrap:wrap;\n",
              "      gap: 12px;\n",
              "    }\n",
              "\n",
              "    .colab-df-convert {\n",
              "      background-color: #E8F0FE;\n",
              "      border: none;\n",
              "      border-radius: 50%;\n",
              "      cursor: pointer;\n",
              "      display: none;\n",
              "      fill: #1967D2;\n",
              "      height: 32px;\n",
              "      padding: 0 0 0 0;\n",
              "      width: 32px;\n",
              "    }\n",
              "\n",
              "    .colab-df-convert:hover {\n",
              "      background-color: #E2EBFA;\n",
              "      box-shadow: 0px 1px 2px rgba(60, 64, 67, 0.3), 0px 1px 3px 1px rgba(60, 64, 67, 0.15);\n",
              "      fill: #174EA6;\n",
              "    }\n",
              "\n",
              "    [theme=dark] .colab-df-convert {\n",
              "      background-color: #3B4455;\n",
              "      fill: #D2E3FC;\n",
              "    }\n",
              "\n",
              "    [theme=dark] .colab-df-convert:hover {\n",
              "      background-color: #434B5C;\n",
              "      box-shadow: 0px 1px 3px 1px rgba(0, 0, 0, 0.15);\n",
              "      filter: drop-shadow(0px 1px 2px rgba(0, 0, 0, 0.3));\n",
              "      fill: #FFFFFF;\n",
              "    }\n",
              "  </style>\n",
              "\n",
              "      <script>\n",
              "        const buttonEl =\n",
              "          document.querySelector('#df-bfb26537-fe6b-43a5-985f-f46c4c597c0c button.colab-df-convert');\n",
              "        buttonEl.style.display =\n",
              "          google.colab.kernel.accessAllowed ? 'block' : 'none';\n",
              "\n",
              "        async function convertToInteractive(key) {\n",
              "          const element = document.querySelector('#df-bfb26537-fe6b-43a5-985f-f46c4c597c0c');\n",
              "          const dataTable =\n",
              "            await google.colab.kernel.invokeFunction('convertToInteractive',\n",
              "                                                     [key], {});\n",
              "          if (!dataTable) return;\n",
              "\n",
              "          const docLinkHtml = 'Like what you see? Visit the ' +\n",
              "            '<a target=\"_blank\" href=https://colab.research.google.com/notebooks/data_table.ipynb>data table notebook</a>'\n",
              "            + ' to learn more about interactive tables.';\n",
              "          element.innerHTML = '';\n",
              "          dataTable['output_type'] = 'display_data';\n",
              "          await google.colab.output.renderOutput(dataTable, element);\n",
              "          const docLink = document.createElement('div');\n",
              "          docLink.innerHTML = docLinkHtml;\n",
              "          element.appendChild(docLink);\n",
              "        }\n",
              "      </script>\n",
              "    </div>\n",
              "  </div>\n",
              "  "
            ],
            "text/plain": [
              "                                               title  ... sub\n",
              "0   Donald Trump Sends Out Embarrassing New Year’...  ...   2\n",
              "1   Drunk Bragging Trump Staffer Started Russian ...  ...   2\n",
              "2   Sheriff David Clarke Becomes An Internet Joke...  ...   2\n",
              "3   Trump Is So Obsessed He Even Has Obama’s Name...  ...   2\n",
              "4   Pope Francis Just Called Out Donald Trump Dur...  ...   2\n",
              "\n",
              "[5 rows x 6 columns]"
            ]
          },
          "metadata": {},
          "execution_count": 14
        }
      ],
      "source": [
        "data.head()"
      ]
    },
    {
      "cell_type": "code",
      "execution_count": 15,
      "metadata": {
        "id": "Sm5V3lb1M1LF"
      },
      "outputs": [],
      "source": [
        "datas = data[['preprocess_text','sub']]"
      ]
    },
    {
      "cell_type": "code",
      "execution_count": 16,
      "metadata": {
        "id": "9x__xVSERMaH"
      },
      "outputs": [],
      "source": [
        "train_data, test_data = train_test_split(datas, test_size=0.2,shuffle=True, random_state=seed)"
      ]
    },
    {
      "cell_type": "code",
      "execution_count": 17,
      "metadata": {
        "colab": {
          "base_uri": "https://localhost:8080/"
        },
        "id": "_8GhuXjFNs6D",
        "outputId": "38206238-5b64-4903-fb0c-3189124f0f07"
      },
      "outputs": [
        {
          "output_type": "stream",
          "name": "stdout",
          "text": [
            "всего уникальных токенов: 181384\n"
          ]
        }
      ],
      "source": [
        "vocab = Counter()\n",
        "\n",
        "for text in datas['preprocess_text']:\n",
        "    vocab.update(text)\n",
        "print('всего уникальных токенов:', len(vocab))"
      ]
    },
    {
      "cell_type": "code",
      "execution_count": 18,
      "metadata": {
        "colab": {
          "base_uri": "https://localhost:8080/"
        },
        "id": "IUPvHUtHNU4B",
        "outputId": "d89bdd7f-8719-473e-ca92-e8a2e7cbc1c1"
      },
      "outputs": [
        {
          "output_type": "stream",
          "name": "stdout",
          "text": [
            "уникальных токенов, втретившихся больше 3 раз: 48322\n"
          ]
        }
      ],
      "source": [
        "filtered_vocab = set()\n",
        "\n",
        "for word in vocab:\n",
        "    if vocab[word] > 3:\n",
        "        filtered_vocab.add(word)\n",
        "print('уникальных токенов, втретившихся больше 3 раз:', len(filtered_vocab))"
      ]
    },
    {
      "cell_type": "code",
      "execution_count": 19,
      "metadata": {
        "id": "WW07RlqMNplB"
      },
      "outputs": [],
      "source": [
        "#создаем словарь с индексами word2id, для спецсимвола паддинга дефолтный индекс - 0\n",
        "word2id = {'UNK':0}\n",
        "\n",
        "for word in filtered_vocab:\n",
        "    word2id[word] = len(word2id)"
      ]
    },
    {
      "cell_type": "code",
      "execution_count": 20,
      "metadata": {
        "colab": {
          "base_uri": "https://localhost:8080/"
        },
        "id": "NDTEAhrQQiC4",
        "outputId": "879c7271-6677-4951-c26e-901ac48bcee6"
      },
      "outputs": [
        {
          "output_type": "execute_result",
          "data": {
            "text/plain": [
              "48323"
            ]
          },
          "metadata": {},
          "execution_count": 20
        }
      ],
      "source": [
        "len(word2id)"
      ]
    },
    {
      "cell_type": "code",
      "execution_count": 21,
      "metadata": {
        "id": "SJ-TiEWFNp7G"
      },
      "outputs": [],
      "source": [
        "#обратный словарь для того, чтобы раскодировать последовательность\n",
        "id2word = {i:word for word, i in word2id.items()}"
      ]
    },
    {
      "cell_type": "code",
      "execution_count": 22,
      "metadata": {
        "colab": {
          "base_uri": "https://localhost:8080/"
        },
        "id": "9sp_ofIaOV0Q",
        "outputId": "1f089cf7-2dad-4392-9207-3113748fa63c"
      },
      "outputs": [
        {
          "output_type": "execute_result",
          "data": {
            "text/plain": [
              "9938"
            ]
          },
          "metadata": {},
          "execution_count": 22
        }
      ],
      "source": [
        "MAX_LEN = 0\n",
        "\n",
        "for text in data.preprocess_text:\n",
        "    MAX_LEN = max(len(text), MAX_LEN)\n",
        "MAX_LEN"
      ]
    },
    {
      "cell_type": "markdown",
      "metadata": {
        "id": "0LJvr7ycOjTS"
      },
      "source": [
        "Уменьшаем длину, потому максимальная длина слишком длинная\n"
      ]
    },
    {
      "cell_type": "code",
      "execution_count": 23,
      "metadata": {
        "id": "KdY-X4KCOo07"
      },
      "outputs": [],
      "source": [
        "MAX_LEN = 200"
      ]
    },
    {
      "cell_type": "code",
      "execution_count": 24,
      "metadata": {
        "colab": {
          "base_uri": "https://localhost:8080/"
        },
        "id": "dPfr_47KOs7d",
        "outputId": "c281640c-72fd-456c-b1a5-49ebed652b20"
      },
      "outputs": [
        {
          "output_type": "stream",
          "name": "stdout",
          "text": [
            "--2021-12-29 21:23:59--  https://s3.amazonaws.com/dl4j-distribution/GoogleNews-vectors-negative300.bin.gz\n",
            "Resolving s3.amazonaws.com (s3.amazonaws.com)... 52.217.206.112\n",
            "Connecting to s3.amazonaws.com (s3.amazonaws.com)|52.217.206.112|:443... connected.\n",
            "HTTP request sent, awaiting response... 200 OK\n",
            "Length: 1647046227 (1.5G) [application/x-gzip]\n",
            "Saving to: ‘GoogleNews-vectors-negative300.bin.gz’\n",
            "\n",
            "GoogleNews-vectors- 100%[===================>]   1.53G  63.0MB/s    in 25s     \n",
            "\n",
            "2021-12-29 21:24:23 (63.9 MB/s) - ‘GoogleNews-vectors-negative300.bin.gz’ saved [1647046227/1647046227]\n",
            "\n"
          ]
        }
      ],
      "source": [
        "! wget -c \"https://s3.amazonaws.com/dl4j-distribution/GoogleNews-vectors-negative300.bin.gz\""
      ]
    },
    {
      "cell_type": "code",
      "execution_count": 25,
      "metadata": {
        "id": "B5-lBrOpO46o"
      },
      "outputs": [],
      "source": [
        "import gensim\n",
        "w2v = gensim.models.KeyedVectors.load_word2vec_format('GoogleNews-vectors-negative300.bin.gz', binary=True)"
      ]
    },
    {
      "cell_type": "code",
      "execution_count": 26,
      "metadata": {
        "id": "wtogeDNPPBWN"
      },
      "outputs": [],
      "source": [
        "weights = np.zeros((len(word2id), 300))\n",
        "for word, i in word2id.items(): \n",
        "    try:\n",
        "        weights[i] = w2v[word]    \n",
        "    except KeyError:\n",
        "        weights[i] = np.random.normal(0,0.1,300)"
      ]
    },
    {
      "cell_type": "code",
      "execution_count": 27,
      "metadata": {
        "id": "50TiiJ5vSRMz"
      },
      "outputs": [],
      "source": [
        "class MyDataset(Dataset):\n",
        "\n",
        "    def __init__(self, dataset, word2id, DEVICE):\n",
        "        self.dataset = datas['preprocess_text'].values\n",
        "        self.word2id = word2id\n",
        "        self.length = dataset.shape[0]\n",
        "        self.target = torch.Tensor(data['sub'].values)\n",
        "        self.device = DEVICE\n",
        "\n",
        "    def __len__(self):\n",
        "        return self.length\n",
        "\n",
        "    def __getitem__(self, index): \n",
        "        tokens = self.dataset[index] \n",
        "        ids = torch.LongTensor([self.word2id[token] for token in tokens if token in self.word2id])\n",
        "        ids = F.pad(ids, (0, MAX_LEN - len(ids)))\n",
        "        y = self.target[index]\n",
        "        return ids, y"
      ]
    },
    {
      "cell_type": "code",
      "execution_count": 28,
      "metadata": {
        "id": "GsLvAdT4S_aK"
      },
      "outputs": [],
      "source": [
        "train_dataset = MyDataset(train_data, word2id, DEVICE)\n",
        "train_iterator = DataLoader(train_dataset, shuffle=True, batch_size=64)"
      ]
    },
    {
      "cell_type": "code",
      "execution_count": 29,
      "metadata": {
        "id": "zJHR7VJhWD3f"
      },
      "outputs": [],
      "source": [
        "val_dataset = MyDataset(test_data, word2id, DEVICE)\n",
        "val_iterator = DataLoader(val_dataset, shuffle=True, batch_size=64)"
      ]
    },
    {
      "cell_type": "code",
      "execution_count": 114,
      "metadata": {
        "id": "2Ze-aAgaWIbL"
      },
      "outputs": [],
      "source": [
        "import numpy as np\n",
        "\n",
        "\n",
        "class C_LSTM(nn.Module):\n",
        "\n",
        "\n",
        "  def __init__(self, max_len, filter_sizes, vocab_size, \n",
        "                 embedding_dim, filter_num, drop, hidden, \n",
        "                 num_layers, weights, dropout_number):\n",
        "    super().__init__()\n",
        "    self.vocab_size = vocab_size \n",
        "    self.max_len = max_len\n",
        "    self.filter_sizes = filter_sizes  \n",
        "    self.filter_number = filter_num\n",
        "    self.drop = drop\n",
        "    self.hidden = hidden\n",
        "    self.num_layers = num_layers\n",
        "    self.dropout_number = dropout_number\n",
        "\n",
        "    self.embedding = nn.Embedding(vocab_size, embedding_dim)\n",
        "    self.embedding.from_pretrained(torch.tensor(weights)) \n",
        "\n",
        "    c_layers = []\n",
        "    for size in filter_sizes:\n",
        "      conv = nn.Conv1d(in_channels=embedding_dim,\n",
        "                       out_channels=filter_num,\n",
        "                       kernel_size=size)\n",
        "      c_layers.append(conv)\n",
        "    self.c_layers = nn.ModuleList(c_layers)\n",
        "\n",
        "    self.relu = nn.ReLU()\n",
        "    self.dropout = nn.Dropout(p=self.dropout_number)\n",
        "    self.softmax = nn.Softmax(dim=1)\n",
        "\n",
        "    self.lstm = nn.LSTM(input_size=self.filter_number*self.num_layers,\n",
        "                        hidden_size=self.hidden, \n",
        "                        num_layers=self.num_layers, \n",
        "                        batch_first=True)\n",
        "\n",
        "    self.linear = nn.Linear(self.hidden, 6)\n",
        "\n",
        "  def forward(self, word):\n",
        "    embedded = self.embedding(word)\n",
        "    if self.drop == 'first':\n",
        "      embedded = self.dropout(embedded)\n",
        "    embedded = embedded.transpose(1, 2)\n",
        "\n",
        "    max_feature_len = self.max_len - max(self.filter_sizes) + 1  \n",
        "    out = []\n",
        "    for c in self.c_layers:\n",
        "      feature = c(embedded)\n",
        "      feature = self.relu(c(embedded)).transpose(1,2)\n",
        "      feature = feature[:, :, :max_feature_len]\n",
        "      out.append(feature)\n",
        "    \n",
        "    if len(self.filter_sizes) > 1:\n",
        "      input = torch.cat(out, 1)\n",
        "    else:\n",
        "      input = feature\n",
        "            \n",
        "    _, (state, _) = self.lstm(input)\n",
        "    if self.drop == 'last':\n",
        "      embedded = self.dropout(embedded)\n",
        "    logits = self.softmax(self.linear(torch.squeeze(state, 0)))\n",
        "    return logits "
      ]
    },
    {
      "cell_type": "code",
      "execution_count": 115,
      "metadata": {
        "id": "TQMlbBLOum3J"
      },
      "outputs": [],
      "source": [
        "def train(model, iterator, optimizer, criterion, metric, device):\n",
        "    print('Training...')\n",
        "    epoch_loss = 0 \n",
        "    epoch_metric = 0\n",
        "    model.train()  \n",
        "\n",
        "    for i, (texts, ys) in enumerate(iterator): \n",
        "        optimizer.zero_grad()\n",
        "        texts = texts.to(device)\n",
        "        ys = ys.to(device)\n",
        "        preds = model(texts.squeeze())  \n",
        "        loss = criterion(preds, ys.long())   \n",
        "        loss.backward() \n",
        "        optimizer.step()\n",
        "        epoch_loss += loss.item() \n",
        "        \n",
        "        batch_metric = metric(preds, ys.long(), ignore_index=0)\n",
        "        epoch_metric += batch_metric   \n",
        "        if not (i + 1) % 100:\n",
        "              pass\n",
        "              print(f'Train f1: {epoch_metric / len(iterator)}, Train loss: {epoch_loss / len(iterator)}') \n",
        "    return epoch_metric / len(iterator), epoch_loss / len(iterator)"
      ]
    },
    {
      "cell_type": "code",
      "source": [
        "def evaluate(model, iterator, criterion, metric, device):\n",
        "    print(\"\\nValidating...\")\n",
        "    epoch_loss = 0\n",
        "    epoch_metric = 0\n",
        "    model.eval() \n",
        "    with torch.no_grad():\n",
        "        for i, (texts, ys) in enumerate(iterator):  \n",
        "            texts = texts.to(device)\n",
        "            ys = ys.to(device) \n",
        "            preds = model(texts.squeeze()) \n",
        "            loss = criterion(preds, ys.long())   \n",
        "            epoch_loss += loss.item()\n",
        "            batch_metric = metric(preds, ys.long(), ignore_index=0)\n",
        "            epoch_metric += batch_metric\n",
        "            if not (i + 1) % 100:\n",
        "              pass\n",
        "\n",
        "              print(f'Val f1_ev: {epoch_metric / len(iterator)}, Val loss_ev: {epoch_loss / len(iterator)}')\n",
        "        \n",
        "    return epoch_metric / len(iterator), epoch_loss / len(iterator) "
      ],
      "metadata": {
        "id": "HL27jo7zupVP"
      },
      "execution_count": 116,
      "outputs": []
    },
    {
      "cell_type": "code",
      "execution_count": 117,
      "metadata": {
        "id": "evAMz9aD-KTf"
      },
      "outputs": [],
      "source": [
        "criterion = nn.CrossEntropyLoss()\n",
        "criterion = criterion.to(DEVICE)"
      ]
    },
    {
      "cell_type": "code",
      "source": [
        "#drop=first #filter=[2]\n",
        "model = C_LSTM(max_len=MAX_LEN, filter_sizes=[2], vocab_size=len(word2id),\n",
        "               embedding_dim=300, filter_num=1, drop='first', \n",
        "               hidden=150, num_layers=1, weights=weights, dropout_number=0.5) \n",
        "optimizer = RMSprop(model.parameters(), lr=0.001, weight_decay=0.0001)\n",
        "# веса модели и значения лосса храним там же, где и все остальные тензоры\n",
        "model = model.to(DEVICE)"
      ],
      "metadata": {
        "id": "W_gB93W1GoMd"
      },
      "execution_count": 118,
      "outputs": []
    },
    {
      "cell_type": "code",
      "source": [
        "losses = []\n",
        "losses_eval = []\n",
        "f1s = []\n",
        "f1s_eval = []\n",
        "\n",
        "for i in range(6):\n",
        "    print(f'\\nstarting Epoch {i+1}')\n",
        "    f1_value, epoch_loss = train(model, train_iterator, optimizer, criterion, f1, DEVICE)\n",
        "    losses.append(epoch_loss)\n",
        "    f1s.append(f1_value)\n",
        "\n",
        "    f1_value_on_test, epoch_loss_on_test = evaluate(model, val_iterator, criterion, f1, DEVICE)\n",
        "    losses_eval.append(epoch_loss_on_test)\n",
        "    f1s_eval.append(f1_value_on_test)"
      ],
      "metadata": {
        "colab": {
          "base_uri": "https://localhost:8080/"
        },
        "id": "hLuiQP5tGfqG",
        "outputId": "c812a9a1-4a98-4ef3-c97d-bb19140095c4"
      },
      "execution_count": 120,
      "outputs": [
        {
          "output_type": "stream",
          "name": "stdout",
          "text": [
            "\n",
            "starting Epoch 1\n",
            "Training...\n",
            "Train f1: 0.21471281349658966, Train loss: 0.4888237536358995\n",
            "Train f1: 0.4262188971042633, Train loss: 0.9809901689996525\n",
            "\n",
            "Validating...\n",
            "\n",
            "starting Epoch 2\n",
            "Training...\n",
            "Train f1: 0.17576605081558228, Train loss: 0.5268499125428752\n",
            "Train f1: 0.38197699189186096, Train loss: 1.0242209020926027\n",
            "\n",
            "Validating...\n",
            "\n",
            "starting Epoch 3\n",
            "Training...\n",
            "Train f1: 0.2015848308801651, Train loss: 0.5018274431325951\n",
            "Train f1: 0.33164942264556885, Train loss: 1.0723008497231672\n",
            "\n",
            "Validating...\n",
            "\n",
            "starting Epoch 4\n",
            "Training...\n",
            "Train f1: 0.12910494208335876, Train loss: 0.5713258924938384\n",
            "Train f1: 0.26565316319465637, Train loss: 1.1360249811289262\n",
            "\n",
            "Validating...\n",
            "\n",
            "starting Epoch 5\n",
            "Training...\n",
            "Train f1: 0.13087496161460876, Train loss: 0.56984883952303\n",
            "Train f1: 0.25970277190208435, Train loss: 1.1415435728572665\n",
            "\n",
            "Validating...\n",
            "\n",
            "starting Epoch 6\n",
            "Training...\n",
            "Train f1: 0.13585907220840454, Train loss: 0.564694341348142\n",
            "Train f1: 0.31661856174468994, Train loss: 1.0843906017387805\n",
            "\n",
            "Validating...\n"
          ]
        }
      ]
    },
    {
      "cell_type": "code",
      "source": [
        "import matplotlib.pyplot as plt\n",
        "plt.plot(losses)\n",
        "plt.plot(losses_eval)\n",
        "plt.title('BCE loss value')\n",
        "plt.ylabel('BCE loss')\n",
        "plt.xlabel('epoch')\n",
        "plt.legend(['train', 'val'], loc='upper right')\n",
        "plt.show()"
      ],
      "metadata": {
        "colab": {
          "base_uri": "https://localhost:8080/",
          "height": 295
        },
        "id": "IVZ1tC8gGhJI",
        "outputId": "57834c96-bae0-47c6-b144-3a67e63469f3"
      },
      "execution_count": 121,
      "outputs": [
        {
          "output_type": "display_data",
          "data": {
            "image/png": "[encoded data removed]",
            "text/plain": [
              "<Figure size 432x288 with 1 Axes>"
            ]
          },
          "metadata": {
            "needs_background": "light"
          }
        }
      ]
    },
    {
      "cell_type": "code",
      "source": [
        "import matplotlib.pyplot as plt\n",
        "plt.plot(f1s)\n",
        "plt.plot(f1s_eval)\n",
        "plt.title('F1 value')\n",
        "plt.ylabel('F1 loss')\n",
        "plt.xlabel('epoch')\n",
        "plt.legend(['train', 'val'], loc='upper right')\n",
        "plt.show()"
      ],
      "metadata": {
        "colab": {
          "base_uri": "https://localhost:8080/",
          "height": 295
        },
        "id": "IQfJfW-uIQ_-",
        "outputId": "222a95e6-a60e-4a45-ba91-201e1387dcb6"
      },
      "execution_count": 122,
      "outputs": [
        {
          "output_type": "display_data",
          "data": {
            "image/png": "[encoded data removed]",
            "text/plain": [
              "<Figure size 432x288 with 1 Axes>"
            ]
          },
          "metadata": {
            "needs_background": "light"
          }
        }
      ]
    },
    {
      "cell_type": "code",
      "source": [
        "#drop=first #filter=[3]\n",
        "model = C_LSTM(max_len=MAX_LEN, filter_sizes=[3], vocab_size=len(word2id),\n",
        "               embedding_dim=300, filter_num=1, drop='first', \n",
        "               hidden=150, num_layers=1, weights=weights, dropout_number=0.5) \n",
        "optimizer = RMSprop(model.parameters(), lr=0.001, weight_decay=0.0001)\n",
        "# веса модели и значения лосса храним там же, где и все остальные тензоры\n",
        "model = model.to(DEVICE)"
      ],
      "metadata": {
        "id": "3Swo7FtVIp23"
      },
      "execution_count": 123,
      "outputs": []
    },
    {
      "cell_type": "code",
      "source": [
        "losses = []\n",
        "losses_eval = []\n",
        "f1s = []\n",
        "f1s_eval = []\n",
        "\n",
        "for i in range(6):\n",
        "    print(f'\\nstarting Epoch {i+1}')\n",
        "    f1_value, epoch_loss = train(model, train_iterator, optimizer, criterion, f1, DEVICE)\n",
        "    losses.append(epoch_loss)\n",
        "    f1s.append(f1_value)\n",
        "\n",
        "    f1_value_on_test, epoch_loss_on_test = evaluate(model, val_iterator, criterion, f1, DEVICE)\n",
        "    losses_eval.append(epoch_loss_on_test)\n",
        "    f1s_eval.append(f1_value_on_test)"
      ],
      "metadata": {
        "colab": {
          "base_uri": "https://localhost:8080/"
        },
        "id": "ZgVAd4FgIsF0",
        "outputId": "7ae6f674-9c71-4399-bf31-18e01475194e"
      },
      "execution_count": 124,
      "outputs": [
        {
          "output_type": "stream",
          "name": "stdout",
          "text": [
            "\n",
            "starting Epoch 1\n",
            "Training...\n",
            "Train f1: 0.2118476927280426, Train loss: 0.4924067157466395\n",
            "Train f1: 0.4226987361907959, Train loss: 0.9859246591321466\n",
            "\n",
            "Validating...\n",
            "\n",
            "starting Epoch 2\n",
            "Training...\n",
            "Train f1: 0.2153751105070114, Train loss: 0.48790231245715604\n",
            "Train f1: 0.426213800907135, Train loss: 0.9813003195386355\n",
            "\n",
            "Validating...\n",
            "\n",
            "starting Epoch 3\n",
            "Training...\n",
            "Train f1: 0.21050794422626495, Train loss: 0.4934758292574461\n",
            "Train f1: 0.42468616366386414, Train loss: 0.983345489518172\n",
            "\n",
            "Validating...\n",
            "\n",
            "starting Epoch 4\n",
            "Training...\n",
            "Train f1: 0.21554303169250488, Train loss: 0.48848891460976634\n",
            "Train f1: 0.42698681354522705, Train loss: 0.9813884310170907\n",
            "\n",
            "Validating...\n",
            "\n",
            "starting Epoch 5\n",
            "Training...\n",
            "Train f1: 0.2158043533563614, Train loss: 0.48839945047080113\n",
            "Train f1: 0.42826271057128906, Train loss: 0.9797236651790385\n",
            "\n",
            "Validating...\n",
            "\n",
            "starting Epoch 6\n",
            "Training...\n",
            "Train f1: 0.21214549243450165, Train loss: 0.49196080042391405\n",
            "Train f1: 0.4279870092868805, Train loss: 0.9800038937808705\n",
            "\n",
            "Validating...\n"
          ]
        }
      ]
    },
    {
      "cell_type": "code",
      "source": [
        "import matplotlib.pyplot as plt\n",
        "plt.plot(losses)\n",
        "plt.plot(losses_eval)\n",
        "plt.title('BCE loss value')\n",
        "plt.ylabel('BCE loss')\n",
        "plt.xlabel('epoch')\n",
        "plt.legend(['train', 'val'], loc='upper right')\n",
        "plt.show()"
      ],
      "metadata": {
        "colab": {
          "base_uri": "https://localhost:8080/",
          "height": 295
        },
        "id": "NrKGt_Z7IxAY",
        "outputId": "7e90f38f-4311-42c6-8538-d137852ced60"
      },
      "execution_count": 125,
      "outputs": [
        {
          "output_type": "display_data",
          "data": {
            "image/png": "[encoded data removed]",
            "text/plain": [
              "<Figure size 432x288 with 1 Axes>"
            ]
          },
          "metadata": {
            "needs_background": "light"
          }
        }
      ]
    },
    {
      "cell_type": "code",
      "source": [
        "import matplotlib.pyplot as plt\n",
        "plt.plot(f1s)\n",
        "plt.plot(f1s_eval)\n",
        "plt.title('F1 value')\n",
        "plt.ylabel('F1 loss')\n",
        "plt.xlabel('epoch')\n",
        "plt.legend(['train', 'val'], loc='upper right')\n",
        "plt.show()"
      ],
      "metadata": {
        "colab": {
          "base_uri": "https://localhost:8080/",
          "height": 295
        },
        "id": "K17ff62kIxl8",
        "outputId": "b7ee4d1e-2190-4b65-969c-b1f9f34a1d1a"
      },
      "execution_count": 126,
      "outputs": [
        {
          "output_type": "display_data",
          "data": {
            "image/png": "[encoded data removed]",
            "text/plain": [
              "<Figure size 432x288 with 1 Axes>"
            ]
          },
          "metadata": {
            "needs_background": "light"
          }
        }
      ]
    },
    {
      "cell_type": "code",
      "source": [
        "#drop=first #filter=[4]\n",
        "model = C_LSTM(max_len=MAX_LEN, filter_sizes=[4], vocab_size=len(word2id),\n",
        "               embedding_dim=300, filter_num=1, drop='first', \n",
        "               hidden=150, num_layers=1, weights=weights, dropout_number=0.5) \n",
        "optimizer = RMSprop(model.parameters(), lr=0.001, weight_decay=0.0001)\n",
        "# веса модели и значения лосса храним там же, где и все остальные тензоры\n",
        "model = model.to(DEVICE)"
      ],
      "metadata": {
        "id": "9YGzjEK_I2DD"
      },
      "execution_count": 127,
      "outputs": []
    },
    {
      "cell_type": "code",
      "source": [
        "losses = []\n",
        "losses_eval = []\n",
        "f1s = []\n",
        "f1s_eval = []\n",
        "\n",
        "for i in range(6):\n",
        "    print(f'\\nstarting Epoch {i+1}')\n",
        "    f1_value, epoch_loss = train(model, train_iterator, optimizer, criterion, f1, DEVICE)\n",
        "    losses.append(epoch_loss)\n",
        "    f1s.append(f1_value)\n",
        "\n",
        "    f1_value_on_test, epoch_loss_on_test = evaluate(model, val_iterator, criterion, f1, DEVICE)\n",
        "    losses_eval.append(epoch_loss_on_test)\n",
        "    f1s_eval.append(f1_value_on_test)"
      ],
      "metadata": {
        "colab": {
          "base_uri": "https://localhost:8080/"
        },
        "id": "f9oZYGyTJCL6",
        "outputId": "68fec264-6d67-45a6-ea68-627160f8064f"
      },
      "execution_count": 128,
      "outputs": [
        {
          "output_type": "stream",
          "name": "stdout",
          "text": [
            "\n",
            "starting Epoch 1\n",
            "Training...\n",
            "Train f1: 0.18135426938533783, Train loss: 0.518822501711294\n",
            "Train f1: 0.3935111463069916, Train loss: 1.0104914538714351\n",
            "\n",
            "Validating...\n",
            "\n",
            "starting Epoch 2\n",
            "Training...\n",
            "Train f1: 0.20594355463981628, Train loss: 0.49755276709186785\n",
            "Train f1: 0.36029478907585144, Train loss: 1.045268009309055\n",
            "\n",
            "Validating...\n",
            "\n",
            "starting Epoch 3\n",
            "Training...\n",
            "Train f1: 0.21361225843429565, Train loss: 0.48885155818900283\n",
            "Train f1: 0.398335725069046, Train loss: 1.0064172314948776\n",
            "\n",
            "Validating...\n",
            "\n",
            "starting Epoch 4\n",
            "Training...\n",
            "Train f1: 0.19212888181209564, Train loss: 0.510213744072687\n",
            "Train f1: 0.39264360070228577, Train loss: 1.0112910335566723\n",
            "\n",
            "Validating...\n",
            "\n",
            "starting Epoch 5\n",
            "Training...\n",
            "Train f1: 0.214480459690094, Train loss: 0.4881396634238107\n",
            "Train f1: 0.4252433776855469, Train loss: 0.9808247876005108\n",
            "\n",
            "Validating...\n",
            "\n",
            "starting Epoch 6\n",
            "Training...\n",
            "Train f1: 0.21469154953956604, Train loss: 0.4871110749893448\n",
            "Train f1: 0.4302690923213959, Train loss: 0.9752006445612226\n",
            "\n",
            "Validating...\n"
          ]
        }
      ]
    },
    {
      "cell_type": "code",
      "source": [
        "import matplotlib.pyplot as plt\n",
        "plt.plot(losses)\n",
        "plt.plot(losses_eval)\n",
        "plt.title('BCE loss value')\n",
        "plt.ylabel('BCE loss')\n",
        "plt.xlabel('epoch')\n",
        "plt.legend(['train', 'val'], loc='upper right')\n",
        "plt.show()"
      ],
      "metadata": {
        "colab": {
          "base_uri": "https://localhost:8080/",
          "height": 295
        },
        "id": "h3d3bRY8JFrD",
        "outputId": "58e3453f-9193-4e78-bbb3-f0d010d3a70b"
      },
      "execution_count": 129,
      "outputs": [
        {
          "output_type": "display_data",
          "data": {
            "image/png": "[encoded data removed]",
            "text/plain": [
              "<Figure size 432x288 with 1 Axes>"
            ]
          },
          "metadata": {
            "needs_background": "light"
          }
        }
      ]
    },
    {
      "cell_type": "code",
      "source": [
        "import matplotlib.pyplot as plt\n",
        "plt.plot(f1s)\n",
        "plt.plot(f1s_eval)\n",
        "plt.title('F1 value')\n",
        "plt.ylabel('F1 loss')\n",
        "plt.xlabel('epoch')\n",
        "plt.legend(['train', 'val'], loc='upper right')\n",
        "plt.show()"
      ],
      "metadata": {
        "colab": {
          "base_uri": "https://localhost:8080/",
          "height": 295
        },
        "id": "liPGInY_JGEk",
        "outputId": "91c55184-8b2e-4c32-f878-eba2ddd6d997"
      },
      "execution_count": 130,
      "outputs": [
        {
          "output_type": "display_data",
          "data": {
            "image/png": "[encoded data removed]",
            "text/plain": [
              "<Figure size 432x288 with 1 Axes>"
            ]
          },
          "metadata": {
            "needs_background": "light"
          }
        }
      ]
    },
    {
      "cell_type": "code",
      "source": [
        "#drop=first #filter=[2,3]\n",
        "model = C_LSTM(max_len=MAX_LEN, filter_sizes=[2,3], vocab_size=len(word2id),\n",
        "               embedding_dim=300, filter_num=2, drop='first', \n",
        "               hidden=150, num_layers=1, weights=weights, dropout_number=0.5) \n",
        "optimizer = RMSprop(model.parameters(), lr=0.001, weight_decay=0.0001)\n",
        "# веса модели и значения лосса храним там же, где и все остальные тензоры\n",
        "model = model.to(DEVICE)"
      ],
      "metadata": {
        "id": "WCDZElMaJHrb"
      },
      "execution_count": 131,
      "outputs": []
    },
    {
      "cell_type": "code",
      "source": [
        "losses = []\n",
        "losses_eval = []\n",
        "f1s = []\n",
        "f1s_eval = []\n",
        "\n",
        "for i in range(6):\n",
        "    print(f'\\nstarting Epoch {i+1}')\n",
        "    f1_value, epoch_loss = train(model, train_iterator, optimizer, criterion, f1, DEVICE)\n",
        "    losses.append(epoch_loss)\n",
        "    f1s.append(f1_value)\n",
        "\n",
        "    f1_value_on_test, epoch_loss_on_test = evaluate(model, val_iterator, criterion, f1, DEVICE)\n",
        "    losses_eval.append(epoch_loss_on_test)\n",
        "    f1s_eval.append(f1_value_on_test)"
      ],
      "metadata": {
        "colab": {
          "base_uri": "https://localhost:8080/"
        },
        "id": "RmtRriOeJcGw",
        "outputId": "17fc936b-ef7a-4dd8-d217-5d680ab9a741"
      },
      "execution_count": 132,
      "outputs": [
        {
          "output_type": "stream",
          "name": "stdout",
          "text": [
            "\n",
            "starting Epoch 1\n",
            "Training...\n",
            "Train f1: 0.18904444575309753, Train loss: 0.5115223559392553\n",
            "Train f1: 0.3995281159877777, Train loss: 1.0052164529456573\n",
            "\n",
            "Validating...\n",
            "\n",
            "starting Epoch 2\n",
            "Training...\n",
            "Train f1: 0.19120796024799347, Train loss: 0.5115004125095549\n",
            "Train f1: 0.38515985012054443, Train loss: 1.0207526647314733\n",
            "\n",
            "Validating...\n",
            "\n",
            "starting Epoch 3\n",
            "Training...\n",
            "Train f1: 0.20231641829013824, Train loss: 0.5006705814478348\n",
            "Train f1: 0.41057443618774414, Train loss: 0.9958750216328368\n",
            "\n",
            "Validating...\n",
            "\n",
            "starting Epoch 4\n",
            "Training...\n",
            "Train f1: 0.21229474246501923, Train loss: 0.4912447978039177\n",
            "Train f1: 0.4261966347694397, Train loss: 0.9802958284105573\n",
            "\n",
            "Validating...\n",
            "\n",
            "starting Epoch 5\n",
            "Training...\n",
            "Train f1: 0.21287988126277924, Train loss: 0.4901310400087006\n",
            "Train f1: 0.4278392195701599, Train loss: 0.9792349431790462\n",
            "\n",
            "Validating...\n",
            "\n",
            "starting Epoch 6\n",
            "Training...\n",
            "Train f1: 0.20491336286067963, Train loss: 0.49822398837731807\n",
            "Train f1: 0.42553281784057617, Train loss: 0.9810622156071825\n",
            "\n",
            "Validating...\n"
          ]
        }
      ]
    },
    {
      "cell_type": "code",
      "source": [
        "import matplotlib.pyplot as plt\n",
        "plt.plot(losses)\n",
        "plt.plot(losses_eval)\n",
        "plt.title('BCE loss value')\n",
        "plt.ylabel('BCE loss')\n",
        "plt.xlabel('epoch')\n",
        "plt.legend(['train', 'val'], loc='upper right')\n",
        "plt.show()"
      ],
      "metadata": {
        "colab": {
          "base_uri": "https://localhost:8080/",
          "height": 295
        },
        "id": "5EqX421mJiCZ",
        "outputId": "71403322-52f0-452c-9b3f-62d536d5ae13"
      },
      "execution_count": 133,
      "outputs": [
        {
          "output_type": "display_data",
          "data": {
            "image/png": "[encoded data removed]",
            "text/plain": [
              "<Figure size 432x288 with 1 Axes>"
            ]
          },
          "metadata": {
            "needs_background": "light"
          }
        }
      ]
    },
    {
      "cell_type": "code",
      "source": [
        "import matplotlib.pyplot as plt\n",
        "plt.plot(f1s)\n",
        "plt.plot(f1s_eval)\n",
        "plt.title('F1 value')\n",
        "plt.ylabel('F1 loss')\n",
        "plt.xlabel('epoch')\n",
        "plt.legend(['train', 'val'], loc='upper right')\n",
        "plt.show()"
      ],
      "metadata": {
        "colab": {
          "base_uri": "https://localhost:8080/",
          "height": 295
        },
        "id": "Vkrf-l3XJk4e",
        "outputId": "f610c1b5-c242-4c0c-aaf5-b1ea6d16c729"
      },
      "execution_count": 134,
      "outputs": [
        {
          "output_type": "display_data",
          "data": {
            "image/png": "[encoded data removed]",
            "text/plain": [
              "<Figure size 432x288 with 1 Axes>"
            ]
          },
          "metadata": {
            "needs_background": "light"
          }
        }
      ]
    },
    {
      "cell_type": "code",
      "source": [
        "#drop=first #filter=[3,4]\n",
        "model = C_LSTM(max_len=MAX_LEN, filter_sizes=[3,4], vocab_size=len(word2id),\n",
        "               embedding_dim=300, filter_num=2, drop='first', \n",
        "               hidden=150, num_layers=1, weights=weights, dropout_number=0.5) \n",
        "optimizer = RMSprop(model.parameters(), lr=0.001, weight_decay=0.0001)\n",
        "# веса модели и значения лосса храним там же, где и все остальные тензоры\n",
        "model = model.to(DEVICE)"
      ],
      "metadata": {
        "id": "_Lx1X79UJlbm"
      },
      "execution_count": 135,
      "outputs": []
    },
    {
      "cell_type": "code",
      "source": [
        "losses = []\n",
        "losses_eval = []\n",
        "f1s = []\n",
        "f1s_eval = []\n",
        "\n",
        "for i in range(6):\n",
        "    print(f'\\nstarting Epoch {i+1}')\n",
        "    f1_value, epoch_loss = train(model, train_iterator, optimizer, criterion, f1, DEVICE)\n",
        "    losses.append(epoch_loss)\n",
        "    f1s.append(f1_value)\n",
        "\n",
        "    f1_value_on_test, epoch_loss_on_test = evaluate(model, val_iterator, criterion, f1, DEVICE)\n",
        "    losses_eval.append(epoch_loss_on_test)\n",
        "    f1s_eval.append(f1_value_on_test)"
      ],
      "metadata": {
        "colab": {
          "base_uri": "https://localhost:8080/"
        },
        "id": "z3zlUFMFJnrn",
        "outputId": "24be9e3d-9814-429a-97e7-bc9f306ffbbd"
      },
      "execution_count": 136,
      "outputs": [
        {
          "output_type": "stream",
          "name": "stdout",
          "text": [
            "\n",
            "starting Epoch 1\n",
            "Training...\n",
            "Train f1: 0.21158307790756226, Train loss: 0.4928822959361433\n",
            "Train f1: 0.424875944852829, Train loss: 0.9838745792706808\n",
            "\n",
            "Validating...\n",
            "\n",
            "starting Epoch 2\n",
            "Training...\n",
            "Train f1: 0.21522599458694458, Train loss: 0.48954803684130815\n",
            "Train f1: 0.42999735474586487, Train loss: 0.9784375048008095\n",
            "\n",
            "Validating...\n",
            "\n",
            "starting Epoch 3\n",
            "Training...\n",
            "Train f1: 0.21624818444252014, Train loss: 0.4878117892206932\n",
            "Train f1: 0.4263395667076111, Train loss: 0.982038829196878\n",
            "\n",
            "Validating...\n",
            "\n",
            "starting Epoch 4\n",
            "Training...\n",
            "Train f1: 0.21576619148254395, Train loss: 0.4882913669761346\n",
            "Train f1: 0.4306783974170685, Train loss: 0.9769892684456443\n",
            "\n",
            "Validating...\n",
            "\n",
            "starting Epoch 5\n",
            "Training...\n",
            "Train f1: 0.2107199877500534, Train loss: 0.4931899061819323\n",
            "Train f1: 0.42721128463745117, Train loss: 0.9807494984192102\n",
            "\n",
            "Validating...\n",
            "\n",
            "starting Epoch 6\n",
            "Training...\n",
            "Train f1: 0.2159075289964676, Train loss: 0.48781968663338904\n",
            "Train f1: 0.43154630064964294, Train loss: 0.9761151533548523\n",
            "\n",
            "Validating...\n"
          ]
        }
      ]
    },
    {
      "cell_type": "code",
      "source": [
        "import matplotlib.pyplot as plt\n",
        "plt.plot(losses)\n",
        "plt.plot(losses_eval)\n",
        "plt.title('BCE loss value')\n",
        "plt.ylabel('BCE loss')\n",
        "plt.xlabel('epoch')\n",
        "plt.legend(['train', 'val'], loc='upper right')\n",
        "plt.show()"
      ],
      "metadata": {
        "colab": {
          "base_uri": "https://localhost:8080/",
          "height": 295
        },
        "id": "MRnG4Oy0Jo6P",
        "outputId": "9074c743-1b44-4481-c362-d80c44f90f72"
      },
      "execution_count": 137,
      "outputs": [
        {
          "output_type": "display_data",
          "data": {
            "image/png": "[encoded data removed]",
            "text/plain": [
              "<Figure size 432x288 with 1 Axes>"
            ]
          },
          "metadata": {
            "needs_background": "light"
          }
        }
      ]
    },
    {
      "cell_type": "code",
      "source": [
        "import matplotlib.pyplot as plt\n",
        "plt.plot(f1s)\n",
        "plt.plot(f1s_eval)\n",
        "plt.title('F1 value')\n",
        "plt.ylabel('F1 loss')\n",
        "plt.xlabel('epoch')\n",
        "plt.legend(['train', 'val'], loc='upper right')\n",
        "plt.show()"
      ],
      "metadata": {
        "colab": {
          "base_uri": "https://localhost:8080/",
          "height": 295
        },
        "id": "ekVRzIsYJp8q",
        "outputId": "3bb9ba95-0554-4c7f-8757-b59d712ce833"
      },
      "execution_count": 138,
      "outputs": [
        {
          "output_type": "display_data",
          "data": {
            "image/png": "[encoded data removed]",
            "text/plain": [
              "<Figure size 432x288 with 1 Axes>"
            ]
          },
          "metadata": {
            "needs_background": "light"
          }
        }
      ]
    },
    {
      "cell_type": "code",
      "source": [
        "#drop=first #filter=[2,3,4]\n",
        "model = C_LSTM(max_len=MAX_LEN, filter_sizes=[2,3,4], vocab_size=len(word2id),\n",
        "               embedding_dim=300, filter_num=3, drop='first', \n",
        "               hidden=150, num_layers=1, weights=weights, dropout_number=0.5) \n",
        "optimizer = RMSprop(model.parameters(), lr=0.001, weight_decay=0.0001)\n",
        "# веса модели и значения лосса храним там же, где и все остальные тензоры\n",
        "model = model.to(DEVICE)"
      ],
      "metadata": {
        "id": "FW33eAi3Jrsq"
      },
      "execution_count": 139,
      "outputs": []
    },
    {
      "cell_type": "code",
      "source": [
        "losses = []\n",
        "losses_eval = []\n",
        "f1s = []\n",
        "f1s_eval = []\n",
        "\n",
        "for i in range(6):\n",
        "    print(f'\\nstarting Epoch {i+1}')\n",
        "    f1_value, epoch_loss = train(model, train_iterator, optimizer, criterion, f1, DEVICE)\n",
        "    losses.append(epoch_loss)\n",
        "    f1s.append(f1_value)\n",
        "\n",
        "    f1_value_on_test, epoch_loss_on_test = evaluate(model, val_iterator, criterion, f1, DEVICE)\n",
        "    losses_eval.append(epoch_loss_on_test)\n",
        "    f1s_eval.append(f1_value_on_test)"
      ],
      "metadata": {
        "colab": {
          "base_uri": "https://localhost:8080/"
        },
        "id": "qPc22hX0JxKa",
        "outputId": "abaffc0b-924a-4f40-b658-816e61879a88"
      },
      "execution_count": 140,
      "outputs": [
        {
          "output_type": "stream",
          "name": "stdout",
          "text": [
            "\n",
            "starting Epoch 1\n",
            "Training...\n",
            "Train f1: 0.21280838549137115, Train loss: 0.4916727453672967\n",
            "Train f1: 0.4251651167869568, Train loss: 0.9834270870604482\n",
            "\n",
            "Validating...\n",
            "\n",
            "starting Epoch 2\n",
            "Training...\n",
            "Train f1: 0.21224993467330933, Train loss: 0.49083625621536153\n",
            "Train f1: 0.4264892339706421, Train loss: 0.9811464933311047\n",
            "\n",
            "Validating...\n",
            "\n",
            "starting Epoch 3\n",
            "Training...\n",
            "Train f1: 0.21310342848300934, Train loss: 0.49066454537060794\n",
            "Train f1: 0.4272598922252655, Train loss: 0.9806973516535596\n",
            "\n",
            "Validating...\n",
            "\n",
            "starting Epoch 4\n",
            "Training...\n",
            "Train f1: 0.2143711894750595, Train loss: 0.4892295813884865\n",
            "Train f1: 0.42853859066963196, Train loss: 0.9787610801709753\n",
            "\n",
            "Validating...\n",
            "\n",
            "starting Epoch 5\n",
            "Training...\n",
            "Train f1: 0.21641585230827332, Train loss: 0.48745338000407834\n",
            "Train f1: 0.42728206515312195, Train loss: 0.9806739898765979\n",
            "\n",
            "Validating...\n",
            "\n",
            "starting Epoch 6\n",
            "Training...\n",
            "Train f1: 0.21552595496177673, Train loss: 0.4887404186385019\n",
            "Train f1: 0.427407443523407, Train loss: 0.9803791285372104\n",
            "\n",
            "Validating...\n"
          ]
        }
      ]
    },
    {
      "cell_type": "code",
      "source": [
        "import matplotlib.pyplot as plt\n",
        "plt.plot(losses)\n",
        "plt.plot(losses_eval)\n",
        "plt.title('BCE loss value')\n",
        "plt.ylabel('BCE loss')\n",
        "plt.xlabel('epoch')\n",
        "plt.legend(['train', 'val'], loc='upper right')\n",
        "plt.show()"
      ],
      "metadata": {
        "colab": {
          "base_uri": "https://localhost:8080/",
          "height": 295
        },
        "id": "l3FNHgJZJysS",
        "outputId": "f8220f46-39ec-4929-f640-c338e323265c"
      },
      "execution_count": 141,
      "outputs": [
        {
          "output_type": "display_data",
          "data": {
            "image/png": "[encoded data removed]",
            "text/plain": [
              "<Figure size 432x288 with 1 Axes>"
            ]
          },
          "metadata": {
            "needs_background": "light"
          }
        }
      ]
    },
    {
      "cell_type": "code",
      "source": [
        "import matplotlib.pyplot as plt\n",
        "plt.plot(f1s)\n",
        "plt.plot(f1s_eval)\n",
        "plt.title('F1 value')\n",
        "plt.ylabel('F1 loss')\n",
        "plt.xlabel('epoch')\n",
        "plt.legend(['train', 'val'], loc='upper right')\n",
        "plt.show()"
      ],
      "metadata": {
        "colab": {
          "base_uri": "https://localhost:8080/",
          "height": 295
        },
        "id": "g05yU0RwJzo_",
        "outputId": "7e26cb9d-ad6b-42b0-b909-99bb85de18c2"
      },
      "execution_count": 142,
      "outputs": [
        {
          "output_type": "display_data",
          "data": {
            "image/png": "[encoded data removed]",
            "text/plain": [
              "<Figure size 432x288 with 1 Axes>"
            ]
          },
          "metadata": {
            "needs_background": "light"
          }
        }
      ]
    },
    {
      "cell_type": "code",
      "source": [
        "#drop=last #filter=[2]\n",
        "model = C_LSTM(max_len=MAX_LEN, filter_sizes=[2], vocab_size=len(word2id),\n",
        "               embedding_dim=300, filter_num=1, drop='last', \n",
        "               hidden=150, num_layers=1, weights=weights, dropout_number=0.5) \n",
        "optimizer = RMSprop(model.parameters(), lr=0.001, weight_decay=0.0001)\n",
        "# веса модели и значения лосса храним там же, где и все остальные тензоры\n",
        "model = model.to(DEVICE)"
      ],
      "metadata": {
        "id": "0KlqxlThJ1nz"
      },
      "execution_count": 143,
      "outputs": []
    },
    {
      "cell_type": "code",
      "source": [
        "losses = []\n",
        "losses_eval = []\n",
        "f1s = []\n",
        "f1s_eval = []\n",
        "\n",
        "for i in range(6):\n",
        "    print(f'\\nstarting Epoch {i+1}')\n",
        "    f1_value, epoch_loss = train(model, train_iterator, optimizer, criterion, f1, DEVICE)\n",
        "    losses.append(epoch_loss)\n",
        "    f1s.append(f1_value)\n",
        "\n",
        "    f1_value_on_test, epoch_loss_on_test = evaluate(model, val_iterator, criterion, f1, DEVICE)\n",
        "    losses_eval.append(epoch_loss_on_test)\n",
        "    f1s_eval.append(f1_value_on_test)"
      ],
      "metadata": {
        "colab": {
          "base_uri": "https://localhost:8080/"
        },
        "id": "QWnJsmPDJ7kj",
        "outputId": "61e54aae-885e-4afa-dcfe-23c5868ac655"
      },
      "execution_count": 145,
      "outputs": [
        {
          "output_type": "stream",
          "name": "stdout",
          "text": [
            "\n",
            "starting Epoch 1\n",
            "Training...\n",
            "Train f1: 0.2265556901693344, Train loss: 0.477355314760792\n",
            "Train f1: 0.44888460636138916, Train loss: 0.9588205031797189\n",
            "\n",
            "Validating...\n",
            "\n",
            "starting Epoch 2\n",
            "Training...\n",
            "Train f1: 0.21357835829257965, Train loss: 0.48929717183924043\n",
            "Train f1: 0.4326975643634796, Train loss: 0.974378436195607\n",
            "\n",
            "Validating...\n",
            "\n",
            "starting Epoch 3\n",
            "Training...\n",
            "Train f1: 0.18188460171222687, Train loss: 0.5206770446835732\n",
            "Train f1: 0.36356818675994873, Train loss: 1.0414122955328753\n",
            "\n",
            "Validating...\n",
            "\n",
            "starting Epoch 4\n",
            "Training...\n",
            "Train f1: 0.17146721482276917, Train loss: 0.5302102269769526\n",
            "Train f1: 0.30192306637763977, Train loss: 1.100257041502972\n",
            "\n",
            "Validating...\n",
            "\n",
            "starting Epoch 5\n",
            "Training...\n",
            "Train f1: 0.15922914445400238, Train loss: 0.5425086329583408\n",
            "Train f1: 0.36585375666618347, Train loss: 1.0384257346594414\n",
            "\n",
            "Validating...\n",
            "\n",
            "starting Epoch 6\n",
            "Training...\n",
            "Train f1: 0.21541425585746765, Train loss: 0.4880050858672784\n",
            "Train f1: 0.4332275092601776, Train loss: 0.9734950552181322\n",
            "\n",
            "Validating...\n"
          ]
        }
      ]
    },
    {
      "cell_type": "code",
      "source": [
        "import matplotlib.pyplot as plt\n",
        "plt.plot(losses)\n",
        "plt.plot(losses_eval)\n",
        "plt.title('BCE loss value')\n",
        "plt.ylabel('BCE loss')\n",
        "plt.xlabel('epoch')\n",
        "plt.legend(['train', 'val'], loc='upper right')\n",
        "plt.show()"
      ],
      "metadata": {
        "colab": {
          "base_uri": "https://localhost:8080/",
          "height": 295
        },
        "id": "veuosF-YJ8ox",
        "outputId": "30d0a73c-d852-4576-83eb-cfb9050f8f48"
      },
      "execution_count": 146,
      "outputs": [
        {
          "output_type": "display_data",
          "data": {
            "image/png": "[encoded data removed]",
            "text/plain": [
              "<Figure size 432x288 with 1 Axes>"
            ]
          },
          "metadata": {
            "needs_background": "light"
          }
        }
      ]
    },
    {
      "cell_type": "code",
      "source": [
        "import matplotlib.pyplot as plt\n",
        "plt.plot(f1s)\n",
        "plt.plot(f1s_eval)\n",
        "plt.title('F1 value')\n",
        "plt.ylabel('F1 loss')\n",
        "plt.xlabel('epoch')\n",
        "plt.legend(['train', 'val'], loc='upper right')\n",
        "plt.show()"
      ],
      "metadata": {
        "colab": {
          "base_uri": "https://localhost:8080/",
          "height": 295
        },
        "id": "Hzinh9lcJ900",
        "outputId": "181316f4-f994-4abb-c534-ea7a26e194e5"
      },
      "execution_count": 147,
      "outputs": [
        {
          "output_type": "display_data",
          "data": {
            "image/png": "[encoded data removed]",
            "text/plain": [
              "<Figure size 432x288 with 1 Axes>"
            ]
          },
          "metadata": {
            "needs_background": "light"
          }
        }
      ]
    },
    {
      "cell_type": "code",
      "source": [
        "#drop=last #filter=[3]\n",
        "model = C_LSTM(max_len=MAX_LEN, filter_sizes=[3], vocab_size=len(word2id),\n",
        "               embedding_dim=300, filter_num=1, drop='last', \n",
        "               hidden=150, num_layers=1, weights=weights, dropout_number=0.5) \n",
        "optimizer = RMSprop(model.parameters(), lr=0.001, weight_decay=0.0001)\n",
        "# веса модели и значения лосса храним там же, где и все остальные тензоры\n",
        "model = model.to(DEVICE)"
      ],
      "metadata": {
        "id": "QIY840D3KHVI"
      },
      "execution_count": 148,
      "outputs": []
    },
    {
      "cell_type": "code",
      "source": [
        "losses = []\n",
        "losses_eval = []\n",
        "f1s = []\n",
        "f1s_eval = []\n",
        "\n",
        "for i in range(6):\n",
        "    print(f'\\nstarting Epoch {i+1}')\n",
        "    f1_value, epoch_loss = train(model, train_iterator, optimizer, criterion, f1, DEVICE)\n",
        "    losses.append(epoch_loss)\n",
        "    f1s.append(f1_value)\n",
        "\n",
        "    f1_value_on_test, epoch_loss_on_test = evaluate(model, val_iterator, criterion, f1, DEVICE)\n",
        "    losses_eval.append(epoch_loss_on_test)\n",
        "    f1s_eval.append(f1_value_on_test)"
      ],
      "metadata": {
        "colab": {
          "base_uri": "https://localhost:8080/"
        },
        "id": "IoXfq7MBKKQJ",
        "outputId": "9f0001ca-af94-4bfb-a968-b2bd406da3ec"
      },
      "execution_count": 149,
      "outputs": [
        {
          "output_type": "stream",
          "name": "stdout",
          "text": [
            "\n",
            "starting Epoch 1\n",
            "Training...\n",
            "Train f1: 0.18910354375839233, Train loss: 0.5103675767677982\n",
            "Train f1: 0.401265412569046, Train loss: 1.0028567038425782\n",
            "\n",
            "Validating...\n",
            "\n",
            "starting Epoch 2\n",
            "Training...\n",
            "Train f1: 0.21294265985488892, Train loss: 0.4905381587897839\n",
            "Train f1: 0.42572665214538574, Train loss: 0.9817458091138982\n",
            "\n",
            "Validating...\n",
            "\n",
            "starting Epoch 3\n",
            "Training...\n",
            "Train f1: 0.2135477513074875, Train loss: 0.49037613998464985\n",
            "Train f1: 0.4297671318054199, Train loss: 0.9773661392886622\n",
            "\n",
            "Validating...\n",
            "\n",
            "starting Epoch 4\n",
            "Training...\n",
            "Train f1: 0.2151133120059967, Train loss: 0.48852938819093766\n",
            "Train f1: 0.4309217035770416, Train loss: 0.9756634069137833\n",
            "\n",
            "Validating...\n",
            "\n",
            "starting Epoch 5\n",
            "Training...\n",
            "Train f1: 0.21749666333198547, Train loss: 0.4860300900173836\n",
            "Train f1: 0.4349563717842102, Train loss: 0.9716950257619222\n",
            "\n",
            "Validating...\n",
            "\n",
            "starting Epoch 6\n",
            "Training...\n",
            "Train f1: 0.21179355680942535, Train loss: 0.491519688748989\n",
            "Train f1: 0.34426844120025635, Train loss: 1.059893858676054\n",
            "\n",
            "Validating...\n"
          ]
        }
      ]
    },
    {
      "cell_type": "code",
      "source": [
        "import matplotlib.pyplot as plt\n",
        "plt.plot(losses)\n",
        "plt.plot(losses_eval)\n",
        "plt.title('BCE loss value')\n",
        "plt.ylabel('BCE loss')\n",
        "plt.xlabel('epoch')\n",
        "plt.legend(['train', 'val'], loc='upper right')\n",
        "plt.show()"
      ],
      "metadata": {
        "colab": {
          "base_uri": "https://localhost:8080/",
          "height": 295
        },
        "id": "ClAosd4PKLvL",
        "outputId": "55b61d24-282b-48d5-8dee-867d1b59f0f0"
      },
      "execution_count": 150,
      "outputs": [
        {
          "output_type": "display_data",
          "data": {
            "image/png": "[encoded data removed]",
            "text/plain": [
              "<Figure size 432x288 with 1 Axes>"
            ]
          },
          "metadata": {
            "needs_background": "light"
          }
        }
      ]
    },
    {
      "cell_type": "code",
      "source": [
        "import matplotlib.pyplot as plt\n",
        "plt.plot(f1s)\n",
        "plt.plot(f1s_eval)\n",
        "plt.title('F1 value')\n",
        "plt.ylabel('F1 loss')\n",
        "plt.xlabel('epoch')\n",
        "plt.legend(['train', 'val'], loc='upper right')\n",
        "plt.show()"
      ],
      "metadata": {
        "colab": {
          "base_uri": "https://localhost:8080/",
          "height": 295
        },
        "id": "q6mBycYQKM8y",
        "outputId": "29b2a28a-b7f8-4dd2-89a2-ba93ada31b95"
      },
      "execution_count": 151,
      "outputs": [
        {
          "output_type": "display_data",
          "data": {
            "image/png": "[encoded data removed]",
            "text/plain": [
              "<Figure size 432x288 with 1 Axes>"
            ]
          },
          "metadata": {
            "needs_background": "light"
          }
        }
      ]
    },
    {
      "cell_type": "code",
      "source": [
        "#drop=last #filter=[4]\n",
        "model = C_LSTM(max_len=MAX_LEN, filter_sizes=[4], vocab_size=len(word2id),\n",
        "               embedding_dim=300, filter_num=1, drop='last', \n",
        "               hidden=150, num_layers=1, weights=weights, dropout_number=0.5) \n",
        "optimizer = RMSprop(model.parameters(), lr=0.001, weight_decay=0.0001)\n",
        "# веса модели и значения лосса храним там же, где и все остальные тензоры\n",
        "model = model.to(DEVICE)"
      ],
      "metadata": {
        "id": "7U99z--wKOdJ"
      },
      "execution_count": 152,
      "outputs": []
    },
    {
      "cell_type": "code",
      "source": [
        "losses = []\n",
        "losses_eval = []\n",
        "f1s = []\n",
        "f1s_eval = []\n",
        "\n",
        "for i in range(6):\n",
        "    print(f'\\nstarting Epoch {i+1}')\n",
        "    f1_value, epoch_loss = train(model, train_iterator, optimizer, criterion, f1, DEVICE)\n",
        "    losses.append(epoch_loss)\n",
        "    f1s.append(f1_value)\n",
        "\n",
        "    f1_value_on_test, epoch_loss_on_test = evaluate(model, val_iterator, criterion, f1, DEVICE)\n",
        "    losses_eval.append(epoch_loss_on_test)\n",
        "    f1s_eval.append(f1_value_on_test)"
      ],
      "metadata": {
        "colab": {
          "base_uri": "https://localhost:8080/"
        },
        "id": "yQqja1kNKRF5",
        "outputId": "2fcccd4f-fea9-4f8f-cb53-ac259f274c5d"
      },
      "execution_count": 153,
      "outputs": [
        {
          "output_type": "stream",
          "name": "stdout",
          "text": [
            "\n",
            "starting Epoch 1\n",
            "Training...\n",
            "Train f1: 0.2085001915693283, Train loss: 0.49589986866023267\n",
            "Train f1: 0.41979074478149414, Train loss: 0.9887768090987692\n",
            "\n",
            "Validating...\n",
            "\n",
            "starting Epoch 2\n",
            "Training...\n",
            "Train f1: 0.2148430198431015, Train loss: 0.4890457010593544\n",
            "Train f1: 0.42826220393180847, Train loss: 0.9801106732718798\n",
            "\n",
            "Validating...\n",
            "\n",
            "starting Epoch 3\n",
            "Training...\n",
            "Train f1: 0.2127341479063034, Train loss: 0.4912679799559976\n",
            "Train f1: 0.42552289366722107, Train loss: 0.9825738660332297\n",
            "\n",
            "Validating...\n",
            "\n",
            "starting Epoch 4\n",
            "Training...\n",
            "Train f1: 0.21503780782222748, Train loss: 0.48851853771274595\n",
            "Train f1: 0.4279383718967438, Train loss: 0.9797252444993882\n",
            "\n",
            "Validating...\n",
            "\n",
            "starting Epoch 5\n",
            "Training...\n",
            "Train f1: 0.21145367622375488, Train loss: 0.49245531137297754\n",
            "Train f1: 0.42743727564811707, Train loss: 0.980774530342647\n",
            "\n",
            "Validating...\n",
            "\n",
            "starting Epoch 6\n",
            "Training...\n",
            "Train f1: 0.21175803244113922, Train loss: 0.4922168469753395\n",
            "Train f1: 0.4297250807285309, Train loss: 0.9786693534883512\n",
            "\n",
            "Validating...\n"
          ]
        }
      ]
    },
    {
      "cell_type": "code",
      "source": [
        "import matplotlib.pyplot as plt\n",
        "plt.plot(losses)\n",
        "plt.plot(losses_eval)\n",
        "plt.title('BCE loss value')\n",
        "plt.ylabel('BCE loss')\n",
        "plt.xlabel('epoch')\n",
        "plt.legend(['train', 'val'], loc='upper right')\n",
        "plt.show()"
      ],
      "metadata": {
        "colab": {
          "base_uri": "https://localhost:8080/",
          "height": 295
        },
        "id": "UCApbtbNKSSr",
        "outputId": "eda63775-de0b-42da-be6a-0803e7b46f9a"
      },
      "execution_count": 154,
      "outputs": [
        {
          "output_type": "display_data",
          "data": {
            "image/png": "[encoded data removed]",
            "text/plain": [
              "<Figure size 432x288 with 1 Axes>"
            ]
          },
          "metadata": {
            "needs_background": "light"
          }
        }
      ]
    },
    {
      "cell_type": "code",
      "source": [
        "import matplotlib.pyplot as plt\n",
        "plt.plot(f1s)\n",
        "plt.plot(f1s_eval)\n",
        "plt.title('F1 value')\n",
        "plt.ylabel('F1 loss')\n",
        "plt.xlabel('epoch')\n",
        "plt.legend(['train', 'val'], loc='upper right')\n",
        "plt.show()"
      ],
      "metadata": {
        "colab": {
          "base_uri": "https://localhost:8080/",
          "height": 295
        },
        "id": "0aBw5sZrKTwt",
        "outputId": "fdd13dc7-1f35-4bec-979e-fabd963ca1ec"
      },
      "execution_count": 155,
      "outputs": [
        {
          "output_type": "display_data",
          "data": {
            "image/png": "[encoded data removed]",
            "text/plain": [
              "<Figure size 432x288 with 1 Axes>"
            ]
          },
          "metadata": {
            "needs_background": "light"
          }
        }
      ]
    },
    {
      "cell_type": "code",
      "source": [
        "#drop=last #filter=[2,3]\n",
        "model = C_LSTM(max_len=MAX_LEN, filter_sizes=[2,3], vocab_size=len(word2id),\n",
        "               embedding_dim=300, filter_num=2, drop='last', \n",
        "               hidden=150, num_layers=1, weights=weights, dropout_number=0.5) \n",
        "optimizer = RMSprop(model.parameters(), lr=0.001, weight_decay=0.0001)\n",
        "# веса модели и значения лосса храним там же, где и все остальные тензоры\n",
        "model = model.to(DEVICE)"
      ],
      "metadata": {
        "id": "iFVE5L8EKVET"
      },
      "execution_count": 156,
      "outputs": []
    },
    {
      "cell_type": "code",
      "source": [
        "losses = []\n",
        "losses_eval = []\n",
        "f1s = []\n",
        "f1s_eval = []\n",
        "\n",
        "for i in range(6):\n",
        "    print(f'\\nstarting Epoch {i+1}')\n",
        "    f1_value, epoch_loss = train(model, train_iterator, optimizer, criterion, f1, DEVICE)\n",
        "    losses.append(epoch_loss)\n",
        "    f1s.append(f1_value)\n",
        "\n",
        "    f1_value_on_test, epoch_loss_on_test = evaluate(model, val_iterator, criterion, f1, DEVICE)\n",
        "    losses_eval.append(epoch_loss_on_test)\n",
        "    f1s_eval.append(f1_value_on_test)"
      ],
      "metadata": {
        "colab": {
          "base_uri": "https://localhost:8080/"
        },
        "id": "JNkhotdGKYji",
        "outputId": "cee613c9-672f-4643-f850-9a7e886167ec"
      },
      "execution_count": 157,
      "outputs": [
        {
          "output_type": "stream",
          "name": "stdout",
          "text": [
            "\n",
            "starting Epoch 1\n",
            "Training...\n",
            "Train f1: 0.20099295675754547, Train loss: 0.5029096011401845\n",
            "Train f1: 0.3894520103931427, Train loss: 1.0171922595322538\n",
            "\n",
            "Validating...\n",
            "\n",
            "starting Epoch 2\n",
            "Training...\n",
            "Train f1: 0.20956328511238098, Train loss: 0.4940379022740993\n",
            "Train f1: 0.4272407293319702, Train loss: 0.979498127285315\n",
            "\n",
            "Validating...\n",
            "\n",
            "starting Epoch 3\n",
            "Training...\n",
            "Train f1: 0.21679319441318512, Train loss: 0.4859672144156735\n",
            "Train f1: 0.4374711811542511, Train loss: 0.9685811242278741\n",
            "\n",
            "Validating...\n",
            "\n",
            "starting Epoch 4\n",
            "Training...\n",
            "Train f1: 0.21922726929187775, Train loss: 0.48462861046499134\n",
            "Train f1: 0.44506117701530457, Train loss: 0.9617856959907376\n",
            "\n",
            "Validating...\n",
            "\n",
            "starting Epoch 5\n",
            "Training...\n",
            "Train f1: 0.2203906774520874, Train loss: 0.48261446409484965\n",
            "Train f1: 0.44668111205101013, Train loss: 0.959465982557154\n",
            "\n",
            "Validating...\n",
            "\n",
            "starting Epoch 6\n",
            "Training...\n",
            "Train f1: 0.22845207154750824, Train loss: 0.4738038575568167\n",
            "Train f1: 0.44645363092422485, Train loss: 0.9597398095390424\n",
            "\n",
            "Validating...\n"
          ]
        }
      ]
    },
    {
      "cell_type": "code",
      "source": [
        "import matplotlib.pyplot as plt\n",
        "plt.plot(losses)\n",
        "plt.plot(losses_eval)\n",
        "plt.title('BCE loss value')\n",
        "plt.ylabel('BCE loss')\n",
        "plt.xlabel('epoch')\n",
        "plt.legend(['train', 'val'], loc='upper right')\n",
        "plt.show()"
      ],
      "metadata": {
        "colab": {
          "base_uri": "https://localhost:8080/",
          "height": 295
        },
        "id": "BrqRpXQDKZ2E",
        "outputId": "3744de87-ec38-4ac5-acea-7706caf98489"
      },
      "execution_count": 158,
      "outputs": [
        {
          "output_type": "display_data",
          "data": {
            "image/png": "[encoded data removed]",
            "text/plain": [
              "<Figure size 432x288 with 1 Axes>"
            ]
          },
          "metadata": {
            "needs_background": "light"
          }
        }
      ]
    },
    {
      "cell_type": "code",
      "source": [
        "import matplotlib.pyplot as plt\n",
        "plt.plot(f1s)\n",
        "plt.plot(f1s_eval)\n",
        "plt.title('F1 value')\n",
        "plt.ylabel('F1 loss')\n",
        "plt.xlabel('epoch')\n",
        "plt.legend(['train', 'val'], loc='upper right')\n",
        "plt.show()"
      ],
      "metadata": {
        "colab": {
          "base_uri": "https://localhost:8080/",
          "height": 295
        },
        "id": "lrvfCaGiKbHC",
        "outputId": "5e701e75-71eb-4d16-b1b6-3e7dba302d72"
      },
      "execution_count": 159,
      "outputs": [
        {
          "output_type": "display_data",
          "data": {
            "image/png": "[encoded data removed]",
            "text/plain": [
              "<Figure size 432x288 with 1 Axes>"
            ]
          },
          "metadata": {
            "needs_background": "light"
          }
        }
      ]
    },
    {
      "cell_type": "code",
      "source": [
        "#drop=last #filter=[3,4]\n",
        "model = C_LSTM(max_len=MAX_LEN, filter_sizes=[3,4], vocab_size=len(word2id),\n",
        "               embedding_dim=300, filter_num=2, drop='last', \n",
        "               hidden=150, num_layers=1, weights=weights, dropout_number=0.5) \n",
        "optimizer = RMSprop(model.parameters(), lr=0.001, weight_decay=0.0001)\n",
        "# веса модели и значения лосса храним там же, где и все остальные тензоры\n",
        "model = model.to(DEVICE)"
      ],
      "metadata": {
        "id": "6rqcsw8TKcUJ"
      },
      "execution_count": 160,
      "outputs": []
    },
    {
      "cell_type": "code",
      "source": [
        "losses = []\n",
        "losses_eval = []\n",
        "f1s = []\n",
        "f1s_eval = []\n",
        "\n",
        "for i in range(6):\n",
        "    print(f'\\nstarting Epoch {i+1}')\n",
        "    f1_value, epoch_loss = train(model, train_iterator, optimizer, criterion, f1, DEVICE)\n",
        "    losses.append(epoch_loss)\n",
        "    f1s.append(f1_value)\n",
        "\n",
        "    f1_value_on_test, epoch_loss_on_test = evaluate(model, val_iterator, criterion, f1, DEVICE)\n",
        "    losses_eval.append(epoch_loss_on_test)\n",
        "    f1s_eval.append(f1_value_on_test)"
      ],
      "metadata": {
        "colab": {
          "base_uri": "https://localhost:8080/"
        },
        "id": "eFyoAawJKd0i",
        "outputId": "2a124f56-b927-4f4a-d011-ef8f267b6a96"
      },
      "execution_count": 161,
      "outputs": [
        {
          "output_type": "stream",
          "name": "stdout",
          "text": [
            "\n",
            "starting Epoch 1\n",
            "Training...\n",
            "Train f1: 0.20706848800182343, Train loss: 0.49740657068434213\n",
            "Train f1: 0.4242780804634094, Train loss: 0.9841037084456203\n",
            "\n",
            "Validating...\n",
            "\n",
            "starting Epoch 2\n",
            "Training...\n",
            "Train f1: 0.21462173759937286, Train loss: 0.48984897542162004\n",
            "Train f1: 0.42774444818496704, Train loss: 0.9806639750798544\n",
            "\n",
            "Validating...\n",
            "\n",
            "starting Epoch 3\n",
            "Training...\n",
            "Train f1: 0.2144874632358551, Train loss: 0.48961979677888\n",
            "Train f1: 0.42948728799819946, Train loss: 0.9782752135172993\n",
            "\n",
            "Validating...\n",
            "\n",
            "starting Epoch 4\n",
            "Training...\n",
            "Train f1: 0.2134481817483902, Train loss: 0.49069369650211464\n",
            "Train f1: 0.42618483304977417, Train loss: 0.9817978703245824\n",
            "\n",
            "Validating...\n",
            "\n",
            "starting Epoch 5\n",
            "Training...\n",
            "Train f1: 0.21197983622550964, Train loss: 0.4916548295085933\n",
            "Train f1: 0.42624667286872864, Train loss: 0.9821645905371426\n",
            "\n",
            "Validating...\n",
            "\n",
            "starting Epoch 6\n",
            "Training...\n",
            "Train f1: 0.21584944427013397, Train loss: 0.4878792264023606\n",
            "Train f1: 0.42753660678863525, Train loss: 0.9801406138608245\n",
            "\n",
            "Validating...\n"
          ]
        }
      ]
    },
    {
      "cell_type": "code",
      "source": [
        "import matplotlib.pyplot as plt\n",
        "plt.plot(losses)\n",
        "plt.plot(losses_eval)\n",
        "plt.title('BCE loss value')\n",
        "plt.ylabel('BCE loss')\n",
        "plt.xlabel('epoch')\n",
        "plt.legend(['train', 'val'], loc='upper right')\n",
        "plt.show()"
      ],
      "metadata": {
        "colab": {
          "base_uri": "https://localhost:8080/",
          "height": 295
        },
        "id": "WyK_FHixKfUU",
        "outputId": "85cf98bd-5789-4feb-8028-61861f7996e7"
      },
      "execution_count": 162,
      "outputs": [
        {
          "output_type": "display_data",
          "data": {
            "image/png": "[encoded data removed]",
            "text/plain": [
              "<Figure size 432x288 with 1 Axes>"
            ]
          },
          "metadata": {
            "needs_background": "light"
          }
        }
      ]
    },
    {
      "cell_type": "code",
      "source": [
        "import matplotlib.pyplot as plt\n",
        "plt.plot(f1s)\n",
        "plt.plot(f1s_eval)\n",
        "plt.title('F1 value')\n",
        "plt.ylabel('F1 loss')\n",
        "plt.xlabel('epoch')\n",
        "plt.legend(['train', 'val'], loc='upper right')\n",
        "plt.show()"
      ],
      "metadata": {
        "colab": {
          "base_uri": "https://localhost:8080/",
          "height": 295
        },
        "id": "12qac7IsKghq",
        "outputId": "afa82e8e-288a-4089-cfbb-87ed0f9039ac"
      },
      "execution_count": 163,
      "outputs": [
        {
          "output_type": "display_data",
          "data": {
            "image/png": "[encoded data removed]",
            "text/plain": [
              "<Figure size 432x288 with 1 Axes>"
            ]
          },
          "metadata": {
            "needs_background": "light"
          }
        }
      ]
    },
    {
      "cell_type": "code",
      "source": [
        "#drop=last #filter=[2,3,4]\n",
        "model = C_LSTM(max_len=MAX_LEN, filter_sizes=[2,3,4], vocab_size=len(word2id),\n",
        "               embedding_dim=300, filter_num=3, drop='last', \n",
        "               hidden=150, num_layers=1, weights=weights, dropout_number=0.5) \n",
        "optimizer = RMSprop(model.parameters(), lr=0.001, weight_decay=0.0001)\n",
        "# веса модели и значения лосса храним там же, где и все остальные тензоры\n",
        "model = model.to(DEVICE)"
      ],
      "metadata": {
        "id": "CVh-mNd6KiCy"
      },
      "execution_count": 164,
      "outputs": []
    },
    {
      "cell_type": "code",
      "source": [
        "losses = []\n",
        "losses_eval = []\n",
        "f1s = []\n",
        "f1s_eval = []\n",
        "\n",
        "for i in range(6):\n",
        "    print(f'\\nstarting Epoch {i+1}')\n",
        "    f1_value, epoch_loss = train(model, train_iterator, optimizer, criterion, f1, DEVICE)\n",
        "    losses.append(epoch_loss)\n",
        "    f1s.append(f1_value)\n",
        "\n",
        "    f1_value_on_test, epoch_loss_on_test = evaluate(model, val_iterator, criterion, f1, DEVICE)\n",
        "    losses_eval.append(epoch_loss_on_test)\n",
        "    f1s_eval.append(f1_value_on_test)"
      ],
      "metadata": {
        "colab": {
          "base_uri": "https://localhost:8080/"
        },
        "id": "2XM7dlO3KmoC",
        "outputId": "8c3cc0b6-e9af-448e-cba7-211ceb4bc914"
      },
      "execution_count": 165,
      "outputs": [
        {
          "output_type": "stream",
          "name": "stdout",
          "text": [
            "\n",
            "starting Epoch 1\n",
            "Training...\n",
            "Train f1: 0.19172126054763794, Train loss: 0.5100991227188889\n",
            "Train f1: 0.4056222438812256, Train loss: 1.0000674834056777\n",
            "\n",
            "Validating...\n",
            "\n",
            "starting Epoch 2\n",
            "Training...\n",
            "Train f1: 0.21230001747608185, Train loss: 0.4909879690935823\n",
            "Train f1: 0.3914268910884857, Train loss: 1.0134555839356922\n",
            "\n",
            "Validating...\n",
            "\n",
            "starting Epoch 3\n",
            "Training...\n",
            "Train f1: 0.15629322826862335, Train loss: 0.5448544925572921\n",
            "Train f1: 0.28466376662254333, Train loss: 1.1169152162512954\n",
            "\n",
            "Validating...\n",
            "\n",
            "starting Epoch 4\n",
            "Training...\n",
            "Train f1: 0.2036745399236679, Train loss: 0.5001264676755789\n",
            "Train f1: 0.41761064529418945, Train loss: 0.9890505460654797\n",
            "\n",
            "Validating...\n",
            "\n",
            "starting Epoch 5\n",
            "Training...\n",
            "Train f1: 0.2176344245672226, Train loss: 0.4859354824435954\n",
            "Train f1: 0.43363499641418457, Train loss: 0.9729913217680795\n",
            "\n",
            "Validating...\n",
            "\n",
            "starting Epoch 6\n",
            "Training...\n",
            "Train f1: 0.2195659726858139, Train loss: 0.4837482299934439\n",
            "Train f1: 0.437122106552124, Train loss: 0.9685505940800622\n",
            "\n",
            "Validating...\n"
          ]
        }
      ]
    },
    {
      "cell_type": "code",
      "source": [
        "import matplotlib.pyplot as plt\n",
        "plt.plot(losses)\n",
        "plt.plot(losses_eval)\n",
        "plt.title('BCE loss value')\n",
        "plt.ylabel('BCE loss')\n",
        "plt.xlabel('epoch')\n",
        "plt.legend(['train', 'val'], loc='upper right')\n",
        "plt.show()"
      ],
      "metadata": {
        "colab": {
          "base_uri": "https://localhost:8080/",
          "height": 295
        },
        "id": "xSYjVFeDKoba",
        "outputId": "51b3e270-9849-45be-ee16-19af81a5cf2e"
      },
      "execution_count": 166,
      "outputs": [
        {
          "output_type": "display_data",
          "data": {
            "image/png": "[encoded data removed]",
            "text/plain": [
              "<Figure size 432x288 with 1 Axes>"
            ]
          },
          "metadata": {
            "needs_background": "light"
          }
        }
      ]
    },
    {
      "cell_type": "code",
      "source": [
        "import matplotlib.pyplot as plt\n",
        "plt.plot(f1s)\n",
        "plt.plot(f1s_eval)\n",
        "plt.title('F1 value')\n",
        "plt.ylabel('F1 loss')\n",
        "plt.xlabel('epoch')\n",
        "plt.legend(['train', 'val'], loc='upper right')\n",
        "plt.show()"
      ],
      "metadata": {
        "colab": {
          "base_uri": "https://localhost:8080/",
          "height": 295
        },
        "id": "q0XljhSHKp9k",
        "outputId": "785a3c5c-fc67-4bfe-e5fe-e7466dc760f8"
      },
      "execution_count": 167,
      "outputs": [
        {
          "output_type": "display_data",
          "data": {
            "image/png": "[encoded data removed]",
            "text/plain": [
              "<Figure size 432x288 with 1 Axes>"
            ]
          },
          "metadata": {
            "needs_background": "light"
          }
        }
      ]
    },
    {
      "cell_type": "markdown",
      "source": [
        "У меня ничего не сработало, здоровья пошибшим"
      ],
      "metadata": {
        "id": "b1ksdTjzQfVu"
      }
    }
  ],
  "metadata": {
    "accelerator": "GPU",
    "colab": {
      "collapsed_sections": [],
      "name": "hw3 (2).ipynb",
      "provenance": []
    },
    "kernelspec": {
      "display_name": "Python 3",
      "name": "python3"
    },
    "language_info": {
      "name": "python"
    }
  },
  "nbformat": 4,
  "nbformat_minor": 0
}