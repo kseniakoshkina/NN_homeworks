{
  "nbformat": 4,
  "nbformat_minor": 0,
  "metadata": {
    "colab": {
      "name": "hw2.ipynb",
      "provenance": [],
      "collapsed_sections": []
    },
    "kernelspec": {
      "name": "python3",
      "display_name": "Python 3"
    },
    "language_info": {
      "name": "python"
    },
    "accelerator": "GPU"
  },
  "cells": [
    {
      "cell_type": "code",
      "metadata": {
        "id": "1vy449a09kC5",
        "colab": {
          "base_uri": "https://localhost:8080/",
          "height": 870
        },
        "outputId": "53921bb1-be87-48c5-dac7-847c87f5691a"
      },
      "source": [
        "! pip install ipdb"
      ],
      "execution_count": 1,
      "outputs": [
        {
          "output_type": "stream",
          "name": "stdout",
          "text": [
            "Collecting ipdb\n",
            "  Downloading ipdb-0.13.9.tar.gz (16 kB)\n",
            "Requirement already satisfied: setuptools in /usr/local/lib/python3.7/dist-packages (from ipdb) (57.4.0)\n",
            "Collecting ipython>=7.17.0\n",
            "  Downloading ipython-7.29.0-py3-none-any.whl (790 kB)\n",
            "\u001b[K     |████████████████████████████████| 790 kB 5.3 MB/s \n",
            "\u001b[?25hRequirement already satisfied: toml>=0.10.2 in /usr/local/lib/python3.7/dist-packages (from ipdb) (0.10.2)\n",
            "Requirement already satisfied: decorator in /usr/local/lib/python3.7/dist-packages (from ipdb) (4.4.2)\n",
            "Collecting prompt-toolkit!=3.0.0,!=3.0.1,<3.1.0,>=2.0.0\n",
            "  Downloading prompt_toolkit-3.0.22-py3-none-any.whl (374 kB)\n",
            "\u001b[K     |████████████████████████████████| 374 kB 51.2 MB/s \n",
            "\u001b[?25hRequirement already satisfied: backcall in /usr/local/lib/python3.7/dist-packages (from ipython>=7.17.0->ipdb) (0.2.0)\n",
            "Requirement already satisfied: jedi>=0.16 in /usr/local/lib/python3.7/dist-packages (from ipython>=7.17.0->ipdb) (0.18.1)\n",
            "Requirement already satisfied: matplotlib-inline in /usr/local/lib/python3.7/dist-packages (from ipython>=7.17.0->ipdb) (0.1.3)\n",
            "Requirement already satisfied: pygments in /usr/local/lib/python3.7/dist-packages (from ipython>=7.17.0->ipdb) (2.6.1)\n",
            "Requirement already satisfied: pexpect>4.3 in /usr/local/lib/python3.7/dist-packages (from ipython>=7.17.0->ipdb) (4.8.0)\n",
            "Requirement already satisfied: pickleshare in /usr/local/lib/python3.7/dist-packages (from ipython>=7.17.0->ipdb) (0.7.5)\n",
            "Requirement already satisfied: traitlets>=4.2 in /usr/local/lib/python3.7/dist-packages (from ipython>=7.17.0->ipdb) (5.1.1)\n",
            "Requirement already satisfied: parso<0.9.0,>=0.8.0 in /usr/local/lib/python3.7/dist-packages (from jedi>=0.16->ipython>=7.17.0->ipdb) (0.8.2)\n",
            "Requirement already satisfied: ptyprocess>=0.5 in /usr/local/lib/python3.7/dist-packages (from pexpect>4.3->ipython>=7.17.0->ipdb) (0.7.0)\n",
            "Requirement already satisfied: wcwidth in /usr/local/lib/python3.7/dist-packages (from prompt-toolkit!=3.0.0,!=3.0.1,<3.1.0,>=2.0.0->ipython>=7.17.0->ipdb) (0.2.5)\n",
            "Building wheels for collected packages: ipdb\n",
            "  Building wheel for ipdb (setup.py) ... \u001b[?25l\u001b[?25hdone\n",
            "  Created wheel for ipdb: filename=ipdb-0.13.9-py3-none-any.whl size=11648 sha256=96751737ac1f3c7c11929f601e581a2677dfaadd35c4472139bea896a3641462\n",
            "  Stored in directory: /root/.cache/pip/wheels/65/cd/cc/aaf92acae337a28fdd2aa4d632196a59745c8c39f76eaeed01\n",
            "Successfully built ipdb\n",
            "Installing collected packages: prompt-toolkit, ipython, ipdb\n",
            "  Attempting uninstall: prompt-toolkit\n",
            "    Found existing installation: prompt-toolkit 1.0.18\n",
            "    Uninstalling prompt-toolkit-1.0.18:\n",
            "      Successfully uninstalled prompt-toolkit-1.0.18\n",
            "  Attempting uninstall: ipython\n",
            "    Found existing installation: ipython 5.5.0\n",
            "    Uninstalling ipython-5.5.0:\n",
            "      Successfully uninstalled ipython-5.5.0\n",
            "\u001b[31mERROR: pip's dependency resolver does not currently take into account all the packages that are installed. This behaviour is the source of the following dependency conflicts.\n",
            "jupyter-console 5.2.0 requires prompt-toolkit<2.0.0,>=1.0.0, but you have prompt-toolkit 3.0.22 which is incompatible.\n",
            "google-colab 1.0.0 requires ipython~=5.5.0, but you have ipython 7.29.0 which is incompatible.\u001b[0m\n",
            "Successfully installed ipdb-0.13.9 ipython-7.29.0 prompt-toolkit-3.0.22\n"
          ]
        },
        {
          "output_type": "display_data",
          "data": {
            "application/vnd.colab-display-data+json": {
              "pip_warning": {
                "packages": [
                  "IPython",
                  "prompt_toolkit"
                ]
              }
            }
          },
          "metadata": {}
        }
      ]
    },
    {
      "cell_type": "code",
      "metadata": {
        "id": "VJYjDAUU9kYN",
        "colab": {
          "base_uri": "https://localhost:8080/"
        },
        "outputId": "a51ef443-1eea-4edc-9b7f-594cc75c15c2"
      },
      "source": [
        "!pip install torchmetrics"
      ],
      "execution_count": 2,
      "outputs": [
        {
          "output_type": "stream",
          "name": "stdout",
          "text": [
            "Collecting torchmetrics\n",
            "  Downloading torchmetrics-0.6.0-py3-none-any.whl (329 kB)\n",
            "\u001b[?25l\r\u001b[K     |█                               | 10 kB 24.6 MB/s eta 0:00:01\r\u001b[K     |██                              | 20 kB 23.9 MB/s eta 0:00:01\r\u001b[K     |███                             | 30 kB 11.1 MB/s eta 0:00:01\r\u001b[K     |████                            | 40 kB 9.0 MB/s eta 0:00:01\r\u001b[K     |█████                           | 51 kB 5.3 MB/s eta 0:00:01\r\u001b[K     |██████                          | 61 kB 5.8 MB/s eta 0:00:01\r\u001b[K     |███████                         | 71 kB 5.6 MB/s eta 0:00:01\r\u001b[K     |████████                        | 81 kB 6.2 MB/s eta 0:00:01\r\u001b[K     |█████████                       | 92 kB 4.8 MB/s eta 0:00:01\r\u001b[K     |██████████                      | 102 kB 5.2 MB/s eta 0:00:01\r\u001b[K     |███████████                     | 112 kB 5.2 MB/s eta 0:00:01\r\u001b[K     |████████████                    | 122 kB 5.2 MB/s eta 0:00:01\r\u001b[K     |█████████████                   | 133 kB 5.2 MB/s eta 0:00:01\r\u001b[K     |██████████████                  | 143 kB 5.2 MB/s eta 0:00:01\r\u001b[K     |███████████████                 | 153 kB 5.2 MB/s eta 0:00:01\r\u001b[K     |████████████████                | 163 kB 5.2 MB/s eta 0:00:01\r\u001b[K     |█████████████████               | 174 kB 5.2 MB/s eta 0:00:01\r\u001b[K     |██████████████████              | 184 kB 5.2 MB/s eta 0:00:01\r\u001b[K     |███████████████████             | 194 kB 5.2 MB/s eta 0:00:01\r\u001b[K     |████████████████████            | 204 kB 5.2 MB/s eta 0:00:01\r\u001b[K     |█████████████████████           | 215 kB 5.2 MB/s eta 0:00:01\r\u001b[K     |█████████████████████▉          | 225 kB 5.2 MB/s eta 0:00:01\r\u001b[K     |██████████████████████▉         | 235 kB 5.2 MB/s eta 0:00:01\r\u001b[K     |███████████████████████▉        | 245 kB 5.2 MB/s eta 0:00:01\r\u001b[K     |████████████████████████▉       | 256 kB 5.2 MB/s eta 0:00:01\r\u001b[K     |█████████████████████████▉      | 266 kB 5.2 MB/s eta 0:00:01\r\u001b[K     |██████████████████████████▉     | 276 kB 5.2 MB/s eta 0:00:01\r\u001b[K     |███████████████████████████▉    | 286 kB 5.2 MB/s eta 0:00:01\r\u001b[K     |████████████████████████████▉   | 296 kB 5.2 MB/s eta 0:00:01\r\u001b[K     |█████████████████████████████▉  | 307 kB 5.2 MB/s eta 0:00:01\r\u001b[K     |██████████████████████████████▉ | 317 kB 5.2 MB/s eta 0:00:01\r\u001b[K     |███████████████████████████████▉| 327 kB 5.2 MB/s eta 0:00:01\r\u001b[K     |████████████████████████████████| 329 kB 5.2 MB/s \n",
            "\u001b[?25hRequirement already satisfied: numpy>=1.17.2 in /usr/local/lib/python3.7/dist-packages (from torchmetrics) (1.19.5)\n",
            "Requirement already satisfied: packaging in /usr/local/lib/python3.7/dist-packages (from torchmetrics) (21.3)\n",
            "Requirement already satisfied: torch>=1.3.1 in /usr/local/lib/python3.7/dist-packages (from torchmetrics) (1.10.0+cu111)\n",
            "Requirement already satisfied: typing-extensions in /usr/local/lib/python3.7/dist-packages (from torch>=1.3.1->torchmetrics) (3.10.0.2)\n",
            "Requirement already satisfied: pyparsing!=3.0.5,>=2.0.2 in /usr/local/lib/python3.7/dist-packages (from packaging->torchmetrics) (3.0.6)\n",
            "Installing collected packages: torchmetrics\n",
            "Successfully installed torchmetrics-0.6.0\n"
          ]
        }
      ]
    },
    {
      "cell_type": "code",
      "metadata": {
        "id": "-qUthEf8oGR3"
      },
      "source": [
        "import pandas as pd\n",
        "import numpy as np\n",
        "from string import punctuation\n",
        "from collections import Counter\n",
        "\n",
        "from sklearn.model_selection import train_test_split\n",
        "from sklearn.utils import shuffle\n",
        "import torch\n",
        "import torch.nn as nn\n",
        "import torch.nn.functional as F\n",
        "from torch.utils.data import Dataset, DataLoader, RandomSampler, SequentialSampler\n",
        "from torch.nn.utils.rnn import pad_sequence\n",
        "import torch.optim as optim\n",
        "from torchmetrics.functional import f1\n",
        "import ipdb"
      ],
      "execution_count": 3,
      "outputs": []
    },
    {
      "cell_type": "code",
      "metadata": {
        "id": "K7I2OkcnoXKr",
        "colab": {
          "base_uri": "https://localhost:8080/"
        },
        "outputId": "e8b30c6b-77e7-4e97-e312-00d8cbd66acf"
      },
      "source": [
        "!wget -O positive.csv https://www.dropbox.com/s/fnpq3z4bcnoktiv/positive.csv?dl=0\n",
        "!wget -O negative.csv https://www.dropbox.com/s/r6u59ljhhjdg6j0/negative.csv?dl=0"
      ],
      "execution_count": 4,
      "outputs": [
        {
          "output_type": "stream",
          "name": "stdout",
          "text": [
            "--2021-11-26 07:58:15--  https://www.dropbox.com/s/fnpq3z4bcnoktiv/positive.csv?dl=0\n",
            "Resolving www.dropbox.com (www.dropbox.com)... 162.125.3.18, 2620:100:6018:18::a27d:312\n",
            "Connecting to www.dropbox.com (www.dropbox.com)|162.125.3.18|:443... connected.\n",
            "HTTP request sent, awaiting response... 301 Moved Permanently\n",
            "Location: /s/raw/fnpq3z4bcnoktiv/positive.csv [following]\n",
            "--2021-11-26 07:58:16--  https://www.dropbox.com/s/raw/fnpq3z4bcnoktiv/positive.csv\n",
            "Reusing existing connection to www.dropbox.com:443.\n",
            "HTTP request sent, awaiting response... 302 Found\n",
            "Location: https://uc30039a90643c83afaa3b04e3a8.dl.dropboxusercontent.com/cd/0/inline/BasVlZsIG8zzmllIDk1xtfs-sZF_GneH291fzdp9hHs25kpj9d83Ws0J1KU2tXLBkTJb0L3vi4HGCPnwCxSV8SktI2Pxl5tpjcBx4JZvcTHJpc0uG31Yi3PZHD094l5ICQkXRfUdWis0wSzbIOpsDTSG/file# [following]\n",
            "--2021-11-26 07:58:16--  https://uc30039a90643c83afaa3b04e3a8.dl.dropboxusercontent.com/cd/0/inline/BasVlZsIG8zzmllIDk1xtfs-sZF_GneH291fzdp9hHs25kpj9d83Ws0J1KU2tXLBkTJb0L3vi4HGCPnwCxSV8SktI2Pxl5tpjcBx4JZvcTHJpc0uG31Yi3PZHD094l5ICQkXRfUdWis0wSzbIOpsDTSG/file\n",
            "Resolving uc30039a90643c83afaa3b04e3a8.dl.dropboxusercontent.com (uc30039a90643c83afaa3b04e3a8.dl.dropboxusercontent.com)... 162.125.3.15, 2620:100:601b:15::a27d:80f\n",
            "Connecting to uc30039a90643c83afaa3b04e3a8.dl.dropboxusercontent.com (uc30039a90643c83afaa3b04e3a8.dl.dropboxusercontent.com)|162.125.3.15|:443... connected.\n",
            "HTTP request sent, awaiting response... 200 OK\n",
            "Length: 26233379 (25M) [text/plain]\n",
            "Saving to: ‘positive.csv’\n",
            "\n",
            "positive.csv        100%[===================>]  25.02M  62.5MB/s    in 0.4s    \n",
            "\n",
            "2021-11-26 07:58:17 (62.5 MB/s) - ‘positive.csv’ saved [26233379/26233379]\n",
            "\n",
            "--2021-11-26 07:58:17--  https://www.dropbox.com/s/r6u59ljhhjdg6j0/negative.csv?dl=0\n",
            "Resolving www.dropbox.com (www.dropbox.com)... 162.125.3.18, 2620:100:6018:18::a27d:312\n",
            "Connecting to www.dropbox.com (www.dropbox.com)|162.125.3.18|:443... connected.\n",
            "HTTP request sent, awaiting response... 301 Moved Permanently\n",
            "Location: /s/raw/r6u59ljhhjdg6j0/negative.csv [following]\n",
            "--2021-11-26 07:58:17--  https://www.dropbox.com/s/raw/r6u59ljhhjdg6j0/negative.csv\n",
            "Reusing existing connection to www.dropbox.com:443.\n",
            "HTTP request sent, awaiting response... 302 Found\n",
            "Location: https://ucc953a002277d441d6c910fbb2e.dl.dropboxusercontent.com/cd/0/inline/BaseH303cjCh9NLvMi2kPoD6khI6RtSB039jHKwEVQGCd9fkiutaaMH_t4iap-1S28_r5kJmCEQ1qK3RWwZsotrkbuiV0PWc_R7IuYCuTFmkqJQ9w1quiy2xbyqNXBhz9mshRIA6OOPP-DDd6KyVfZbT/file# [following]\n",
            "--2021-11-26 07:58:17--  https://ucc953a002277d441d6c910fbb2e.dl.dropboxusercontent.com/cd/0/inline/BaseH303cjCh9NLvMi2kPoD6khI6RtSB039jHKwEVQGCd9fkiutaaMH_t4iap-1S28_r5kJmCEQ1qK3RWwZsotrkbuiV0PWc_R7IuYCuTFmkqJQ9w1quiy2xbyqNXBhz9mshRIA6OOPP-DDd6KyVfZbT/file\n",
            "Resolving ucc953a002277d441d6c910fbb2e.dl.dropboxusercontent.com (ucc953a002277d441d6c910fbb2e.dl.dropboxusercontent.com)... 162.125.3.15, 2620:100:6018:15::a27d:30f\n",
            "Connecting to ucc953a002277d441d6c910fbb2e.dl.dropboxusercontent.com (ucc953a002277d441d6c910fbb2e.dl.dropboxusercontent.com)|162.125.3.15|:443... connected.\n",
            "HTTP request sent, awaiting response... 200 OK\n",
            "Length: 24450101 (23M) [text/plain]\n",
            "Saving to: ‘negative.csv’\n",
            "\n",
            "negative.csv        100%[===================>]  23.32M  63.7MB/s    in 0.4s    \n",
            "\n",
            "2021-11-26 07:58:18 (63.7 MB/s) - ‘negative.csv’ saved [24450101/24450101]\n",
            "\n"
          ]
        }
      ]
    },
    {
      "cell_type": "code",
      "metadata": {
        "id": "R-bJKz6ToXSf"
      },
      "source": [
        "pos_tweets = pd.read_csv('positive.csv', encoding='utf-8', sep=';', header=None,  names=[0,1,2,'text','tone',5,6,7,8,9,10,11])"
      ],
      "execution_count": 5,
      "outputs": []
    },
    {
      "cell_type": "code",
      "metadata": {
        "id": "5qJzdZjvoXYK"
      },
      "source": [
        "neg_tweets = pd.read_csv('negative.csv', encoding='utf-8', sep=';', header=None, names=[0,1,2,'text','tone',5,6,7,8,9,10,11] )\n",
        "neg_tweets['tone'] = 0"
      ],
      "execution_count": 6,
      "outputs": []
    },
    {
      "cell_type": "code",
      "metadata": {
        "id": "jHjR5d-hofRb",
        "colab": {
          "base_uri": "https://localhost:8080/"
        },
        "outputId": "dba36e30-1fcf-4aa3-bd71-72c397daa107"
      },
      "source": [
        "all_tweets_data = pos_tweets.append(neg_tweets)\n",
        "print(len(all_tweets_data))"
      ],
      "execution_count": 7,
      "outputs": [
        {
          "output_type": "stream",
          "name": "stdout",
          "text": [
            "226834\n"
          ]
        }
      ]
    },
    {
      "cell_type": "code",
      "metadata": {
        "id": "UOBhy32GofXX",
        "colab": {
          "base_uri": "https://localhost:8080/",
          "height": 414
        },
        "outputId": "1ea9fd1c-ce42-4f1c-8cd2-286a3f2a63cc"
      },
      "source": [
        "all_tweets_data"
      ],
      "execution_count": 8,
      "outputs": [
        {
          "output_type": "execute_result",
          "data": {
            "text/html": [
              "<div>\n",
              "<style scoped>\n",
              "    .dataframe tbody tr th:only-of-type {\n",
              "        vertical-align: middle;\n",
              "    }\n",
              "\n",
              "    .dataframe tbody tr th {\n",
              "        vertical-align: top;\n",
              "    }\n",
              "\n",
              "    .dataframe thead th {\n",
              "        text-align: right;\n",
              "    }\n",
              "</style>\n",
              "<table border=\"1\" class=\"dataframe\">\n",
              "  <thead>\n",
              "    <tr style=\"text-align: right;\">\n",
              "      <th></th>\n",
              "      <th>0</th>\n",
              "      <th>1</th>\n",
              "      <th>2</th>\n",
              "      <th>text</th>\n",
              "      <th>tone</th>\n",
              "      <th>5</th>\n",
              "      <th>6</th>\n",
              "      <th>7</th>\n",
              "      <th>8</th>\n",
              "      <th>9</th>\n",
              "      <th>10</th>\n",
              "      <th>11</th>\n",
              "    </tr>\n",
              "  </thead>\n",
              "  <tbody>\n",
              "    <tr>\n",
              "      <th>0</th>\n",
              "      <td>408906692374446080</td>\n",
              "      <td>1386325927</td>\n",
              "      <td>pleease_shut_up</td>\n",
              "      <td>@first_timee хоть я и школота, но поверь, у на...</td>\n",
              "      <td>1</td>\n",
              "      <td>0</td>\n",
              "      <td>0</td>\n",
              "      <td>0</td>\n",
              "      <td>7569</td>\n",
              "      <td>62</td>\n",
              "      <td>61</td>\n",
              "      <td>0</td>\n",
              "    </tr>\n",
              "    <tr>\n",
              "      <th>1</th>\n",
              "      <td>408906692693221377</td>\n",
              "      <td>1386325927</td>\n",
              "      <td>alinakirpicheva</td>\n",
              "      <td>Да, все-таки он немного похож на него. Но мой ...</td>\n",
              "      <td>1</td>\n",
              "      <td>0</td>\n",
              "      <td>0</td>\n",
              "      <td>0</td>\n",
              "      <td>11825</td>\n",
              "      <td>59</td>\n",
              "      <td>31</td>\n",
              "      <td>2</td>\n",
              "    </tr>\n",
              "    <tr>\n",
              "      <th>2</th>\n",
              "      <td>408906695083954177</td>\n",
              "      <td>1386325927</td>\n",
              "      <td>EvgeshaRe</td>\n",
              "      <td>RT @KatiaCheh: Ну ты идиотка) я испугалась за ...</td>\n",
              "      <td>1</td>\n",
              "      <td>0</td>\n",
              "      <td>1</td>\n",
              "      <td>0</td>\n",
              "      <td>1273</td>\n",
              "      <td>26</td>\n",
              "      <td>27</td>\n",
              "      <td>0</td>\n",
              "    </tr>\n",
              "    <tr>\n",
              "      <th>3</th>\n",
              "      <td>408906695356973056</td>\n",
              "      <td>1386325927</td>\n",
              "      <td>ikonnikova_21</td>\n",
              "      <td>RT @digger2912: \"Кто то в углу сидит и погибае...</td>\n",
              "      <td>1</td>\n",
              "      <td>0</td>\n",
              "      <td>1</td>\n",
              "      <td>0</td>\n",
              "      <td>1549</td>\n",
              "      <td>19</td>\n",
              "      <td>17</td>\n",
              "      <td>0</td>\n",
              "    </tr>\n",
              "    <tr>\n",
              "      <th>4</th>\n",
              "      <td>408906761416867842</td>\n",
              "      <td>1386325943</td>\n",
              "      <td>JumpyAlex</td>\n",
              "      <td>@irina_dyshkant Вот что значит страшилка :D\\nН...</td>\n",
              "      <td>1</td>\n",
              "      <td>0</td>\n",
              "      <td>0</td>\n",
              "      <td>0</td>\n",
              "      <td>597</td>\n",
              "      <td>16</td>\n",
              "      <td>23</td>\n",
              "      <td>1</td>\n",
              "    </tr>\n",
              "    <tr>\n",
              "      <th>...</th>\n",
              "      <td>...</td>\n",
              "      <td>...</td>\n",
              "      <td>...</td>\n",
              "      <td>...</td>\n",
              "      <td>...</td>\n",
              "      <td>...</td>\n",
              "      <td>...</td>\n",
              "      <td>...</td>\n",
              "      <td>...</td>\n",
              "      <td>...</td>\n",
              "      <td>...</td>\n",
              "      <td>...</td>\n",
              "    </tr>\n",
              "    <tr>\n",
              "      <th>111918</th>\n",
              "      <td>425138243257253888</td>\n",
              "      <td>1390195830</td>\n",
              "      <td>Yanch_96</td>\n",
              "      <td>Но не каждый хочет что то исправлять:( http://...</td>\n",
              "      <td>0</td>\n",
              "      <td>0</td>\n",
              "      <td>0</td>\n",
              "      <td>0</td>\n",
              "      <td>1138</td>\n",
              "      <td>32</td>\n",
              "      <td>46</td>\n",
              "      <td>0</td>\n",
              "    </tr>\n",
              "    <tr>\n",
              "      <th>111919</th>\n",
              "      <td>425138339503943682</td>\n",
              "      <td>1390195853</td>\n",
              "      <td>tkit_on</td>\n",
              "      <td>скучаю так :-( только @taaannyaaa вправляет мо...</td>\n",
              "      <td>0</td>\n",
              "      <td>0</td>\n",
              "      <td>0</td>\n",
              "      <td>0</td>\n",
              "      <td>4822</td>\n",
              "      <td>38</td>\n",
              "      <td>32</td>\n",
              "      <td>0</td>\n",
              "    </tr>\n",
              "    <tr>\n",
              "      <th>111920</th>\n",
              "      <td>425138437684215808</td>\n",
              "      <td>1390195876</td>\n",
              "      <td>ckooker1</td>\n",
              "      <td>Вот и в школу, в говно это идти уже надо(</td>\n",
              "      <td>0</td>\n",
              "      <td>0</td>\n",
              "      <td>0</td>\n",
              "      <td>1</td>\n",
              "      <td>165</td>\n",
              "      <td>13</td>\n",
              "      <td>16</td>\n",
              "      <td>0</td>\n",
              "    </tr>\n",
              "    <tr>\n",
              "      <th>111921</th>\n",
              "      <td>425138490452344832</td>\n",
              "      <td>1390195889</td>\n",
              "      <td>LisaBeroud</td>\n",
              "      <td>RT @_Them__: @LisaBeroud Тауриэль, не грусти :...</td>\n",
              "      <td>0</td>\n",
              "      <td>0</td>\n",
              "      <td>1</td>\n",
              "      <td>0</td>\n",
              "      <td>2516</td>\n",
              "      <td>187</td>\n",
              "      <td>265</td>\n",
              "      <td>0</td>\n",
              "    </tr>\n",
              "    <tr>\n",
              "      <th>111922</th>\n",
              "      <td>425138595251625984</td>\n",
              "      <td>1390195914</td>\n",
              "      <td>sukapavlov</td>\n",
              "      <td>Такси везет меня на работу. Раздумываю приплат...</td>\n",
              "      <td>0</td>\n",
              "      <td>0</td>\n",
              "      <td>0</td>\n",
              "      <td>0</td>\n",
              "      <td>7778</td>\n",
              "      <td>146</td>\n",
              "      <td>66</td>\n",
              "      <td>5</td>\n",
              "    </tr>\n",
              "  </tbody>\n",
              "</table>\n",
              "<p>226834 rows × 12 columns</p>\n",
              "</div>"
            ],
            "text/plain": [
              "                        0           1                2   ...   9    10  11\n",
              "0       408906692374446080  1386325927  pleease_shut_up  ...   62   61   0\n",
              "1       408906692693221377  1386325927  alinakirpicheva  ...   59   31   2\n",
              "2       408906695083954177  1386325927        EvgeshaRe  ...   26   27   0\n",
              "3       408906695356973056  1386325927    ikonnikova_21  ...   19   17   0\n",
              "4       408906761416867842  1386325943        JumpyAlex  ...   16   23   1\n",
              "...                    ...         ...              ...  ...  ...  ...  ..\n",
              "111918  425138243257253888  1390195830         Yanch_96  ...   32   46   0\n",
              "111919  425138339503943682  1390195853          tkit_on  ...   38   32   0\n",
              "111920  425138437684215808  1390195876         ckooker1  ...   13   16   0\n",
              "111921  425138490452344832  1390195889       LisaBeroud  ...  187  265   0\n",
              "111922  425138595251625984  1390195914       sukapavlov  ...  146   66   5\n",
              "\n",
              "[226834 rows x 12 columns]"
            ]
          },
          "metadata": {},
          "execution_count": 8
        }
      ]
    },
    {
      "cell_type": "markdown",
      "metadata": {
        "id": "yB8e5OOMTIEb"
      },
      "source": [
        "Очищаем данные сразу, потому что так проще."
      ]
    },
    {
      "cell_type": "code",
      "metadata": {
        "id": "RJny8AMt0o-g"
      },
      "source": [
        "import re\n",
        "\n",
        "def preprocess(text):\n",
        "    text = text.lower().replace(\"ё\", \"е\")\n",
        "    text = re.sub('((www\\.[^\\s]+)|(https?://[^\\s]+))', 'URL', text)\n",
        "    text = re.sub('[^a-zA-Zа-яА-Я1-9]+', ' ', text)\n",
        "    text = re.sub(' +', ' ', text)\n",
        "    return text"
      ],
      "execution_count": 9,
      "outputs": []
    },
    {
      "cell_type": "code",
      "metadata": {
        "id": "kZbEEgy0uWgC",
        "colab": {
          "base_uri": "https://localhost:8080/",
          "height": 35
        },
        "outputId": "ed4feb1d-df98-4f5a-c83e-ccc12220616b"
      },
      "source": [
        "text = '@first_timee хоть я и школота, но поверь, у на.'\n",
        "preprocess(text)"
      ],
      "execution_count": 10,
      "outputs": [
        {
          "output_type": "execute_result",
          "data": {
            "application/vnd.google.colaboratory.intrinsic+json": {
              "type": "string"
            },
            "text/plain": [
              "' first timee хоть я и школота но поверь у на '"
            ]
          },
          "metadata": {},
          "execution_count": 10
        }
      ]
    },
    {
      "cell_type": "code",
      "metadata": {
        "id": "mdzuxe8y0w_0"
      },
      "source": [
        "all_tweets_data['preprocessed_text'] = all_tweets_data['text'].apply(lambda x: preprocess(x))"
      ],
      "execution_count": 11,
      "outputs": []
    },
    {
      "cell_type": "code",
      "metadata": {
        "id": "mvI1JGYc9JxY",
        "colab": {
          "base_uri": "https://localhost:8080/",
          "height": 414
        },
        "outputId": "f1d95d03-0571-46a8-c49e-36e6a91bb8b2"
      },
      "source": [
        "all_tweets_data"
      ],
      "execution_count": 12,
      "outputs": [
        {
          "output_type": "execute_result",
          "data": {
            "text/html": [
              "<div>\n",
              "<style scoped>\n",
              "    .dataframe tbody tr th:only-of-type {\n",
              "        vertical-align: middle;\n",
              "    }\n",
              "\n",
              "    .dataframe tbody tr th {\n",
              "        vertical-align: top;\n",
              "    }\n",
              "\n",
              "    .dataframe thead th {\n",
              "        text-align: right;\n",
              "    }\n",
              "</style>\n",
              "<table border=\"1\" class=\"dataframe\">\n",
              "  <thead>\n",
              "    <tr style=\"text-align: right;\">\n",
              "      <th></th>\n",
              "      <th>0</th>\n",
              "      <th>1</th>\n",
              "      <th>2</th>\n",
              "      <th>text</th>\n",
              "      <th>tone</th>\n",
              "      <th>5</th>\n",
              "      <th>6</th>\n",
              "      <th>7</th>\n",
              "      <th>8</th>\n",
              "      <th>9</th>\n",
              "      <th>10</th>\n",
              "      <th>11</th>\n",
              "      <th>preprocessed_text</th>\n",
              "    </tr>\n",
              "  </thead>\n",
              "  <tbody>\n",
              "    <tr>\n",
              "      <th>0</th>\n",
              "      <td>408906692374446080</td>\n",
              "      <td>1386325927</td>\n",
              "      <td>pleease_shut_up</td>\n",
              "      <td>@first_timee хоть я и школота, но поверь, у на...</td>\n",
              "      <td>1</td>\n",
              "      <td>0</td>\n",
              "      <td>0</td>\n",
              "      <td>0</td>\n",
              "      <td>7569</td>\n",
              "      <td>62</td>\n",
              "      <td>61</td>\n",
              "      <td>0</td>\n",
              "      <td>first timee хоть я и школота но поверь у нас ...</td>\n",
              "    </tr>\n",
              "    <tr>\n",
              "      <th>1</th>\n",
              "      <td>408906692693221377</td>\n",
              "      <td>1386325927</td>\n",
              "      <td>alinakirpicheva</td>\n",
              "      <td>Да, все-таки он немного похож на него. Но мой ...</td>\n",
              "      <td>1</td>\n",
              "      <td>0</td>\n",
              "      <td>0</td>\n",
              "      <td>0</td>\n",
              "      <td>11825</td>\n",
              "      <td>59</td>\n",
              "      <td>31</td>\n",
              "      <td>2</td>\n",
              "      <td>да все таки он немного похож на него но мой ма...</td>\n",
              "    </tr>\n",
              "    <tr>\n",
              "      <th>2</th>\n",
              "      <td>408906695083954177</td>\n",
              "      <td>1386325927</td>\n",
              "      <td>EvgeshaRe</td>\n",
              "      <td>RT @KatiaCheh: Ну ты идиотка) я испугалась за ...</td>\n",
              "      <td>1</td>\n",
              "      <td>0</td>\n",
              "      <td>1</td>\n",
              "      <td>0</td>\n",
              "      <td>1273</td>\n",
              "      <td>26</td>\n",
              "      <td>27</td>\n",
              "      <td>0</td>\n",
              "      <td>rt katiacheh ну ты идиотка я испугалась за тебя</td>\n",
              "    </tr>\n",
              "    <tr>\n",
              "      <th>3</th>\n",
              "      <td>408906695356973056</td>\n",
              "      <td>1386325927</td>\n",
              "      <td>ikonnikova_21</td>\n",
              "      <td>RT @digger2912: \"Кто то в углу сидит и погибае...</td>\n",
              "      <td>1</td>\n",
              "      <td>0</td>\n",
              "      <td>1</td>\n",
              "      <td>0</td>\n",
              "      <td>1549</td>\n",
              "      <td>19</td>\n",
              "      <td>17</td>\n",
              "      <td>0</td>\n",
              "      <td>rt digger2912 кто то в углу сидит и погибает о...</td>\n",
              "    </tr>\n",
              "    <tr>\n",
              "      <th>4</th>\n",
              "      <td>408906761416867842</td>\n",
              "      <td>1386325943</td>\n",
              "      <td>JumpyAlex</td>\n",
              "      <td>@irina_dyshkant Вот что значит страшилка :D\\nН...</td>\n",
              "      <td>1</td>\n",
              "      <td>0</td>\n",
              "      <td>0</td>\n",
              "      <td>0</td>\n",
              "      <td>597</td>\n",
              "      <td>16</td>\n",
              "      <td>23</td>\n",
              "      <td>1</td>\n",
              "      <td>irina dyshkant вот что значит страшилка d но ...</td>\n",
              "    </tr>\n",
              "    <tr>\n",
              "      <th>...</th>\n",
              "      <td>...</td>\n",
              "      <td>...</td>\n",
              "      <td>...</td>\n",
              "      <td>...</td>\n",
              "      <td>...</td>\n",
              "      <td>...</td>\n",
              "      <td>...</td>\n",
              "      <td>...</td>\n",
              "      <td>...</td>\n",
              "      <td>...</td>\n",
              "      <td>...</td>\n",
              "      <td>...</td>\n",
              "      <td>...</td>\n",
              "    </tr>\n",
              "    <tr>\n",
              "      <th>111918</th>\n",
              "      <td>425138243257253888</td>\n",
              "      <td>1390195830</td>\n",
              "      <td>Yanch_96</td>\n",
              "      <td>Но не каждый хочет что то исправлять:( http://...</td>\n",
              "      <td>0</td>\n",
              "      <td>0</td>\n",
              "      <td>0</td>\n",
              "      <td>0</td>\n",
              "      <td>1138</td>\n",
              "      <td>32</td>\n",
              "      <td>46</td>\n",
              "      <td>0</td>\n",
              "      <td>но не каждый хочет что то исправлять URL</td>\n",
              "    </tr>\n",
              "    <tr>\n",
              "      <th>111919</th>\n",
              "      <td>425138339503943682</td>\n",
              "      <td>1390195853</td>\n",
              "      <td>tkit_on</td>\n",
              "      <td>скучаю так :-( только @taaannyaaa вправляет мо...</td>\n",
              "      <td>0</td>\n",
              "      <td>0</td>\n",
              "      <td>0</td>\n",
              "      <td>0</td>\n",
              "      <td>4822</td>\n",
              "      <td>38</td>\n",
              "      <td>32</td>\n",
              "      <td>0</td>\n",
              "      <td>скучаю так только taaannyaaa вправляет мозги н...</td>\n",
              "    </tr>\n",
              "    <tr>\n",
              "      <th>111920</th>\n",
              "      <td>425138437684215808</td>\n",
              "      <td>1390195876</td>\n",
              "      <td>ckooker1</td>\n",
              "      <td>Вот и в школу, в говно это идти уже надо(</td>\n",
              "      <td>0</td>\n",
              "      <td>0</td>\n",
              "      <td>0</td>\n",
              "      <td>1</td>\n",
              "      <td>165</td>\n",
              "      <td>13</td>\n",
              "      <td>16</td>\n",
              "      <td>0</td>\n",
              "      <td>вот и в школу в говно это идти уже надо</td>\n",
              "    </tr>\n",
              "    <tr>\n",
              "      <th>111921</th>\n",
              "      <td>425138490452344832</td>\n",
              "      <td>1390195889</td>\n",
              "      <td>LisaBeroud</td>\n",
              "      <td>RT @_Them__: @LisaBeroud Тауриэль, не грусти :...</td>\n",
              "      <td>0</td>\n",
              "      <td>0</td>\n",
              "      <td>1</td>\n",
              "      <td>0</td>\n",
              "      <td>2516</td>\n",
              "      <td>187</td>\n",
              "      <td>265</td>\n",
              "      <td>0</td>\n",
              "      <td>rt them lisaberoud тауриэль не грусти обнял</td>\n",
              "    </tr>\n",
              "    <tr>\n",
              "      <th>111922</th>\n",
              "      <td>425138595251625984</td>\n",
              "      <td>1390195914</td>\n",
              "      <td>sukapavlov</td>\n",
              "      <td>Такси везет меня на работу. Раздумываю приплат...</td>\n",
              "      <td>0</td>\n",
              "      <td>0</td>\n",
              "      <td>0</td>\n",
              "      <td>0</td>\n",
              "      <td>7778</td>\n",
              "      <td>146</td>\n",
              "      <td>66</td>\n",
              "      <td>5</td>\n",
              "      <td>такси везет меня на работу раздумываю приплати...</td>\n",
              "    </tr>\n",
              "  </tbody>\n",
              "</table>\n",
              "<p>226834 rows × 13 columns</p>\n",
              "</div>"
            ],
            "text/plain": [
              "                         0  ...                                  preprocessed_text\n",
              "0       408906692374446080  ...   first timee хоть я и школота но поверь у нас ...\n",
              "1       408906692693221377  ...  да все таки он немного похож на него но мой ма...\n",
              "2       408906695083954177  ...   rt katiacheh ну ты идиотка я испугалась за тебя \n",
              "3       408906695356973056  ...  rt digger2912 кто то в углу сидит и погибает о...\n",
              "4       408906761416867842  ...   irina dyshkant вот что значит страшилка d но ...\n",
              "...                    ...  ...                                                ...\n",
              "111918  425138243257253888  ...           но не каждый хочет что то исправлять URL\n",
              "111919  425138339503943682  ...  скучаю так только taaannyaaa вправляет мозги н...\n",
              "111920  425138437684215808  ...           вот и в школу в говно это идти уже надо \n",
              "111921  425138490452344832  ...       rt them lisaberoud тауриэль не грусти обнял \n",
              "111922  425138595251625984  ...  такси везет меня на работу раздумываю приплати...\n",
              "\n",
              "[226834 rows x 13 columns]"
            ]
          },
          "metadata": {},
          "execution_count": 12
        }
      ]
    },
    {
      "cell_type": "code",
      "metadata": {
        "id": "a6q56TLiofaQ"
      },
      "source": [
        "tweets_data = shuffle(all_tweets_data[['preprocessed_text','tone']])[:100000]"
      ],
      "execution_count": 13,
      "outputs": []
    },
    {
      "cell_type": "code",
      "metadata": {
        "id": "8V6MMfxEofe8",
        "colab": {
          "base_uri": "https://localhost:8080/"
        },
        "outputId": "efdd8914-45af-4cb6-d774-8d7a40dac87b"
      },
      "source": [
        "len(tweets_data)"
      ],
      "execution_count": 14,
      "outputs": [
        {
          "output_type": "execute_result",
          "data": {
            "text/plain": [
              "100000"
            ]
          },
          "metadata": {},
          "execution_count": 14
        }
      ]
    },
    {
      "cell_type": "code",
      "metadata": {
        "id": "RO1Gl_cnofhR"
      },
      "source": [
        "train_sentences, val_sentences = train_test_split(tweets_data, test_size=0.1)"
      ],
      "execution_count": 15,
      "outputs": []
    },
    {
      "cell_type": "code",
      "metadata": {
        "id": "kllBHWrcofja",
        "colab": {
          "base_uri": "https://localhost:8080/",
          "height": 355
        },
        "outputId": "a783b546-2830-4252-bea0-a91b0ed7499e"
      },
      "source": [
        "train_sentences[:10]"
      ],
      "execution_count": 16,
      "outputs": [
        {
          "output_type": "execute_result",
          "data": {
            "text/html": [
              "<div>\n",
              "<style scoped>\n",
              "    .dataframe tbody tr th:only-of-type {\n",
              "        vertical-align: middle;\n",
              "    }\n",
              "\n",
              "    .dataframe tbody tr th {\n",
              "        vertical-align: top;\n",
              "    }\n",
              "\n",
              "    .dataframe thead th {\n",
              "        text-align: right;\n",
              "    }\n",
              "</style>\n",
              "<table border=\"1\" class=\"dataframe\">\n",
              "  <thead>\n",
              "    <tr style=\"text-align: right;\">\n",
              "      <th></th>\n",
              "      <th>preprocessed_text</th>\n",
              "      <th>tone</th>\n",
              "    </tr>\n",
              "  </thead>\n",
              "  <tbody>\n",
              "    <tr>\n",
              "      <th>39390</th>\n",
              "      <td>мама разбудила меня тем что принесла мне в ком...</td>\n",
              "      <td>1</td>\n",
              "    </tr>\n",
              "    <tr>\n",
              "      <th>93766</th>\n",
              "      <td>я просто в шоке прошел год а все такие взрослы...</td>\n",
              "      <td>0</td>\n",
              "    </tr>\n",
              "    <tr>\n",
              "      <th>97674</th>\n",
              "      <td>rt alonavolar в среду в школу а так еще хочетс...</td>\n",
              "      <td>0</td>\n",
              "    </tr>\n",
              "    <tr>\n",
              "      <th>11826</th>\n",
              "      <td>rt vas happing69 helenburst привет я тоже безу...</td>\n",
              "      <td>1</td>\n",
              "    </tr>\n",
              "    <tr>\n",
              "      <th>105814</th>\n",
              "      <td>rt kshn русофобы URL</td>\n",
              "      <td>0</td>\n",
              "    </tr>\n",
              "    <tr>\n",
              "      <th>89606</th>\n",
              "      <td>rt i am not a gay а мне сука нравились эти усы</td>\n",
              "      <td>0</td>\n",
              "    </tr>\n",
              "    <tr>\n",
              "      <th>78284</th>\n",
              "      <td>rt little stuff mary tompson я через раз это п...</td>\n",
              "      <td>1</td>\n",
              "    </tr>\n",
              "    <tr>\n",
              "      <th>13952</th>\n",
              "      <td>вчера ездили в ветеринарку слава богу все хорошо</td>\n",
              "      <td>1</td>\n",
              "    </tr>\n",
              "    <tr>\n",
              "      <th>66412</th>\n",
              "      <td>ольга 51 москва обычного нормального мужчину д...</td>\n",
              "      <td>0</td>\n",
              "    </tr>\n",
              "    <tr>\n",
              "      <th>39373</th>\n",
              "      <td>больше не когда и не за что не буду делать эти...</td>\n",
              "      <td>0</td>\n",
              "    </tr>\n",
              "  </tbody>\n",
              "</table>\n",
              "</div>"
            ],
            "text/plain": [
              "                                        preprocessed_text  tone\n",
              "39390   мама разбудила меня тем что принесла мне в ком...     1\n",
              "93766   я просто в шоке прошел год а все такие взрослы...     0\n",
              "97674   rt alonavolar в среду в школу а так еще хочетс...     0\n",
              "11826   rt vas happing69 helenburst привет я тоже безу...     1\n",
              "105814                               rt kshn русофобы URL     0\n",
              "89606     rt i am not a gay а мне сука нравились эти усы      0\n",
              "78284   rt little stuff mary tompson я через раз это п...     1\n",
              "13952   вчера ездили в ветеринарку слава богу все хорошо      1\n",
              "66412   ольга 51 москва обычного нормального мужчину д...     0\n",
              "39373   больше не когда и не за что не буду делать эти...     0"
            ]
          },
          "metadata": {},
          "execution_count": 16
        }
      ]
    },
    {
      "cell_type": "markdown",
      "metadata": {
        "id": "lwtg5WFxTXgr"
      },
      "source": [
        "Данную функцию используем для получения словаря по токенам."
      ]
    },
    {
      "cell_type": "code",
      "metadata": {
        "id": "IiOGXz7LDma6"
      },
      "source": [
        "def preprocess(text):\n",
        "    tokens = text.lower().split()\n",
        "    tokens = [token.strip(punctuation) for token in tokens]\n",
        "    return tokens"
      ],
      "execution_count": 17,
      "outputs": []
    },
    {
      "cell_type": "code",
      "metadata": {
        "id": "Z41EJorwpuWn",
        "colab": {
          "base_uri": "https://localhost:8080/"
        },
        "outputId": "7c70e8ce-88c7-4dcf-98c3-119c4bdcfc11"
      },
      "source": [
        "vocab_tokens = Counter()\n",
        "\n",
        "for text in tweets_data['preprocessed_text']:\n",
        "    vocab_tokens.update(preprocess(text))\n",
        "print('всего уникальных токенов:', len(vocab_tokens))"
      ],
      "execution_count": 18,
      "outputs": [
        {
          "output_type": "stream",
          "name": "stdout",
          "text": [
            "всего уникальных токенов: 152815\n"
          ]
        }
      ]
    },
    {
      "cell_type": "code",
      "metadata": {
        "id": "4iC5r5ISpubD",
        "colab": {
          "base_uri": "https://localhost:8080/"
        },
        "outputId": "e60918e4-5ed4-42ce-ada7-cbb4fb340a92"
      },
      "source": [
        "filtered_vocab_tokens = set()\n",
        "\n",
        "for word in vocab_tokens:\n",
        "    if vocab_tokens[word] > 2:\n",
        "        filtered_vocab_tokens.add(word)\n",
        "print('уникальных токенов, втретившихся больше 2 раз:', len(filtered_vocab_tokens))"
      ],
      "execution_count": 19,
      "outputs": [
        {
          "output_type": "stream",
          "name": "stdout",
          "text": [
            "уникальных токенов, втретившихся больше 2 раз: 34847\n"
          ]
        }
      ]
    },
    {
      "cell_type": "code",
      "metadata": {
        "id": "vGAPymc9puff"
      },
      "source": [
        "#создаем словарь с индексами word2id, для спецсимвола паддинга дефолтный индекс - 0\n",
        "word2id = {'PAD':0}\n",
        "\n",
        "for word in filtered_vocab_tokens:\n",
        "    word2id[word] = len(word2id)"
      ],
      "execution_count": 20,
      "outputs": []
    },
    {
      "cell_type": "code",
      "metadata": {
        "id": "omg2dHbqp2gA"
      },
      "source": [
        "#обратный словарь для того, чтобы раскодировать последовательность\n",
        "id2word = {i:word for word, i in word2id.items()}"
      ],
      "execution_count": 21,
      "outputs": []
    },
    {
      "cell_type": "code",
      "metadata": {
        "id": "DiYyN-rR0h0o"
      },
      "source": [
        "class TweetsDataset(Dataset):\n",
        "\n",
        "    def __init__(self, dataset, word2id, DEVICE):\n",
        "        self.dataset = dataset['preprocessed_text'].values\n",
        "        self.word2id = word2id\n",
        "        self.length = dataset.shape[0]\n",
        "        self.target = torch.Tensor(dataset['tone'].values)\n",
        "        self.device = DEVICE\n",
        "\n",
        "    def __len__(self):\n",
        "        return self.length\n",
        "\n",
        "    def __getitem__(self, index): \n",
        "        tokens = self.dataset[index] # токенизируем\n",
        "        ids = torch.LongTensor([self.word2id[token] for token in tokens if token in self.word2id])\n",
        "        y = self.target[index]\n",
        "        return ids, y\n",
        "\n",
        "    def collate_fn(self, batch): #этот метод можно реализовывать и отдельно,\n",
        "    # он понадобится для DataLoader во время итерации по батчам\n",
        "      ids, y = list(zip(*batch))\n",
        "      padded_ids = pad_sequence(ids, batch_first=True).to(self.device)\n",
        "      y = torch.LongTensor(y)\n",
        "      y = y.type(torch.Tensor).reshape(100,1).to(self.device)\n",
        "      return padded_ids, y"
      ],
      "execution_count": 22,
      "outputs": []
    },
    {
      "cell_type": "code",
      "metadata": {
        "id": "XExzs-pCp2jG",
        "colab": {
          "base_uri": "https://localhost:8080/"
        },
        "outputId": "282485d6-938e-4035-c99d-b2b19aa5586d"
      },
      "source": [
        "DEVICE = torch.device('cuda') if torch.cuda.is_available() else torch.device('cpu')\n",
        "DEVICE"
      ],
      "execution_count": 23,
      "outputs": [
        {
          "output_type": "execute_result",
          "data": {
            "text/plain": [
              "device(type='cuda')"
            ]
          },
          "metadata": {},
          "execution_count": 23
        }
      ]
    },
    {
      "cell_type": "code",
      "metadata": {
        "id": "38MaXZpu1u7j"
      },
      "source": [
        "train_dataset = TweetsDataset(train_sentences, word2id, DEVICE)\n",
        "train_sampler = RandomSampler(train_dataset)\n",
        "train_iterator = DataLoader(train_dataset, collate_fn = train_dataset.collate_fn, sampler=train_sampler, batch_size=100)"
      ],
      "execution_count": 24,
      "outputs": []
    },
    {
      "cell_type": "code",
      "metadata": {
        "id": "gE-WkBpI2FyQ"
      },
      "source": [
        "val_dataset = TweetsDataset(val_sentences, word2id, DEVICE)\n",
        "val_sampler = SequentialSampler(val_dataset)\n",
        "val_iterator = DataLoader(val_dataset, collate_fn = val_dataset.collate_fn, sampler=val_sampler, batch_size=100)"
      ],
      "execution_count": 25,
      "outputs": []
    },
    {
      "cell_type": "code",
      "metadata": {
        "id": "VIoKLecr6Pbf"
      },
      "source": [
        "test_batch = next(iter(val_iterator))"
      ],
      "execution_count": 26,
      "outputs": []
    },
    {
      "cell_type": "markdown",
      "metadata": {
        "id": "ofEwZlVsTgv9"
      },
      "source": [
        "Класс для первой сети без предобученных эмбеддингов."
      ]
    },
    {
      "cell_type": "code",
      "metadata": {
        "id": "HHIlMKSV8ASL"
      },
      "source": [
        "class CNN(nn.Module):\n",
        "    \n",
        "    def __init__(self, vocab_size, embedding_dim):\n",
        "        super().__init__()\n",
        "        self.embedding = nn.Embedding(vocab_size, embedding_dim)\n",
        "        self.bigrams = nn.Conv1d(in_channels=embedding_dim, out_channels=100, kernel_size=2, padding='same')\n",
        "        self.trigrams = nn.Conv1d(in_channels=embedding_dim, out_channels=80, kernel_size=3, padding='same')\n",
        "        self.pooling = nn.MaxPool1d(kernel_size=2, stride=2)\n",
        "        self.relu = nn.ReLU()\n",
        "        self.hidden = nn.Linear(in_features=180, out_features=1)\n",
        "        self.dropout = nn.Dropout(p=0.5)\n",
        "        self.out = nn.Sigmoid()\n",
        "\n",
        "    def forward(self, word):\n",
        "        #batch_size x seq_len\n",
        "        embedded = self.embedding(word)\n",
        "        #batch_size x seq_len x embedding_dim\n",
        "        embedded = embedded.transpose(1,2)\n",
        "        #batch_size x embedding_dim x seq_len\n",
        "        feature_map_bigrams = self.relu(self.bigrams(embedded))\n",
        "        #batch_size x filter_count2 x seq_len* \n",
        "        feature_map_trigrams = self.relu(self.trigrams(embedded))\n",
        "        #batch_size x filter_count3 x seq_len*\n",
        "        concat = torch.cat((feature_map_bigrams, feature_map_trigrams), 1)\n",
        "\n",
        "        feature_map_bigrams2 = self.pooling(self.relu(self.bigrams(concat)))\n",
        "        feature_map_trigrams2 = self.pooling(self.relu(self.trigrams(concat)))\n",
        "        pooling1 = feature_map_bigrams2.max(2)[0] \n",
        "        # batch_size x filter_count2\n",
        "        pooling2 = feature_map_trigrams2.max(2)[0]\n",
        "        # batch_size x filter_count3\n",
        "        concat2 = torch.cat((pooling1, pooling2), 1)\n",
        "        # batch _size x (filter_count2 + filter_count3)\n",
        "        logits = self.hidden(concat2) \n",
        "        logits = self.out(logits)    \n",
        "        return logits\n",
        "      "
      ],
      "execution_count": 27,
      "outputs": []
    },
    {
      "cell_type": "markdown",
      "metadata": {
        "id": "KwlI2kjnTvXw"
      },
      "source": [
        "Обучаем, предсказываем и получаем метрики. Датафрейм со всеми сетями и метриками в конце."
      ]
    },
    {
      "cell_type": "code",
      "metadata": {
        "id": "mHRocbhA9quO"
      },
      "source": [
        "def train(model, iterator, optimizer, criterion, metric):\n",
        "    print('Training...')\n",
        "    epoch_loss = 0 # для подсчета среднего лосса на всех батчах\n",
        "    epoch_metric = 0\n",
        "    model.train()  # ставим модель в обучение, явно указываем, что сейчас надо будет хранить градиенты у всех весов\n",
        "\n",
        "    for i, (texts, ys) in enumerate(iterator): #итерируемся по батчам\n",
        "        optimizer.zero_grad()  #обнуляем градиенты\n",
        "        preds = model(texts)  #прогоняем данные через модель\n",
        "        loss = criterion(preds, ys) #считаем значение функции потерь  \n",
        "        loss.backward() #считаем градиенты  \n",
        "        optimizer.step() #обновляем веса \n",
        "        epoch_loss += loss.item() #сохраняем значение функции потерь\n",
        "        \n",
        "        batch_metric = metric(preds.round().long(), ys.long(), ignore_index=0)\n",
        "        epoch_metric += batch_metric\n",
        "        if not (i + 1) % 50:\n",
        "            print(f'Train loss: {loss.item()}, Train f1: {batch_metric}')\n",
        "            #print(f'Train loss: {epoch_loss/i}, Train f1: {epoch_metric/i}')\n",
        "        \n",
        "    return epoch_metric / len(iterator), epoch_loss / len(iterator) # возвращаем среднее значение по всей выборке"
      ],
      "execution_count": 28,
      "outputs": []
    },
    {
      "cell_type": "code",
      "metadata": {
        "id": "lrKl7hXw9tGz"
      },
      "source": [
        "def evaluate(model, iterator, criterion, metric):\n",
        "    print(\"\\nValidating...\")\n",
        "    epoch_loss = 0\n",
        "    epoch_metric = 0\n",
        "    model.eval() \n",
        "    with torch.no_grad():\n",
        "        for i, (texts, ys) in enumerate(iterator):\n",
        "            preds = model(texts)  # делаем предсказания на тесте\n",
        "            loss = criterion(preds, ys)   # считаем значения функции ошибки для статистики  \n",
        "            epoch_loss += loss.item()\n",
        "            batch_metric = metric(preds.round().long(), ys.long(), ignore_index=0)\n",
        "            epoch_metric += batch_metric\n",
        "\n",
        "            if not (i + 1) % 50:\n",
        "              pass\n",
        "              print(f'Val loss_ev: {loss.item()}, Val f1_ev: {batch_metric}')\n",
        "                #print(f'Val loss: {epoch_loss/i}, Val f1: {epoch_metric/i}')\n",
        "\n",
        "    return epoch_metric / len(iterator), epoch_loss / len(iterator) # возвращаем среднее значение по всей выборке"
      ],
      "execution_count": 29,
      "outputs": []
    },
    {
      "cell_type": "code",
      "metadata": {
        "id": "LIcwV7kG9ulW"
      },
      "source": [
        "model = CNN(len(word2id), 180)\n",
        "optimizer = optim.Adam(model.parameters(), lr=0.001)\n",
        "criterion = nn.BCELoss() # \n",
        "\n",
        "# веса модели и значения лосса храним там же, где и все остальные тензоры\n",
        "model = model.to(DEVICE)\n",
        "criterion = criterion.to(DEVICE)"
      ],
      "execution_count": 30,
      "outputs": []
    },
    {
      "cell_type": "code",
      "metadata": {
        "id": "f33fK1wB9z3o",
        "colab": {
          "base_uri": "https://localhost:8080/"
        },
        "outputId": "0fdd895c-bb53-44c2-bb9f-53503f7ade66"
      },
      "source": [
        "losses = []\n",
        "losses_eval = []\n",
        "f1s = []\n",
        "f1s_eval = []\n",
        "\n",
        "for i in range(10):\n",
        "    print(f'\\nstarting Epoch {i}')\n",
        "    f1_value, epoch_loss = train(model, train_iterator, optimizer, criterion, metric=f1)\n",
        "    losses.append(epoch_loss)\n",
        "    f1s.append(f1_value)\n",
        "\n",
        "    f1_value_on_test, epoch_loss_on_test = evaluate(model, val_iterator, criterion, metric=f1)\n",
        "    losses_eval.append(epoch_loss_on_test)\n",
        "    f1s_eval.append(f1_value_on_test)"
      ],
      "execution_count": 31,
      "outputs": [
        {
          "output_type": "stream",
          "name": "stdout",
          "text": [
            "\n",
            "starting Epoch 0\n",
            "Training...\n"
          ]
        },
        {
          "output_type": "stream",
          "name": "stderr",
          "text": [
            "/usr/local/lib/python3.7/dist-packages/torch/nn/modules/conv.py:298: UserWarning: Using padding='same' with even kernel lengths and odd dilation may require a zero-padded copy of the input be created (Triggered internally at  ../aten/src/ATen/native/Convolution.cpp:647.)\n",
            "  self.padding, self.dilation, self.groups)\n"
          ]
        },
        {
          "output_type": "stream",
          "name": "stdout",
          "text": [
            "Train loss: 0.6530159115791321, Train f1: 0.6274510025978088\n",
            "Train loss: 0.611255943775177, Train f1: 0.6666666865348816\n",
            "Train loss: 0.582114040851593, Train f1: 0.6603773832321167\n",
            "Train loss: 0.6109241247177124, Train f1: 0.5428571701049805\n",
            "Train loss: 0.583979606628418, Train f1: 0.7184466123580933\n",
            "Train loss: 0.527488648891449, Train f1: 0.7647058963775635\n",
            "Train loss: 0.5548851490020752, Train f1: 0.6666666269302368\n",
            "Train loss: 0.5632975101470947, Train f1: 0.7184466123580933\n",
            "Train loss: 0.5425278544425964, Train f1: 0.6846846342086792\n",
            "Train loss: 0.6374186277389526, Train f1: 0.6530612111091614\n",
            "Train loss: 0.5635570287704468, Train f1: 0.7045454382896423\n",
            "Train loss: 0.60169917345047, Train f1: 0.7047619223594666\n",
            "Train loss: 0.5253957509994507, Train f1: 0.75\n",
            "Train loss: 0.5877648591995239, Train f1: 0.6736842393875122\n",
            "Train loss: 0.5116544961929321, Train f1: 0.7857142090797424\n",
            "Train loss: 0.5696800947189331, Train f1: 0.6075949668884277\n",
            "Train loss: 0.5510240197181702, Train f1: 0.6117647290229797\n",
            "Train loss: 0.5354297161102295, Train f1: 0.7551020979881287\n",
            "\n",
            "Validating...\n",
            "Val loss_ev: 0.5876044034957886, Val f1_ev: 0.7199999690055847\n",
            "Val loss_ev: 0.5275359749794006, Val f1_ev: 0.6315789222717285\n",
            "\n",
            "starting Epoch 1\n",
            "Training...\n",
            "Train loss: 0.532842218875885, Train f1: 0.7499999403953552\n",
            "Train loss: 0.5018188953399658, Train f1: 0.7115384936332703\n",
            "Train loss: 0.5321465134620667, Train f1: 0.717391312122345\n",
            "Train loss: 0.48192739486694336, Train f1: 0.7654320597648621\n",
            "Train loss: 0.5175062417984009, Train f1: 0.7868852019309998\n",
            "Train loss: 0.5787834525108337, Train f1: 0.5277777314186096\n",
            "Train loss: 0.5522128343582153, Train f1: 0.747826099395752\n",
            "Train loss: 0.6247233748435974, Train f1: 0.7058823704719543\n",
            "Train loss: 0.4950568675994873, Train f1: 0.651685357093811\n",
            "Train loss: 0.4820214807987213, Train f1: 0.7747747302055359\n",
            "Train loss: 0.4281364381313324, Train f1: 0.800000011920929\n",
            "Train loss: 0.5004693269729614, Train f1: 0.7216494083404541\n",
            "Train loss: 0.4302055537700653, Train f1: 0.7916666865348816\n",
            "Train loss: 0.4788993000984192, Train f1: 0.658227801322937\n",
            "Train loss: 0.5686006546020508, Train f1: 0.7289718985557556\n",
            "Train loss: 0.5081012845039368, Train f1: 0.6301369667053223\n",
            "Train loss: 0.44806337356567383, Train f1: 0.7872340679168701\n",
            "Train loss: 0.51841801404953, Train f1: 0.7636364102363586\n",
            "\n",
            "Validating...\n",
            "Val loss_ev: 0.5580616593360901, Val f1_ev: 0.723809540271759\n",
            "Val loss_ev: 0.5318548679351807, Val f1_ev: 0.674418568611145\n",
            "\n",
            "starting Epoch 2\n",
            "Training...\n",
            "Train loss: 0.49581077694892883, Train f1: 0.7500000596046448\n",
            "Train loss: 0.40942779183387756, Train f1: 0.791208803653717\n",
            "Train loss: 0.5033746361732483, Train f1: 0.6575342416763306\n",
            "Train loss: 0.5708372592926025, Train f1: 0.7387387752532959\n",
            "Train loss: 0.47561484575271606, Train f1: 0.7659574747085571\n",
            "Train loss: 0.4252009391784668, Train f1: 0.7499999403953552\n",
            "Train loss: 0.47335755825042725, Train f1: 0.7731091976165771\n",
            "Train loss: 0.43230023980140686, Train f1: 0.7843137383460999\n",
            "Train loss: 0.4387448728084564, Train f1: 0.7884615063667297\n",
            "Train loss: 0.43843045830726624, Train f1: 0.791208803653717\n",
            "Train loss: 0.4346342384815216, Train f1: 0.7964601516723633\n",
            "Train loss: 0.5491019487380981, Train f1: 0.6823529601097107\n",
            "Train loss: 0.4915418028831482, Train f1: 0.7450980544090271\n",
            "Train loss: 0.4802107512950897, Train f1: 0.7627118229866028\n",
            "Train loss: 0.5165287852287292, Train f1: 0.7184465527534485\n",
            "Train loss: 0.5548961162567139, Train f1: 0.7254902124404907\n",
            "Train loss: 0.46932876110076904, Train f1: 0.7407407760620117\n",
            "Train loss: 0.5474346280097961, Train f1: 0.7000000476837158\n",
            "\n",
            "Validating...\n",
            "Val loss_ev: 0.5142350792884827, Val f1_ev: 0.7021276354789734\n",
            "Val loss_ev: 0.482582688331604, Val f1_ev: 0.7222221493721008\n",
            "\n",
            "starting Epoch 3\n",
            "Training...\n",
            "Train loss: 0.45709601044654846, Train f1: 0.7850466966629028\n",
            "Train loss: 0.46869146823883057, Train f1: 0.7524752020835876\n",
            "Train loss: 0.44710683822631836, Train f1: 0.8318584561347961\n",
            "Train loss: 0.5280038714408875, Train f1: 0.7747747898101807\n",
            "Train loss: 0.47114166617393494, Train f1: 0.739130437374115\n",
            "Train loss: 0.5049452185630798, Train f1: 0.800000011920929\n",
            "Train loss: 0.5270726084709167, Train f1: 0.6666666269302368\n",
            "Train loss: 0.5392233729362488, Train f1: 0.6458333730697632\n",
            "Train loss: 0.39985617995262146, Train f1: 0.8333333134651184\n",
            "Train loss: 0.5431487560272217, Train f1: 0.7619047164916992\n",
            "Train loss: 0.4120515286922455, Train f1: 0.8455284237861633\n",
            "Train loss: 0.48211970925331116, Train f1: 0.8037383556365967\n",
            "Train loss: 0.5264825224876404, Train f1: 0.6588234901428223\n",
            "Train loss: 0.46752843260765076, Train f1: 0.7818182110786438\n",
            "Train loss: 0.5199083685874939, Train f1: 0.7692307829856873\n",
            "Train loss: 0.4674699008464813, Train f1: 0.7249999642372131\n",
            "Train loss: 0.5200477242469788, Train f1: 0.7472527623176575\n",
            "Train loss: 0.5614722371101379, Train f1: 0.7476635575294495\n",
            "\n",
            "Validating...\n",
            "Val loss_ev: 0.5277014374732971, Val f1_ev: 0.7692307829856873\n",
            "Val loss_ev: 0.47910991311073303, Val f1_ev: 0.7160493731498718\n",
            "\n",
            "starting Epoch 4\n",
            "Training...\n",
            "Train loss: 0.3976898491382599, Train f1: 0.8245614171028137\n",
            "Train loss: 0.44413068890571594, Train f1: 0.8347826600074768\n",
            "Train loss: 0.4324074983596802, Train f1: 0.7727271914482117\n",
            "Train loss: 0.46501508355140686, Train f1: 0.8113207221031189\n",
            "Train loss: 0.410199910402298, Train f1: 0.8085106611251831\n",
            "Train loss: 0.3718184232711792, Train f1: 0.8256881237030029\n",
            "Train loss: 0.44423583149909973, Train f1: 0.8319999575614929\n",
            "Train loss: 0.38381657004356384, Train f1: 0.8448275923728943\n",
            "Train loss: 0.4097238779067993, Train f1: 0.7912087440490723\n",
            "Train loss: 0.4342045485973358, Train f1: 0.75\n",
            "Train loss: 0.42497360706329346, Train f1: 0.843137264251709\n",
            "Train loss: 0.4979153275489807, Train f1: 0.7157894968986511\n",
            "Train loss: 0.39291730523109436, Train f1: 0.8653846383094788\n",
            "Train loss: 0.40604403614997864, Train f1: 0.7397260665893555\n",
            "Train loss: 0.27971819043159485, Train f1: 0.8571428656578064\n",
            "Train loss: 0.4085247814655304, Train f1: 0.761904776096344\n",
            "Train loss: 0.43379974365234375, Train f1: 0.7818182110786438\n",
            "Train loss: 0.5603524446487427, Train f1: 0.800000011920929\n",
            "\n",
            "Validating...\n",
            "Val loss_ev: 0.5340050458908081, Val f1_ev: 0.7179487943649292\n",
            "Val loss_ev: 0.5452686548233032, Val f1_ev: 0.6868687272071838\n",
            "\n",
            "starting Epoch 5\n",
            "Training...\n",
            "Train loss: 0.5076518654823303, Train f1: 0.723809540271759\n",
            "Train loss: 0.35429468750953674, Train f1: 0.85999995470047\n",
            "Train loss: 0.44841209053993225, Train f1: 0.8188976645469666\n",
            "Train loss: 0.42599189281463623, Train f1: 0.791208803653717\n",
            "Train loss: 0.3733985722064972, Train f1: 0.8051947355270386\n",
            "Train loss: 0.43134593963623047, Train f1: 0.8301886320114136\n",
            "Train loss: 0.3848070800304413, Train f1: 0.8399999737739563\n",
            "Train loss: 0.3551144599914551, Train f1: 0.882882833480835\n",
            "Train loss: 0.3829379975795746, Train f1: 0.8771929740905762\n",
            "Train loss: 0.5063158273696899, Train f1: 0.76106196641922\n",
            "Train loss: 0.4773178696632385, Train f1: 0.7800000309944153\n",
            "Train loss: 0.4081997871398926, Train f1: 0.7816092371940613\n",
            "Train loss: 0.44005087018013, Train f1: 0.6976743936538696\n",
            "Train loss: 0.34389063715934753, Train f1: 0.8947368264198303\n",
            "Train loss: 0.41139140725135803, Train f1: 0.8269230723381042\n",
            "Train loss: 0.4754313826560974, Train f1: 0.767676830291748\n",
            "Train loss: 0.464619904756546, Train f1: 0.7966101765632629\n",
            "Train loss: 0.4092811942100525, Train f1: 0.8282828330993652\n",
            "\n",
            "Validating...\n",
            "Val loss_ev: 0.4887749254703522, Val f1_ev: 0.7800000309944153\n",
            "Val loss_ev: 0.48107460141181946, Val f1_ev: 0.6756756901741028\n",
            "\n",
            "starting Epoch 6\n",
            "Training...\n",
            "Train loss: 0.34865257143974304, Train f1: 0.8139534592628479\n",
            "Train loss: 0.49018505215644836, Train f1: 0.7964601516723633\n",
            "Train loss: 0.4335823655128479, Train f1: 0.738095223903656\n",
            "Train loss: 0.42466530203819275, Train f1: 0.7708333730697632\n",
            "Train loss: 0.4871075749397278, Train f1: 0.7920792102813721\n",
            "Train loss: 0.41688787937164307, Train f1: 0.822429895401001\n",
            "Train loss: 0.3981610834598541, Train f1: 0.8235294222831726\n",
            "Train loss: 0.4424179792404175, Train f1: 0.7731091976165771\n",
            "Train loss: 0.40082114934921265, Train f1: 0.7800000309944153\n",
            "Train loss: 0.40294554829597473, Train f1: 0.8095238208770752\n",
            "Train loss: 0.4020198583602905, Train f1: 0.800000011920929\n",
            "Train loss: 0.32853084802627563, Train f1: 0.82828289270401\n",
            "Train loss: 0.4096229374408722, Train f1: 0.8813559412956238\n",
            "Train loss: 0.45438727736473083, Train f1: 0.8376067876815796\n",
            "Train loss: 0.47132110595703125, Train f1: 0.76106196641922\n",
            "Train loss: 0.44244956970214844, Train f1: 0.7647058963775635\n",
            "Train loss: 0.4423452615737915, Train f1: 0.7916666865348816\n",
            "Train loss: 0.36816373467445374, Train f1: 0.8247422575950623\n",
            "\n",
            "Validating...\n",
            "Val loss_ev: 0.5633838772773743, Val f1_ev: 0.752293586730957\n",
            "Val loss_ev: 0.5079609751701355, Val f1_ev: 0.7126436829566956\n",
            "\n",
            "starting Epoch 7\n",
            "Training...\n",
            "Train loss: 0.4365508556365967, Train f1: 0.7835051417350769\n",
            "Train loss: 0.34371688961982727, Train f1: 0.8595041036605835\n",
            "Train loss: 0.4742478132247925, Train f1: 0.6944444179534912\n",
            "Train loss: 0.45094794034957886, Train f1: 0.8073394894599915\n",
            "Train loss: 0.4136745035648346, Train f1: 0.8602151274681091\n",
            "Train loss: 0.36870697140693665, Train f1: 0.84112149477005\n",
            "Train loss: 0.40157952904701233, Train f1: 0.8269230723381042\n",
            "Train loss: 0.3462820053100586, Train f1: 0.8760330080986023\n",
            "Train loss: 0.312978595495224, Train f1: 0.8799999952316284\n",
            "Train loss: 0.3932143747806549, Train f1: 0.8440366983413696\n",
            "Train loss: 0.5117815136909485, Train f1: 0.7441860437393188\n",
            "Train loss: 0.4444847106933594, Train f1: 0.7956989407539368\n",
            "Train loss: 0.4075956642627716, Train f1: 0.8455284237861633\n",
            "Train loss: 0.43342581391334534, Train f1: 0.792792797088623\n",
            "Train loss: 0.4402482509613037, Train f1: 0.7708333134651184\n",
            "Train loss: 0.36086341738700867, Train f1: 0.8376067876815796\n",
            "Train loss: 0.37621259689331055, Train f1: 0.7848101258277893\n",
            "Train loss: 0.44241586327552795, Train f1: 0.7792208194732666\n",
            "\n",
            "Validating...\n",
            "Val loss_ev: 0.5260576009750366, Val f1_ev: 0.7234043478965759\n",
            "Val loss_ev: 0.48916929960250854, Val f1_ev: 0.6849315166473389\n",
            "\n",
            "starting Epoch 8\n",
            "Training...\n",
            "Train loss: 0.48225274682044983, Train f1: 0.8037382960319519\n",
            "Train loss: 0.32172325253486633, Train f1: 0.8387097120285034\n",
            "Train loss: 0.3485845625400543, Train f1: 0.8333333134651184\n",
            "Train loss: 0.37085211277008057, Train f1: 0.8484848141670227\n",
            "Train loss: 0.3280467092990875, Train f1: 0.8478260636329651\n",
            "Train loss: 0.3554946184158325, Train f1: 0.854545533657074\n",
            "Train loss: 0.3474927544593811, Train f1: 0.8644067645072937\n",
            "Train loss: 0.3636898100376129, Train f1: 0.8478260636329651\n",
            "Train loss: 0.35308197140693665, Train f1: 0.9038462042808533\n",
            "Train loss: 0.3954024016857147, Train f1: 0.7865168452262878\n",
            "Train loss: 0.32470202445983887, Train f1: 0.8936170339584351\n",
            "Train loss: 0.3119982182979584, Train f1: 0.8431373238563538\n",
            "Train loss: 0.35983261466026306, Train f1: 0.875\n",
            "Train loss: 0.3099577724933624, Train f1: 0.85999995470047\n",
            "Train loss: 0.28490304946899414, Train f1: 0.8478260636329651\n",
            "Train loss: 0.46778440475463867, Train f1: 0.7500000596046448\n",
            "Train loss: 0.417091429233551, Train f1: 0.8351647853851318\n",
            "Train loss: 0.30455219745635986, Train f1: 0.9230769276618958\n",
            "\n",
            "Validating...\n",
            "Val loss_ev: 0.6353644132614136, Val f1_ev: 0.7731093168258667\n",
            "Val loss_ev: 0.5976884961128235, Val f1_ev: 0.6526316404342651\n",
            "\n",
            "starting Epoch 9\n",
            "Training...\n",
            "Train loss: 0.38649070262908936, Train f1: 0.8301886916160583\n",
            "Train loss: 0.3221323788166046, Train f1: 0.8653846383094788\n",
            "Train loss: 0.42990875244140625, Train f1: 0.8288288712501526\n",
            "Train loss: 0.3403641879558563, Train f1: 0.8478260636329651\n",
            "Train loss: 0.34326136112213135, Train f1: 0.8727272748947144\n",
            "Train loss: 0.49016088247299194, Train f1: 0.7916666865348816\n",
            "Train loss: 0.3354741930961609, Train f1: 0.8932039141654968\n",
            "Train loss: 0.37824591994285583, Train f1: 0.8235294222831726\n",
            "Train loss: 0.38602468371391296, Train f1: 0.8448275923728943\n",
            "Train loss: 0.42192786931991577, Train f1: 0.8172042965888977\n",
            "Train loss: 0.37336692214012146, Train f1: 0.8155339956283569\n",
            "Train loss: 0.5539289116859436, Train f1: 0.7207207679748535\n",
            "Train loss: 0.3140637278556824, Train f1: 0.8620690107345581\n",
            "Train loss: 0.3248976767063141, Train f1: 0.9369369149208069\n",
            "Train loss: 0.33834895491600037, Train f1: 0.8387097120285034\n",
            "Train loss: 0.31903383135795593, Train f1: 0.8672566413879395\n",
            "Train loss: 0.44221144914627075, Train f1: 0.7599999904632568\n",
            "Train loss: 0.5362902879714966, Train f1: 0.7378641366958618\n",
            "\n",
            "Validating...\n",
            "Val loss_ev: 0.5498050451278687, Val f1_ev: 0.7676767110824585\n",
            "Val loss_ev: 0.5031254887580872, Val f1_ev: 0.6486486792564392\n"
          ]
        }
      ]
    },
    {
      "cell_type": "code",
      "metadata": {
        "id": "AZgOINEPPsri",
        "colab": {
          "base_uri": "https://localhost:8080/",
          "height": 294
        },
        "outputId": "3b1ea23a-6086-46b3-84a0-547277fb21b5"
      },
      "source": [
        "import matplotlib.pyplot as plt\n",
        "plt.plot(losses)\n",
        "plt.plot(losses_eval)\n",
        "plt.title('BCE loss value')\n",
        "plt.ylabel('BCE loss')\n",
        "plt.xlabel('epoch')\n",
        "plt.legend(['train', 'val'], loc='upper right')\n",
        "plt.show()"
      ],
      "execution_count": 32,
      "outputs": [
        {
          "output_type": "display_data",
          "data": {
            "image/png": "[encoded data removed]",
            "text/plain": [
              "<Figure size 432x288 with 1 Axes>"
            ]
          },
          "metadata": {
            "needs_background": "light"
          }
        }
      ]
    },
    {
      "cell_type": "code",
      "metadata": {
        "id": "3nAnIBbyPwEc",
        "colab": {
          "base_uri": "https://localhost:8080/",
          "height": 294
        },
        "outputId": "fcb6e782-0aaa-4556-d259-4c03a15d1bb5"
      },
      "source": [
        "import matplotlib.pyplot as plt\n",
        "plt.plot(f1s)\n",
        "plt.plot(f1s_eval)\n",
        "plt.title('f1 value')\n",
        "plt.ylabel('f1 value')\n",
        "plt.xlabel('epoch')\n",
        "plt.legend(['train', 'val'], loc='upper right')\n",
        "plt.show()"
      ],
      "execution_count": 33,
      "outputs": [
        {
          "output_type": "display_data",
          "data": {
            "image/png": "[encoded data removed]",
            "text/plain": [
              "<Figure size 432x288 with 1 Axes>"
            ]
          },
          "metadata": {
            "needs_background": "light"
          }
        }
      ]
    },
    {
      "cell_type": "code",
      "metadata": {
        "id": "z0bf7Y22x59K"
      },
      "source": [
        "def predict(model, iterator):\n",
        "    model.eval()\n",
        "    fp = []\n",
        "    fn = []\n",
        "    tp = [] \n",
        "    tn = []\n",
        "    with torch.no_grad():\n",
        "        for i, (texts, ys) in enumerate(iterator):   \n",
        "            preds = model(texts)  # делаем предсказания на тесте \n",
        "            for pred, gold, text in zip(preds, ys, texts):\n",
        "              text = ' '.join([id2word[int(word)] for word in text if word !=0])\n",
        "              if round(pred.item()) > gold:\n",
        "                fp.append(text)\n",
        "              elif round(pred.item()) < gold:\n",
        "                fn.append(text)\n",
        "              elif round(pred.item()) == gold == 1:\n",
        "                tp.append(text)\n",
        "              elif round(pred.item()) == gold == 0:\n",
        "                tn.append(text)\n",
        "    return fp, fn, tp, tn"
      ],
      "execution_count": 34,
      "outputs": []
    },
    {
      "cell_type": "code",
      "metadata": {
        "id": "ke3_0C2-x79N"
      },
      "source": [
        "fp1, fn1, tp1, tn1 = predict(model, train_iterator)"
      ],
      "execution_count": 35,
      "outputs": []
    },
    {
      "cell_type": "code",
      "metadata": {
        "id": "Y4OqnKAJx8dv",
        "colab": {
          "base_uri": "https://localhost:8080/"
        },
        "outputId": "6f34d7f2-10f6-40ca-c3a6-538d8f28fd7c"
      },
      "source": [
        "len(fp1 + fn1 + tp1 + tn1)"
      ],
      "execution_count": 36,
      "outputs": [
        {
          "output_type": "execute_result",
          "data": {
            "text/plain": [
              "90000"
            ]
          },
          "metadata": {},
          "execution_count": 36
        }
      ]
    },
    {
      "cell_type": "code",
      "metadata": {
        "id": "zrN0ciCfx99G"
      },
      "source": [
        "a_model1 = (len(tp1)+len(tn1)) / (len(fp1)+len(fn1)+len(tp1)+len(tn1))\n",
        "p_model1 = len(tp1) / (len(tp1)+len(fp1))\n",
        "r_model1 = len(tp1) / (len(tp1)+len(fn1))"
      ],
      "execution_count": 37,
      "outputs": []
    },
    {
      "cell_type": "code",
      "metadata": {
        "id": "D3ALkQ7gx_Rb",
        "colab": {
          "base_uri": "https://localhost:8080/"
        },
        "outputId": "43a3260f-efc6-4d90-8af7-bcd5a6815fc5"
      },
      "source": [
        "a_model1, p_model1, r_model1"
      ],
      "execution_count": 38,
      "outputs": [
        {
          "output_type": "execute_result",
          "data": {
            "text/plain": [
              "(0.8636444444444444, 0.9091848534803041, 0.8115432763050974)"
            ]
          },
          "metadata": {},
          "execution_count": 38
        }
      ]
    },
    {
      "cell_type": "markdown",
      "metadata": {
        "id": "TGNpMrHTT9kV"
      },
      "source": [
        "Подгружаются fasttext эмбеддинги, обученные на всем корпусе с нуля."
      ]
    },
    {
      "cell_type": "code",
      "metadata": {
        "id": "tx9TEQK5WBfN"
      },
      "source": [
        "from gensim.models.fasttext import FastText"
      ],
      "execution_count": 39,
      "outputs": []
    },
    {
      "cell_type": "code",
      "metadata": {
        "id": "g0VW8J6VWECO"
      },
      "source": [
        "texts = all_tweets_data.text.apply(preprocess).tolist()"
      ],
      "execution_count": 40,
      "outputs": []
    },
    {
      "cell_type": "code",
      "metadata": {
        "id": "-5b802zwXsZX"
      },
      "source": [
        "fasttext_model = FastText()\n",
        "fasttext_model.build_vocab(sentences=texts)\n",
        "fasttext_model.train(sentences=texts, total_examples=len(texts), epochs=10) "
      ],
      "execution_count": 41,
      "outputs": []
    },
    {
      "cell_type": "code",
      "metadata": {
        "id": "s1YXGFakW4Jl",
        "colab": {
          "base_uri": "https://localhost:8080/"
        },
        "outputId": "4431659b-16be-4af9-ada1-583c88d8b4f2"
      },
      "source": [
        "fasttext_model.wv.most_similar('веселый')"
      ],
      "execution_count": 42,
      "outputs": [
        {
          "output_type": "execute_result",
          "data": {
            "text/plain": [
              "[('весёлый', 0.8847337961196899),\n",
              " ('весомый', 0.861290693283081),\n",
              " ('тяжелый', 0.8560019135475159),\n",
              " ('насыщенный', 0.8494870066642761),\n",
              " ('чудесный', 0.8404212594032288),\n",
              " ('белый', 0.8387214541435242),\n",
              " ('круглый', 0.8376436233520508),\n",
              " ('вечный', 0.8327733278274536),\n",
              " ('тёплый', 0.8275758028030396),\n",
              " ('воскресный', 0.8271726369857788)]"
            ]
          },
          "metadata": {},
          "execution_count": 42
        }
      ]
    },
    {
      "cell_type": "code",
      "metadata": {
        "id": "wOQc5Yetd0rP"
      },
      "source": [
        "weights = np.zeros((len(word2id), 100))\n",
        "count = 0\n",
        "for word, i in word2id.items():\n",
        "    if word == 'PAD':\n",
        "        continue   \n",
        "    try:\n",
        "        weights[i] = fasttext_model.wv[word]    \n",
        "    except KeyError:\n",
        "      count += 1\n",
        "      weights[i] = np.random.normal(0,0.1,100)"
      ],
      "execution_count": 43,
      "outputs": []
    },
    {
      "cell_type": "markdown",
      "metadata": {
        "id": "R-teO6hhUj3r"
      },
      "source": [
        "Класс для сети с fasttextом."
      ]
    },
    {
      "cell_type": "code",
      "metadata": {
        "id": "r7irKt58gBhy"
      },
      "source": [
        "class CNN_ft(nn.Module):\n",
        "    \n",
        "    def __init__(self, vocab_size, embedding_dim):\n",
        "        super().__init__()\n",
        "        self.embedding = nn.Embedding(vocab_size, embedding_dim)\n",
        "        self.embedding.from_pretrained(torch.tensor(weights), freeze=True)\n",
        "        self.bigrams = nn.Conv1d(in_channels=embedding_dim, out_channels=100, kernel_size=2, padding='same')\n",
        "        self.trigrams = nn.Conv1d(in_channels=embedding_dim, out_channels=80, kernel_size=3, padding='same')\n",
        "        self.pooling = nn.MaxPool1d(kernel_size=2, stride=2)\n",
        "        self.relu = nn.ReLU()\n",
        "        self.hidden = nn.Linear(in_features=180, out_features=1)\n",
        "        self.dropout = nn.Dropout(p=0.5)\n",
        "        self.out = nn.Sigmoid()\n",
        "\n",
        "    def forward(self, word):\n",
        "        embedded = self.embedding(word)\n",
        "        embedded = embedded.transpose(1,2)\n",
        "\n",
        "        feature_map_bigrams = self.relu(self.bigrams(embedded))\n",
        "        feature_map_trigrams = self.relu(self.trigrams(embedded))\n",
        "        concat = torch.cat((feature_map_bigrams, feature_map_trigrams), 1)\n",
        "\n",
        "        feature_map_bigrams2 = self.pooling(self.relu(self.bigrams(concat)))\n",
        "        feature_map_trigrams2 = self.pooling(self.relu(self.trigrams(concat)))\n",
        "        pooling1 = feature_map_bigrams2.max(2)[0] \n",
        "        pooling2 = feature_map_trigrams2.max(2)[0]\n",
        "        concat2 = torch.cat((pooling1, pooling2), 1)\n",
        "\n",
        "        logits = self.hidden(concat2) \n",
        "        logits = self.out(logits)    \n",
        "        return logits\n",
        "      "
      ],
      "execution_count": 44,
      "outputs": []
    },
    {
      "cell_type": "code",
      "metadata": {
        "id": "OcBi_uB2gTRX"
      },
      "source": [
        "model2 = CNN_ft(len(word2id), 180)\n",
        "optimizer = optim.Adam(model2.parameters(), lr=0.001)\n",
        "criterion = nn.BCELoss() # \n",
        "\n",
        "\n",
        "model2 = model2.to(DEVICE)\n",
        "criterion = criterion.to(DEVICE)"
      ],
      "execution_count": 45,
      "outputs": []
    },
    {
      "cell_type": "code",
      "metadata": {
        "id": "9Lk_Mw1ighmz",
        "colab": {
          "base_uri": "https://localhost:8080/"
        },
        "outputId": "260b9654-7272-47ff-8fdd-f63c5145e869"
      },
      "source": [
        "losses2 = []\n",
        "losses_eval2 = []\n",
        "f1s2 = []\n",
        "f1s_eval2 = []\n",
        "\n",
        "for i in range(10):\n",
        "    print(f'\\nstarting Epoch {i}')\n",
        "    f1_value, epoch_loss = train(model2, train_iterator, optimizer, criterion, metric=f1)\n",
        "    losses2.append(epoch_loss)\n",
        "    f1s2.append(f1_value)\n",
        "\n",
        "    f1_value_on_test, epoch_loss_on_test = evaluate(model2, val_iterator, criterion, metric=f1)\n",
        "    losses_eval2.append(epoch_loss_on_test)\n",
        "    f1s_eval2.append(f1_value_on_test)"
      ],
      "execution_count": 46,
      "outputs": [
        {
          "output_type": "stream",
          "name": "stdout",
          "text": [
            "\n",
            "starting Epoch 0\n",
            "Training...\n",
            "Train loss: 0.6302128434181213, Train f1: 0.6122449040412903\n",
            "Train loss: 0.6148042678833008, Train f1: 0.6851851940155029\n",
            "Train loss: 0.5623751878738403, Train f1: 0.737864077091217\n",
            "Train loss: 0.5812664031982422, Train f1: 0.7126436829566956\n",
            "Train loss: 0.5582899451255798, Train f1: 0.6813187003135681\n",
            "Train loss: 0.48808521032333374, Train f1: 0.699999988079071\n",
            "Train loss: 0.5269816517829895, Train f1: 0.7256637215614319\n",
            "Train loss: 0.5650517344474792, Train f1: 0.6428571343421936\n",
            "Train loss: 0.5395886898040771, Train f1: 0.695652186870575\n",
            "Train loss: 0.5916128158569336, Train f1: 0.6739130020141602\n",
            "Train loss: 0.5678256750106812, Train f1: 0.6744186282157898\n",
            "Train loss: 0.4998936057090759, Train f1: 0.7628865838050842\n",
            "Train loss: 0.558523416519165, Train f1: 0.7339449524879456\n",
            "Train loss: 0.5926429033279419, Train f1: 0.5882352590560913\n",
            "Train loss: 0.4514928460121155, Train f1: 0.778761088848114\n",
            "Train loss: 0.5697988867759705, Train f1: 0.6172839403152466\n",
            "Train loss: 0.46079498529434204, Train f1: 0.7250000238418579\n",
            "Train loss: 0.5417881608009338, Train f1: 0.698113203048706\n",
            "\n",
            "Validating...\n",
            "Val loss_ev: 0.5774838924407959, Val f1_ev: 0.6666666865348816\n",
            "Val loss_ev: 0.539016842842102, Val f1_ev: 0.6197183132171631\n",
            "\n",
            "starting Epoch 1\n",
            "Training...\n",
            "Train loss: 0.5122705101966858, Train f1: 0.7200000286102295\n",
            "Train loss: 0.533447265625, Train f1: 0.6595745086669922\n",
            "Train loss: 0.5250116586685181, Train f1: 0.6881720423698425\n",
            "Train loss: 0.5187591910362244, Train f1: 0.7777777314186096\n",
            "Train loss: 0.5951151251792908, Train f1: 0.6599999666213989\n",
            "Train loss: 0.5460363626480103, Train f1: 0.7222222685813904\n",
            "Train loss: 0.5748956799507141, Train f1: 0.6666666865348816\n",
            "Train loss: 0.5028533339500427, Train f1: 0.5974025726318359\n",
            "Train loss: 0.4813322424888611, Train f1: 0.7272726893424988\n",
            "Train loss: 0.5340190529823303, Train f1: 0.7102804183959961\n",
            "Train loss: 0.4659343659877777, Train f1: 0.8148148059844971\n",
            "Train loss: 0.48616012930870056, Train f1: 0.719298243522644\n",
            "Train loss: 0.5665975213050842, Train f1: 0.6190475821495056\n",
            "Train loss: 0.5357901453971863, Train f1: 0.7155962586402893\n",
            "Train loss: 0.4774568974971771, Train f1: 0.7777777910232544\n",
            "Train loss: 0.5191558599472046, Train f1: 0.7636363506317139\n",
            "Train loss: 0.5172768831253052, Train f1: 0.7311828136444092\n",
            "Train loss: 0.515143096446991, Train f1: 0.7307692170143127\n",
            "\n",
            "Validating...\n",
            "Val loss_ev: 0.5727542638778687, Val f1_ev: 0.7735849618911743\n",
            "Val loss_ev: 0.5363573431968689, Val f1_ev: 0.6741573214530945\n",
            "\n",
            "starting Epoch 2\n",
            "Training...\n",
            "Train loss: 0.4568372964859009, Train f1: 0.8333333134651184\n",
            "Train loss: 0.5053762197494507, Train f1: 0.8120300769805908\n",
            "Train loss: 0.5484548211097717, Train f1: 0.7391304969787598\n",
            "Train loss: 0.5128777027130127, Train f1: 0.7731092572212219\n",
            "Train loss: 0.5193898677825928, Train f1: 0.7706422209739685\n",
            "Train loss: 0.5058901906013489, Train f1: 0.7476635575294495\n",
            "Train loss: 0.484846293926239, Train f1: 0.7216495275497437\n",
            "Train loss: 0.49236783385276794, Train f1: 0.658823549747467\n",
            "Train loss: 0.4590195417404175, Train f1: 0.7142857313156128\n",
            "Train loss: 0.5620121359825134, Train f1: 0.7603306174278259\n",
            "Train loss: 0.47153642773628235, Train f1: 0.64000004529953\n",
            "Train loss: 0.470761775970459, Train f1: 0.6739131212234497\n",
            "Train loss: 0.4204542338848114, Train f1: 0.7956989407539368\n",
            "Train loss: 0.4978131055831909, Train f1: 0.7428571581840515\n",
            "Train loss: 0.45723292231559753, Train f1: 0.7809524536132812\n",
            "Train loss: 0.4869188666343689, Train f1: 0.7766990661621094\n",
            "Train loss: 0.5334712862968445, Train f1: 0.6896551847457886\n",
            "Train loss: 0.45849356055259705, Train f1: 0.7472527027130127\n",
            "\n",
            "Validating...\n",
            "Val loss_ev: 0.5993421077728271, Val f1_ev: 0.6666666865348816\n",
            "Val loss_ev: 0.5360289216041565, Val f1_ev: 0.6760563254356384\n",
            "\n",
            "starting Epoch 3\n",
            "Training...\n",
            "Train loss: 0.5616000890731812, Train f1: 0.7407407164573669\n",
            "Train loss: 0.3959954082965851, Train f1: 0.8521738648414612\n",
            "Train loss: 0.4824891984462738, Train f1: 0.8034188151359558\n",
            "Train loss: 0.5379143357276917, Train f1: 0.725490152835846\n",
            "Train loss: 0.5220484137535095, Train f1: 0.7346938848495483\n",
            "Train loss: 0.46950265765190125, Train f1: 0.778761088848114\n",
            "Train loss: 0.48510393500328064, Train f1: 0.8282828330993652\n",
            "Train loss: 0.4779108762741089, Train f1: 0.7547169327735901\n",
            "Train loss: 0.5383535623550415, Train f1: 0.7647058963775635\n",
            "Train loss: 0.43473780155181885, Train f1: 0.8166667222976685\n",
            "Train loss: 0.46699103713035583, Train f1: 0.8235294222831726\n",
            "Train loss: 0.5085147619247437, Train f1: 0.8264462947845459\n",
            "Train loss: 0.4617394804954529, Train f1: 0.7446808815002441\n",
            "Train loss: 0.4932330548763275, Train f1: 0.7096774578094482\n",
            "Train loss: 0.5108504295349121, Train f1: 0.639175295829773\n",
            "Train loss: 0.5315976738929749, Train f1: 0.7407407760620117\n",
            "Train loss: 0.4916931092739105, Train f1: 0.7676767706871033\n",
            "Train loss: 0.47161665558815, Train f1: 0.8376068472862244\n",
            "\n",
            "Validating...\n",
            "Val loss_ev: 0.5980709791183472, Val f1_ev: 0.7102803587913513\n",
            "Val loss_ev: 0.5324776768684387, Val f1_ev: 0.6666666865348816\n",
            "\n",
            "starting Epoch 4\n",
            "Training...\n",
            "Train loss: 0.4841856360435486, Train f1: 0.7735848426818848\n",
            "Train loss: 0.4036925435066223, Train f1: 0.8440366983413696\n",
            "Train loss: 0.3706758916378021, Train f1: 0.8041236996650696\n",
            "Train loss: 0.4348866641521454, Train f1: 0.7400000095367432\n",
            "Train loss: 0.46851423382759094, Train f1: 0.736842155456543\n",
            "Train loss: 0.3866824507713318, Train f1: 0.822429895401001\n",
            "Train loss: 0.46469610929489136, Train f1: 0.7708333730697632\n",
            "Train loss: 0.4308061897754669, Train f1: 0.7663551568984985\n",
            "Train loss: 0.3925607204437256, Train f1: 0.8514851331710815\n",
            "Train loss: 0.4874579608440399, Train f1: 0.7209302186965942\n",
            "Train loss: 0.397470086812973, Train f1: 0.8429751992225647\n",
            "Train loss: 0.3626742362976074, Train f1: 0.8282828330993652\n",
            "Train loss: 0.4821796417236328, Train f1: 0.7692307829856873\n",
            "Train loss: 0.4887244701385498, Train f1: 0.7216494083404541\n",
            "Train loss: 0.4136306643486023, Train f1: 0.8131868243217468\n",
            "Train loss: 0.4967670440673828, Train f1: 0.7184465527534485\n",
            "Train loss: 0.41016170382499695, Train f1: 0.7631579041481018\n",
            "Train loss: 0.570762574672699, Train f1: 0.737864077091217\n",
            "\n",
            "Validating...\n",
            "Val loss_ev: 0.5639984011650085, Val f1_ev: 0.757281482219696\n",
            "Val loss_ev: 0.5048244595527649, Val f1_ev: 0.7356321215629578\n",
            "\n",
            "starting Epoch 5\n",
            "Training...\n",
            "Train loss: 0.39396846294403076, Train f1: 0.7956989407539368\n",
            "Train loss: 0.39194366335868835, Train f1: 0.7954545617103577\n",
            "Train loss: 0.42233046889305115, Train f1: 0.7850466966629028\n",
            "Train loss: 0.4184783399105072, Train f1: 0.8247422575950623\n",
            "Train loss: 0.46232908964157104, Train f1: 0.7499999403953552\n",
            "Train loss: 0.4680918753147125, Train f1: 0.7157894372940063\n",
            "Train loss: 0.5359736680984497, Train f1: 0.7450981140136719\n",
            "Train loss: 0.4257213771343231, Train f1: 0.824561357498169\n",
            "Train loss: 0.4035417437553406, Train f1: 0.7578948140144348\n",
            "Train loss: 0.45636916160583496, Train f1: 0.7706422209739685\n",
            "Train loss: 0.5800084471702576, Train f1: 0.6804124116897583\n",
            "Train loss: 0.3667469620704651, Train f1: 0.8453608155250549\n",
            "Train loss: 0.5021347999572754, Train f1: 0.7027027010917664\n",
            "Train loss: 0.35853564739227295, Train f1: 0.8113207817077637\n",
            "Train loss: 0.4898814558982849, Train f1: 0.6736842393875122\n",
            "Train loss: 0.4720591902732849, Train f1: 0.7045454978942871\n",
            "Train loss: 0.37653985619544983, Train f1: 0.8297872543334961\n",
            "Train loss: 0.3913963735103607, Train f1: 0.8163265585899353\n",
            "\n",
            "Validating...\n",
            "Val loss_ev: 0.5941363573074341, Val f1_ev: 0.7184465527534485\n",
            "Val loss_ev: 0.5058680176734924, Val f1_ev: 0.692307710647583\n",
            "\n",
            "starting Epoch 6\n",
            "Training...\n",
            "Train loss: 0.4666103720664978, Train f1: 0.7234043478965759\n",
            "Train loss: 0.4116699993610382, Train f1: 0.7920791506767273\n",
            "Train loss: 0.35735267400741577, Train f1: 0.8297872543334961\n",
            "Train loss: 0.3763097822666168, Train f1: 0.8349514603614807\n",
            "Train loss: 0.3456193506717682, Train f1: 0.8620689511299133\n",
            "Train loss: 0.4060991108417511, Train f1: 0.8400000333786011\n",
            "Train loss: 0.4384705126285553, Train f1: 0.8214285373687744\n",
            "Train loss: 0.4655226767063141, Train f1: 0.7628865838050842\n",
            "Train loss: 0.3590242564678192, Train f1: 0.8367347717285156\n",
            "Train loss: 0.3351631760597229, Train f1: 0.8644067645072937\n",
            "Train loss: 0.5551599264144897, Train f1: 0.7368420958518982\n",
            "Train loss: 0.3901800513267517, Train f1: 0.782608687877655\n",
            "Train loss: 0.3973660171031952, Train f1: 0.8037383556365967\n",
            "Train loss: 0.4265914559364319, Train f1: 0.7789473533630371\n",
            "Train loss: 0.35998252034187317, Train f1: 0.839285671710968\n",
            "Train loss: 0.40439140796661377, Train f1: 0.7142857313156128\n",
            "Train loss: 0.37989649176597595, Train f1: 0.8333333134651184\n",
            "Train loss: 0.376662015914917, Train f1: 0.8571428060531616\n",
            "\n",
            "Validating...\n",
            "Val loss_ev: 0.6127203702926636, Val f1_ev: 0.7184465527534485\n",
            "Val loss_ev: 0.5687921047210693, Val f1_ev: 0.6666666865348816\n",
            "\n",
            "starting Epoch 7\n",
            "Training...\n",
            "Train loss: 0.3495235741138458, Train f1: 0.8478260636329651\n",
            "Train loss: 0.2811366021633148, Train f1: 0.9059829711914062\n",
            "Train loss: 0.43764936923980713, Train f1: 0.8148148059844971\n",
            "Train loss: 0.41885635256767273, Train f1: 0.834782600402832\n",
            "Train loss: 0.3948741853237152, Train f1: 0.846846878528595\n",
            "Train loss: 0.48601195216178894, Train f1: 0.7722772359848022\n",
            "Train loss: 0.38447830080986023, Train f1: 0.8118812441825867\n",
            "Train loss: 0.37085777521133423, Train f1: 0.8085106611251831\n",
            "Train loss: 0.5033619999885559, Train f1: 0.6966292262077332\n",
            "Train loss: 0.48838019371032715, Train f1: 0.800000011920929\n",
            "Train loss: 0.3841821849346161, Train f1: 0.800000011920929\n",
            "Train loss: 0.42048659920692444, Train f1: 0.8301886320114136\n",
            "Train loss: 0.48216643929481506, Train f1: 0.6813186407089233\n",
            "Train loss: 0.35937872529029846, Train f1: 0.8453608751296997\n",
            "Train loss: 0.4170852601528168, Train f1: 0.7727272510528564\n",
            "Train loss: 0.39066505432128906, Train f1: 0.8118812441825867\n",
            "Train loss: 0.43359968066215515, Train f1: 0.8380952477455139\n",
            "Train loss: 0.3868349492549896, Train f1: 0.7755102515220642\n",
            "\n",
            "Validating...\n",
            "Val loss_ev: 0.6069918274879456, Val f1_ev: 0.714285671710968\n",
            "Val loss_ev: 0.5539095997810364, Val f1_ev: 0.6329113841056824\n",
            "\n",
            "starting Epoch 8\n",
            "Training...\n",
            "Train loss: 0.32261738181114197, Train f1: 0.8712871074676514\n",
            "Train loss: 0.3749099671840668, Train f1: 0.8235294222831726\n",
            "Train loss: 0.41026878356933594, Train f1: 0.8648649454116821\n",
            "Train loss: 0.3873918056488037, Train f1: 0.760869562625885\n",
            "Train loss: 0.493341326713562, Train f1: 0.8095237612724304\n",
            "Train loss: 0.2863624393939972, Train f1: 0.8842105269432068\n",
            "Train loss: 0.47508886456489563, Train f1: 0.7878788113594055\n",
            "Train loss: 0.3539167642593384, Train f1: 0.8148147463798523\n",
            "Train loss: 0.32025858759880066, Train f1: 0.8807339072227478\n",
            "Train loss: 0.41507259011268616, Train f1: 0.8181817531585693\n",
            "Train loss: 0.38096460700035095, Train f1: 0.800000011920929\n",
            "Train loss: 0.3732456564903259, Train f1: 0.8484848141670227\n",
            "Train loss: 0.2871309518814087, Train f1: 0.882352888584137\n",
            "Train loss: 0.42197301983833313, Train f1: 0.8571428656578064\n",
            "Train loss: 0.4122900366783142, Train f1: 0.8163265585899353\n",
            "Train loss: 0.3273388147354126, Train f1: 0.8085106611251831\n",
            "Train loss: 0.30521851778030396, Train f1: 0.8399999737739563\n",
            "Train loss: 0.2949485182762146, Train f1: 0.8947368860244751\n",
            "\n",
            "Validating...\n",
            "Val loss_ev: 0.6294528841972351, Val f1_ev: 0.7387387752532959\n",
            "Val loss_ev: 0.5600528717041016, Val f1_ev: 0.6590908765792847\n",
            "\n",
            "starting Epoch 9\n",
            "Training...\n",
            "Train loss: 0.3793535530567169, Train f1: 0.82828289270401\n",
            "Train loss: 0.35121893882751465, Train f1: 0.8541666269302368\n",
            "Train loss: 0.3327662944793701, Train f1: 0.8495575189590454\n",
            "Train loss: 0.3338436782360077, Train f1: 0.8627451062202454\n",
            "Train loss: 0.4226619005203247, Train f1: 0.8617885708808899\n",
            "Train loss: 0.33746421337127686, Train f1: 0.8571428656578064\n",
            "Train loss: 0.42891189455986023, Train f1: 0.7865168452262878\n",
            "Train loss: 0.36491134762763977, Train f1: 0.849056601524353\n",
            "Train loss: 0.3116148114204407, Train f1: 0.8316830992698669\n",
            "Train loss: 0.41434237360954285, Train f1: 0.8118812441825867\n",
            "Train loss: 0.47950372099876404, Train f1: 0.778761088848114\n",
            "Train loss: 0.341165691614151, Train f1: 0.8571428656578064\n",
            "Train loss: 0.3933097720146179, Train f1: 0.8035714030265808\n",
            "Train loss: 0.379524827003479, Train f1: 0.7755102515220642\n",
            "Train loss: 0.3865688145160675, Train f1: 0.7912087440490723\n",
            "Train loss: 0.5223112106323242, Train f1: 0.7058824300765991\n",
            "Train loss: 0.3261597454547882, Train f1: 0.8282828330993652\n",
            "Train loss: 0.3447823226451874, Train f1: 0.8297872543334961\n",
            "\n",
            "Validating...\n",
            "Val loss_ev: 0.6591220498085022, Val f1_ev: 0.7115384936332703\n",
            "Val loss_ev: 0.6100888848304749, Val f1_ev: 0.6419752836227417\n"
          ]
        }
      ]
    },
    {
      "cell_type": "code",
      "metadata": {
        "id": "Vi5Tyj0ohCpX",
        "colab": {
          "base_uri": "https://localhost:8080/",
          "height": 294
        },
        "outputId": "2e767531-01c3-4b28-db8f-06b6e15734dd"
      },
      "source": [
        "import matplotlib.pyplot as plt\n",
        "plt.plot(losses2)\n",
        "plt.plot(losses_eval2)\n",
        "plt.title('BCE loss value')\n",
        "plt.ylabel('BCE loss')\n",
        "plt.xlabel('epoch')\n",
        "plt.legend(['train', 'val'], loc='upper right')\n",
        "plt.show()"
      ],
      "execution_count": 47,
      "outputs": [
        {
          "output_type": "display_data",
          "data": {
            "image/png": "[encoded data removed]",
            "text/plain": [
              "<Figure size 432x288 with 1 Axes>"
            ]
          },
          "metadata": {
            "needs_background": "light"
          }
        }
      ]
    },
    {
      "cell_type": "code",
      "metadata": {
        "id": "VZ6XdwFshGAc",
        "colab": {
          "base_uri": "https://localhost:8080/",
          "height": 294
        },
        "outputId": "0446a620-ec73-49f2-900b-661865d335d3"
      },
      "source": [
        "import matplotlib.pyplot as plt\n",
        "plt.plot(f1s2)\n",
        "plt.plot(f1s_eval2)\n",
        "plt.title('f1 value')\n",
        "plt.ylabel('f1 value')\n",
        "plt.xlabel('epoch')\n",
        "plt.legend(['train', 'val'], loc='upper right')\n",
        "plt.show()"
      ],
      "execution_count": 48,
      "outputs": [
        {
          "output_type": "display_data",
          "data": {
            "image/png": "[encoded data removed]",
            "text/plain": [
              "<Figure size 432x288 with 1 Axes>"
            ]
          },
          "metadata": {
            "needs_background": "light"
          }
        }
      ]
    },
    {
      "cell_type": "code",
      "metadata": {
        "id": "AKUbGZ0jyEur"
      },
      "source": [
        "fp2, fn2, tp2, tn2 = predict(model2, train_iterator)"
      ],
      "execution_count": 49,
      "outputs": []
    },
    {
      "cell_type": "code",
      "metadata": {
        "id": "gF7xRhoCyFWR",
        "colab": {
          "base_uri": "https://localhost:8080/"
        },
        "outputId": "02599c25-3f72-429a-a9a6-bc0828c82e57"
      },
      "source": [
        "len(fp2 + fn2 + tp2 +tn2)"
      ],
      "execution_count": 50,
      "outputs": [
        {
          "output_type": "execute_result",
          "data": {
            "text/plain": [
              "90000"
            ]
          },
          "metadata": {},
          "execution_count": 50
        }
      ]
    },
    {
      "cell_type": "code",
      "metadata": {
        "id": "79GTwreXyPBy"
      },
      "source": [
        "a_model2 = (len(tp2)+len(tn2)) / (len(fp2)+len(fn2)+len(tp2)+len(tn2))\n",
        "p_model2 = len(tp2) / (len(tp2)+len(fp2))\n",
        "r_model2 = len(tp2) / (len(tp2)+len(fn2))"
      ],
      "execution_count": 51,
      "outputs": []
    },
    {
      "cell_type": "code",
      "metadata": {
        "id": "6RFPOLuyyRv2",
        "colab": {
          "base_uri": "https://localhost:8080/"
        },
        "outputId": "36da5577-bea8-427d-bf04-247d871ee338"
      },
      "source": [
        "a_model2, p_model2, r_model2"
      ],
      "execution_count": 52,
      "outputs": [
        {
          "output_type": "execute_result",
          "data": {
            "text/plain": [
              "(0.8706111111111111, 0.8740397350993377, 0.8695671271385589)"
            ]
          },
          "metadata": {},
          "execution_count": 52
        }
      ]
    },
    {
      "cell_type": "markdown",
      "metadata": {
        "id": "Z9QNmLpPUsGu"
      },
      "source": [
        "Получаем словарь по символам."
      ]
    },
    {
      "cell_type": "code",
      "metadata": {
        "id": "v0a6UPgE0djk",
        "colab": {
          "base_uri": "https://localhost:8080/"
        },
        "outputId": "68ea105d-c1b8-4717-a48c-64e007259055"
      },
      "source": [
        "vocab_symbols = Counter()\n",
        "for element in tweets_data['preprocessed_text']:\n",
        "  for symbol in element.replace(' ',''):\n",
        "    vocab_symbols.update(list(symbol))\n",
        "print('всего уникальных символов:', len(vocab_symbols))"
      ],
      "execution_count": 53,
      "outputs": [
        {
          "output_type": "stream",
          "name": "stdout",
          "text": [
            "всего уникальных символов: 70\n"
          ]
        }
      ]
    },
    {
      "cell_type": "code",
      "metadata": {
        "id": "WbLCsIa4_gJQ",
        "colab": {
          "base_uri": "https://localhost:8080/"
        },
        "outputId": "9c7873e7-876c-4165-a54f-e74258f304eb"
      },
      "source": [
        "filtered_vocab_symbols = set()\n",
        "\n",
        "for symbol in vocab_symbols:\n",
        "    if vocab_symbols[symbol] > 5:\n",
        "        filtered_vocab_symbols.add(symbol)\n",
        "print('уникальных символов, втретившихся больше 5 раз:', len(filtered_vocab_symbols))"
      ],
      "execution_count": 54,
      "outputs": [
        {
          "output_type": "stream",
          "name": "stdout",
          "text": [
            "уникальных символов, втретившихся больше 5 раз: 70\n"
          ]
        }
      ]
    },
    {
      "cell_type": "code",
      "metadata": {
        "id": "bXFFEM-X_6eM"
      },
      "source": [
        "#создаем словарь с индексами symbol2id, для спецсимвола паддинга дефолтный индекс - 0\n",
        "symbol2id = {'PAD':0}\n",
        "\n",
        "for symbol in filtered_vocab_symbols:\n",
        "    symbol2id[symbol] = len(symbol2id)"
      ],
      "execution_count": 55,
      "outputs": []
    },
    {
      "cell_type": "code",
      "metadata": {
        "id": "xFBViZQV_9SH"
      },
      "source": [
        "#обратный словарь для того, чтобы раскодировать последовательность\n",
        "id2symbol = {i:symbol for symbol, i in symbol2id.items()}"
      ],
      "execution_count": 56,
      "outputs": []
    },
    {
      "cell_type": "code",
      "metadata": {
        "id": "GS4SDyHK__B2",
        "colab": {
          "base_uri": "https://localhost:8080/"
        },
        "outputId": "36728f5c-7a64-41b6-b38a-0a3f8c374b23"
      },
      "source": [
        "DEVICE = torch.device('cuda') if torch.cuda.is_available() else torch.device('cpu')\n",
        "DEVICE\n"
      ],
      "execution_count": 57,
      "outputs": [
        {
          "output_type": "execute_result",
          "data": {
            "text/plain": [
              "device(type='cuda')"
            ]
          },
          "metadata": {},
          "execution_count": 57
        }
      ]
    },
    {
      "cell_type": "markdown",
      "metadata": {
        "id": "J0-Ut-luUvsb"
      },
      "source": [
        "Класс для комбинации эмбеддингов слов и символьных признаков."
      ]
    },
    {
      "cell_type": "code",
      "metadata": {
        "id": "7cMXQp8Mi-Hx"
      },
      "source": [
        "class TweetsDataset2(Dataset):\n",
        "\n",
        "    def __init__(self, dataset, word2id, symbol2id, DEVICE):\n",
        "        self.dataset = dataset['preprocessed_text'].values\n",
        "        self.preprocessed_text = dataset['preprocessed_text'].values\n",
        "        self.symbol2id = symbol2id\n",
        "        self.word2id = word2id\n",
        "        self.length = dataset.shape[0]\n",
        "        self.target = torch.Tensor(dataset['tone'].values)\n",
        "        self.device = DEVICE\n",
        "\n",
        "    def __len__(self):\n",
        "        return self.length\n",
        "\n",
        "    def __getitem__(self, index): \n",
        "        tokens = self.dataset[index] \n",
        "        ids_tokens = torch.LongTensor([self.word2id[token] for token in tokens if token in self.word2id])\n",
        "        tokens = ''.join(tokens)\n",
        "        ids_symbols = torch.LongTensor([self.symbol2id[symbol] for symbol in tokens if symbol in self.symbol2id])\n",
        "        y = self.target[index]\n",
        "        return ids_tokens, ids_symbols, y\n",
        "\n",
        "\n",
        "    def collate_fn(self, batch): \n",
        "      ids_tokens, ids_symbols, y = list(zip(*batch))\n",
        "      padded_ids_tokens = pad_sequence(ids_tokens, batch_first=True).to(self.device)\n",
        "      padded_ids_symbols = pad_sequence(ids_symbols, batch_first=True).to(self.device)\n",
        "      y = torch.LongTensor(y)\n",
        "      y = y.type(torch.Tensor).reshape(100,1).to(self.device)\n",
        "      return padded_ids_tokens, padded_ids_symbols, y"
      ],
      "execution_count": 58,
      "outputs": []
    },
    {
      "cell_type": "code",
      "metadata": {
        "id": "2WsB3LOzCKBQ"
      },
      "source": [
        "train_dataset2 = TweetsDataset2(train_sentences, word2id, symbol2id, DEVICE)\n",
        "train_sampler2 = RandomSampler(train_dataset2)\n",
        "train_iterator2 = DataLoader(train_dataset2, collate_fn = train_dataset2.collate_fn, sampler=train_sampler2, batch_size=100)"
      ],
      "execution_count": 59,
      "outputs": []
    },
    {
      "cell_type": "markdown",
      "metadata": {
        "id": "beVucfXcU-an"
      },
      "source": [
        "Пример батча:"
      ]
    },
    {
      "cell_type": "code",
      "metadata": {
        "id": "BfuIOpY1U9ul"
      },
      "source": [
        "batch = next(iter(train_iterator2))"
      ],
      "execution_count": 60,
      "outputs": []
    },
    {
      "cell_type": "code",
      "metadata": {
        "colab": {
          "base_uri": "https://localhost:8080/"
        },
        "id": "Weakt-JTVQEz",
        "outputId": "3f5aa2ca-0322-48fb-bdc3-704bb13285d1"
      },
      "source": [
        "batch[0][0]"
      ],
      "execution_count": 61,
      "outputs": [
        {
          "output_type": "execute_result",
          "data": {
            "text/plain": [
              "tensor([15393, 15171, 32186, 22485, 31637, 15171, 33326,  8121, 30058,  2241,\n",
              "        33432,  8121, 13040, 22485, 33432, 22485,  5862,  2241, 34261, 28800,\n",
              "         5862, 34261, 28800,     0,     0,     0,     0,     0,     0,     0,\n",
              "            0,     0,     0,     0,     0,     0,     0,     0,     0,     0,\n",
              "            0,     0,     0,     0,     0,     0,     0,     0,     0,     0,\n",
              "            0,     0,     0,     0,     0,     0,     0,     0,     0,     0,\n",
              "            0,     0,     0,     0,     0,     0,     0,     0,     0,     0,\n",
              "            0,     0,     0,     0,     0,     0,     0,     0,     0,     0,\n",
              "            0,     0,     0,     0,     0,     0,     0,     0,     0,     0,\n",
              "            0,     0,     0,     0,     0,     0,     0,     0,     0,     0,\n",
              "            0,     0,     0,     0,     0,     0,     0,     0,     0,     0,\n",
              "            0,     0,     0,     0,     0,     0,     0], device='cuda:0')"
            ]
          },
          "metadata": {},
          "execution_count": 61
        }
      ]
    },
    {
      "cell_type": "code",
      "metadata": {
        "colab": {
          "base_uri": "https://localhost:8080/"
        },
        "id": "--tPf5EjVSnE",
        "outputId": "7219b928-440f-4bbe-e6e0-4c3d459cb57c"
      },
      "source": [
        "batch[1][0]"
      ],
      "execution_count": 62,
      "outputs": [
        {
          "output_type": "execute_result",
          "data": {
            "text/plain": [
              "tensor([62, 53, 52, 59, 14, 53, 49,  9, 54,  5, 45,  9, 69, 59, 45, 59, 32,  5,\n",
              "        25, 70, 32, 25, 70, 40, 65, 12,  0,  0,  0,  0,  0,  0,  0,  0,  0,  0,\n",
              "         0,  0,  0,  0,  0,  0,  0,  0,  0,  0,  0,  0,  0,  0,  0,  0,  0,  0,\n",
              "         0,  0,  0,  0,  0,  0,  0,  0,  0,  0,  0,  0,  0,  0,  0,  0,  0,  0,\n",
              "         0,  0,  0,  0,  0,  0,  0,  0,  0,  0,  0,  0,  0,  0,  0,  0,  0,  0,\n",
              "         0,  0,  0,  0,  0,  0,  0,  0,  0,  0,  0,  0,  0,  0,  0,  0,  0,  0,\n",
              "         0,  0,  0,  0,  0,  0,  0,  0,  0], device='cuda:0')"
            ]
          },
          "metadata": {},
          "execution_count": 62
        }
      ]
    },
    {
      "cell_type": "code",
      "metadata": {
        "colab": {
          "base_uri": "https://localhost:8080/"
        },
        "id": "8TY73ev-VT1K",
        "outputId": "51efe146-a3f9-4425-9e90-1ff1111e2d09"
      },
      "source": [
        "batch[2][0]"
      ],
      "execution_count": 63,
      "outputs": [
        {
          "output_type": "execute_result",
          "data": {
            "text/plain": [
              "tensor([1.], device='cuda:0')"
            ]
          },
          "metadata": {},
          "execution_count": 63
        }
      ]
    },
    {
      "cell_type": "code",
      "metadata": {
        "id": "JjlMoByylYC9"
      },
      "source": [
        "val_dataset2 = TweetsDataset2(val_sentences, word2id, symbol2id, DEVICE)\n",
        "val_sampler2 = SequentialSampler(val_dataset2)\n",
        "val_iterator2 = DataLoader(val_dataset2, collate_fn = val_dataset2.collate_fn, sampler=val_sampler2, batch_size=100)"
      ],
      "execution_count": 64,
      "outputs": []
    },
    {
      "cell_type": "markdown",
      "metadata": {
        "id": "UCwOaw1TVfYO"
      },
      "source": [
        "Класс для сети с эмбеддингами слов и эмбеддингами символов:"
      ]
    },
    {
      "cell_type": "code",
      "metadata": {
        "id": "V1iLtyKq_Te7"
      },
      "source": [
        "class CNN_2(nn.Module):\n",
        "    \n",
        "    def __init__(self, vocab_tokens, vocab_symbols, embedding_dim_tokens, embedding_dim_symbols):\n",
        "        super().__init__()\n",
        "        self.embedding_tokens = nn.Embedding(vocab_tokens, embedding_dim_tokens)\n",
        "        self.embedding_symbols = nn.Embedding(vocab_symbols, embedding_dim_symbols)\n",
        "        self.bigrams_symbols = nn.Conv1d(in_channels=embedding_dim_symbols, out_channels=100, kernel_size=2, padding='same')\n",
        "        self.trigrams_symbols = nn.Conv1d(in_channels=embedding_dim_symbols, out_channels=80, kernel_size=3, padding='same')\n",
        "        self.pooling = nn.MaxPool1d(kernel_size=2, stride=2)\n",
        "        self.relu = nn.ReLU()\n",
        "        self.hidden = nn.Linear(in_features=45, out_features=1)\n",
        "        self.hidden2 = nn.Linear(in_features=366, out_features=1)\n",
        "        self.dropout = nn.Dropout(p=0.5)\n",
        "        self.out = nn.Sigmoid()\n",
        "\n",
        "    def forward(self, token, symbol):\n",
        "        embedded_tokens = self.embedding_tokens(token)\n",
        "        embedded_symbols = self.embedding_symbols(symbol)\n",
        "\n",
        "        embedded_tokens = embedded_tokens.transpose(1,2)\n",
        "        embedded_symbols = embedded_symbols.transpose(1,2)\n",
        "\n",
        "        pooling_tokens = self.pooling(embedded_tokens)\n",
        "        hidden = self.hidden(pooling_tokens)\n",
        "\n",
        "        feature_map_bigrams = self.relu(self.bigrams_symbols(embedded_symbols))\n",
        "        feature_map_trigrams = self.relu(self.trigrams_symbols(embedded_symbols))\n",
        "        concat1 = torch.cat((feature_map_bigrams, feature_map_trigrams), 1)\n",
        "        pooling_symbols = concat1.max(2)[0] \n",
        "\n",
        "        hidden = hidden.reshape(100,186)\n",
        "        concat2 = torch.cat((pooling_symbols, hidden), 1)\n",
        "        logits = self.hidden2(concat2) \n",
        "        logits = self.out(logits)    \n",
        "        return logits\n",
        "      "
      ],
      "execution_count": 65,
      "outputs": []
    },
    {
      "cell_type": "code",
      "metadata": {
        "id": "uvOL4weB0gC0"
      },
      "source": [
        "def train(model, iterator, optimizer, criterion, metric):\n",
        "    print('Training...')\n",
        "    epoch_loss = 0 # для подсчета среднего лосса на всех батчах\n",
        "    epoch_metric = 0\n",
        "    model.train()  # ставим модель в обучение, явно указываем, что сейчас надо будет хранить градиенты у всех весов\n",
        "\n",
        "    for i, (tokens, symbols, ys) in enumerate(iterator):\n",
        "        optimizer.zero_grad()  #обнуляем градиенты\n",
        "        preds = model(tokens[:, :90], symbols)  #прогоняем данные через модель\n",
        "        loss = criterion(preds, ys) #считаем значение функции потерь  \n",
        "        loss.backward() #считаем градиенты  \n",
        "        optimizer.step() #обновляем веса \n",
        "        epoch_loss += loss.item() #сохраняем значение функции потерь\n",
        "        \n",
        "        batch_metric = metric(preds.round().long(), ys.long(), ignore_index=0)\n",
        "        epoch_metric += batch_metric\n",
        "        if not (i + 1) % 50:\n",
        "            print(f'Train loss: {loss.item()}, Train f1: {batch_metric}')\n",
        "            #print(f'Train loss: {epoch_loss/i}, Train f1: {epoch_metric/i}')\n",
        "        \n",
        "    return epoch_metric / len(iterator), epoch_loss / len(iterator) # возвращаем среднее значение по всей выборке"
      ],
      "execution_count": 66,
      "outputs": []
    },
    {
      "cell_type": "code",
      "metadata": {
        "id": "PSKzPyGX00a8"
      },
      "source": [
        "def evaluate(model, iterator, criterion, metric):\n",
        "    print(\"\\nValidating...\")\n",
        "    epoch_loss = 0\n",
        "    epoch_metric = 0\n",
        "    model.eval() \n",
        "    with torch.no_grad():\n",
        "        for i, (tokens, symbols, ys) in enumerate(iterator):\n",
        "            preds = model(tokens[:, :90], symbols)  # делаем предсказания на тесте\n",
        "            loss = criterion(preds, ys)   # считаем значения функции ошибки для статистики  \n",
        "            epoch_loss += loss.item()\n",
        "            batch_metric = metric(preds.round().long(), ys.long(), ignore_index=0)\n",
        "            epoch_metric += batch_metric\n",
        "\n",
        "            if not (i + 1) % 50:\n",
        "              pass\n",
        "              print(f'Val loss_ev: {loss.item()}, Val f1_ev: {batch_metric}')\n",
        "                #print(f'Val loss: {epoch_loss/i}, Val f1: {epoch_metric/i}')\n",
        "\n",
        "    return epoch_metric / len(iterator), epoch_loss / len(iterator) # возвращаем среднее значение по всей выборке"
      ],
      "execution_count": 67,
      "outputs": []
    },
    {
      "cell_type": "code",
      "metadata": {
        "id": "2eEIXoNaNAY0"
      },
      "source": [
        "model3 = CNN_2(len(id2word), len(id2symbol), 186, 8)\n",
        "optimizer = optim.Adam(model3.parameters(), lr=0.001)\n",
        "criterion = nn.BCELoss() # \n",
        "\n",
        "# веса модели и значения лосса храним там же, где и все остальные тензоры\n",
        "model3 = model3.to(DEVICE)\n",
        "criterion = criterion.to(DEVICE)"
      ],
      "execution_count": 68,
      "outputs": []
    },
    {
      "cell_type": "code",
      "metadata": {
        "id": "Z12z2LI30zve",
        "colab": {
          "base_uri": "https://localhost:8080/"
        },
        "outputId": "f5979d83-b091-464f-abe0-30ca7ec32e95"
      },
      "source": [
        "losses3 = []\n",
        "losses_eval3 = []\n",
        "f1s3 = []\n",
        "f1s_eval3 = []\n",
        "\n",
        "for i in range(10):\n",
        "    print(f'\\nstarting Epoch {i}')\n",
        "    f1_value, epoch_loss = train(model3, train_iterator2, optimizer, criterion, metric=f1)\n",
        "    losses3.append(epoch_loss)\n",
        "    f1s3.append(f1_value)\n",
        "\n",
        "    f1_value_on_test, epoch_loss_on_test = evaluate(model3, val_iterator2, criterion, metric=f1)\n",
        "    losses_eval3.append(epoch_loss_on_test)\n",
        "    f1s_eval3.append(f1_value_on_test)"
      ],
      "execution_count": 69,
      "outputs": [
        {
          "output_type": "stream",
          "name": "stdout",
          "text": [
            "\n",
            "starting Epoch 0\n",
            "Training...\n",
            "Train loss: 0.6717464923858643, Train f1: 0.7039999961853027\n",
            "Train loss: 0.705377995967865, Train f1: 0.5714285969734192\n",
            "Train loss: 0.6413912177085876, Train f1: 0.6666666865348816\n",
            "Train loss: 0.5996271967887878, Train f1: 0.695652186870575\n",
            "Train loss: 0.6530884504318237, Train f1: 0.7462686896324158\n",
            "Train loss: 0.5919584631919861, Train f1: 0.7719298005104065\n",
            "Train loss: 0.5644028186798096, Train f1: 0.8163265585899353\n",
            "Train loss: 0.5900299549102783, Train f1: 0.7199999690055847\n",
            "Train loss: 0.6348799467086792, Train f1: 0.641509473323822\n",
            "Train loss: 0.5668496489524841, Train f1: 0.6734693646430969\n",
            "Train loss: 0.6625627875328064, Train f1: 0.6000000238418579\n",
            "Train loss: 0.6198035478591919, Train f1: 0.7441860437393188\n",
            "Train loss: 0.579657793045044, Train f1: 0.5882352590560913\n",
            "Train loss: 0.5371907949447632, Train f1: 0.6881721019744873\n",
            "Train loss: 0.6364281177520752, Train f1: 0.6666666865348816\n",
            "Train loss: 0.5687806010246277, Train f1: 0.6857143044471741\n",
            "Train loss: 0.612801194190979, Train f1: 0.5128205418586731\n",
            "Train loss: 0.5837290287017822, Train f1: 0.7047619223594666\n",
            "\n",
            "Validating...\n",
            "Val loss_ev: 0.5306540727615356, Val f1_ev: 0.6923076510429382\n",
            "Val loss_ev: 0.5547964572906494, Val f1_ev: 0.6966292262077332\n",
            "\n",
            "starting Epoch 1\n",
            "Training...\n",
            "Train loss: 0.5896419286727905, Train f1: 0.6352941393852234\n",
            "Train loss: 0.5513365268707275, Train f1: 0.761904776096344\n",
            "Train loss: 0.5660396814346313, Train f1: 0.6818182468414307\n",
            "Train loss: 0.5660871267318726, Train f1: 0.7839999198913574\n",
            "Train loss: 0.6015260815620422, Train f1: 0.6796116828918457\n",
            "Train loss: 0.5616850256919861, Train f1: 0.7079646587371826\n",
            "Train loss: 0.6126328110694885, Train f1: 0.7079645991325378\n",
            "Train loss: 0.5500377416610718, Train f1: 0.7222222089767456\n",
            "Train loss: 0.5825726389884949, Train f1: 0.7207207083702087\n",
            "Train loss: 0.5751367211341858, Train f1: 0.5569620728492737\n",
            "Train loss: 0.545903742313385, Train f1: 0.7021276354789734\n",
            "Train loss: 0.601176381111145, Train f1: 0.6538462042808533\n",
            "Train loss: 0.47643089294433594, Train f1: 0.7850467562675476\n",
            "Train loss: 0.5908316373825073, Train f1: 0.7256636619567871\n",
            "Train loss: 0.49528372287750244, Train f1: 0.7600000500679016\n",
            "Train loss: 0.5476081967353821, Train f1: 0.7457627058029175\n",
            "Train loss: 0.5677788853645325, Train f1: 0.7619048357009888\n",
            "Train loss: 0.502519428730011, Train f1: 0.7199999690055847\n",
            "\n",
            "Validating...\n",
            "Val loss_ev: 0.520468533039093, Val f1_ev: 0.698113203048706\n",
            "Val loss_ev: 0.5430067181587219, Val f1_ev: 0.7234042286872864\n",
            "\n",
            "starting Epoch 2\n",
            "Training...\n",
            "Train loss: 0.48855841159820557, Train f1: 0.7777777314186096\n",
            "Train loss: 0.5684069395065308, Train f1: 0.6923076510429382\n",
            "Train loss: 0.5273259282112122, Train f1: 0.7708333134651184\n",
            "Train loss: 0.5098739266395569, Train f1: 0.6593406200408936\n",
            "Train loss: 0.5828709602355957, Train f1: 0.6136364340782166\n",
            "Train loss: 0.5731126070022583, Train f1: 0.6923076510429382\n",
            "Train loss: 0.49520009756088257, Train f1: 0.8103447556495667\n",
            "Train loss: 0.5191119313240051, Train f1: 0.7719298601150513\n",
            "Train loss: 0.5289306044578552, Train f1: 0.7326732277870178\n",
            "Train loss: 0.5704506635665894, Train f1: 0.6521738767623901\n",
            "Train loss: 0.48635944724082947, Train f1: 0.7474747896194458\n",
            "Train loss: 0.5635979175567627, Train f1: 0.5411764979362488\n",
            "Train loss: 0.5214049220085144, Train f1: 0.7647058963775635\n",
            "Train loss: 0.5896849632263184, Train f1: 0.6086956262588501\n",
            "Train loss: 0.5468633770942688, Train f1: 0.6938775777816772\n",
            "Train loss: 0.527496337890625, Train f1: 0.7128713726997375\n",
            "Train loss: 0.5703884959220886, Train f1: 0.7070707082748413\n",
            "Train loss: 0.5463411808013916, Train f1: 0.7142857313156128\n",
            "\n",
            "Validating...\n",
            "Val loss_ev: 0.5037181377410889, Val f1_ev: 0.7400000095367432\n",
            "Val loss_ev: 0.5236746668815613, Val f1_ev: 0.7441860437393188\n",
            "\n",
            "starting Epoch 3\n",
            "Training...\n",
            "Train loss: 0.5074049830436707, Train f1: 0.75789475440979\n",
            "Train loss: 0.46500495076179504, Train f1: 0.7543859481811523\n",
            "Train loss: 0.5379185080528259, Train f1: 0.737864077091217\n",
            "Train loss: 0.5410152077674866, Train f1: 0.7346938848495483\n",
            "Train loss: 0.5664289593696594, Train f1: 0.7241379022598267\n",
            "Train loss: 0.4814441502094269, Train f1: 0.7252746820449829\n",
            "Train loss: 0.5677990913391113, Train f1: 0.6315789222717285\n",
            "Train loss: 0.5385860204696655, Train f1: 0.7184466123580933\n",
            "Train loss: 0.5653442144393921, Train f1: 0.6185567378997803\n",
            "Train loss: 0.5841094851493835, Train f1: 0.7350426316261292\n",
            "Train loss: 0.5137003064155579, Train f1: 0.7021276950836182\n",
            "Train loss: 0.5236209034919739, Train f1: 0.7021276354789734\n",
            "Train loss: 0.5604162812232971, Train f1: 0.6966292262077332\n",
            "Train loss: 0.5738300085067749, Train f1: 0.5822784304618835\n",
            "Train loss: 0.48951584100723267, Train f1: 0.7142857313156128\n",
            "Train loss: 0.5123190879821777, Train f1: 0.7741935849189758\n",
            "Train loss: 0.5397735238075256, Train f1: 0.6938775777816772\n",
            "Train loss: 0.5126715898513794, Train f1: 0.6956521272659302\n",
            "\n",
            "Validating...\n",
            "Val loss_ev: 0.507663369178772, Val f1_ev: 0.6966291666030884\n",
            "Val loss_ev: 0.49905073642730713, Val f1_ev: 0.6578947305679321\n",
            "\n",
            "starting Epoch 4\n",
            "Training...\n",
            "Train loss: 0.6035402417182922, Train f1: 0.6666666865348816\n",
            "Train loss: 0.5445919036865234, Train f1: 0.6382978558540344\n",
            "Train loss: 0.5601175427436829, Train f1: 0.6938775777816772\n",
            "Train loss: 0.5418341159820557, Train f1: 0.651685357093811\n",
            "Train loss: 0.528271496295929, Train f1: 0.6734693646430969\n",
            "Train loss: 0.48335155844688416, Train f1: 0.7766990065574646\n",
            "Train loss: 0.47997093200683594, Train f1: 0.8108108043670654\n",
            "Train loss: 0.55525803565979, Train f1: 0.6024096608161926\n",
            "Train loss: 0.5768699049949646, Train f1: 0.7070707082748413\n",
            "Train loss: 0.5220915675163269, Train f1: 0.6746987700462341\n",
            "Train loss: 0.5207834243774414, Train f1: 0.7499999403953552\n",
            "Train loss: 0.49292296171188354, Train f1: 0.7199999690055847\n",
            "Train loss: 0.4499674141407013, Train f1: 0.752293586730957\n",
            "Train loss: 0.4734688401222229, Train f1: 0.8205128312110901\n",
            "Train loss: 0.4462684988975525, Train f1: 0.7766990661621094\n",
            "Train loss: 0.5739533305168152, Train f1: 0.5641025900840759\n",
            "Train loss: 0.534547746181488, Train f1: 0.698113203048706\n",
            "Train loss: 0.5291217565536499, Train f1: 0.7192983031272888\n",
            "\n",
            "Validating...\n",
            "Val loss_ev: 0.49578624963760376, Val f1_ev: 0.7070707082748413\n",
            "Val loss_ev: 0.513638973236084, Val f1_ev: 0.7415730953216553\n",
            "\n",
            "starting Epoch 5\n",
            "Training...\n",
            "Train loss: 0.5474275350570679, Train f1: 0.7543860077857971\n",
            "Train loss: 0.5573899149894714, Train f1: 0.686274528503418\n",
            "Train loss: 0.5293519496917725, Train f1: 0.7551020979881287\n",
            "Train loss: 0.5522889494895935, Train f1: 0.6990290880203247\n",
            "Train loss: 0.5362040996551514, Train f1: 0.6329113245010376\n",
            "Train loss: 0.6194040775299072, Train f1: 0.76106196641922\n",
            "Train loss: 0.4879768192768097, Train f1: 0.7868852615356445\n",
            "Train loss: 0.5328781008720398, Train f1: 0.6930692791938782\n",
            "Train loss: 0.5002890825271606, Train f1: 0.7524752616882324\n",
            "Train loss: 0.4789420962333679, Train f1: 0.7021276354789734\n",
            "Train loss: 0.47829577326774597, Train f1: 0.7454545497894287\n",
            "Train loss: 0.5569728016853333, Train f1: 0.6521739363670349\n",
            "Train loss: 0.5630071759223938, Train f1: 0.6739130616188049\n",
            "Train loss: 0.549239456653595, Train f1: 0.6741572618484497\n",
            "Train loss: 0.43007892370224, Train f1: 0.7200000286102295\n",
            "Train loss: 0.5643348693847656, Train f1: 0.7115384936332703\n",
            "Train loss: 0.5740526914596558, Train f1: 0.7021276354789734\n",
            "Train loss: 0.468553751707077, Train f1: 0.7191011905670166\n",
            "\n",
            "Validating...\n",
            "Val loss_ev: 0.5175389051437378, Val f1_ev: 0.7021276354789734\n",
            "Val loss_ev: 0.5058207511901855, Val f1_ev: 0.707317054271698\n",
            "\n",
            "starting Epoch 6\n",
            "Training...\n",
            "Train loss: 0.5495777130126953, Train f1: 0.7058823108673096\n",
            "Train loss: 0.572670042514801, Train f1: 0.6981132626533508\n",
            "Train loss: 0.5674163103103638, Train f1: 0.7272726893424988\n",
            "Train loss: 0.5181999206542969, Train f1: 0.7173912525177002\n",
            "Train loss: 0.5298209190368652, Train f1: 0.7291666865348816\n",
            "Train loss: 0.5204687118530273, Train f1: 0.723809540271759\n",
            "Train loss: 0.47940582036972046, Train f1: 0.7809523940086365\n",
            "Train loss: 0.5294656157493591, Train f1: 0.695652186870575\n",
            "Train loss: 0.48791658878326416, Train f1: 0.7272727489471436\n",
            "Train loss: 0.5082085132598877, Train f1: 0.6904761791229248\n",
            "Train loss: 0.5042403340339661, Train f1: 0.7826087474822998\n",
            "Train loss: 0.4671269953250885, Train f1: 0.75789475440979\n",
            "Train loss: 0.5233355760574341, Train f1: 0.7346938848495483\n",
            "Train loss: 0.518058717250824, Train f1: 0.7706422209739685\n",
            "Train loss: 0.4923410713672638, Train f1: 0.7294118404388428\n",
            "Train loss: 0.4960378110408783, Train f1: 0.7543859481811523\n",
            "Train loss: 0.5474175214767456, Train f1: 0.7021276354789734\n",
            "Train loss: 0.5300860404968262, Train f1: 0.7021276354789734\n",
            "\n",
            "Validating...\n",
            "Val loss_ev: 0.4997914135456085, Val f1_ev: 0.7254902124404907\n",
            "Val loss_ev: 0.5086357593536377, Val f1_ev: 0.7674419283866882\n",
            "\n",
            "starting Epoch 7\n",
            "Training...\n",
            "Train loss: 0.5538369417190552, Train f1: 0.7346939444541931\n",
            "Train loss: 0.5232922434806824, Train f1: 0.737864077091217\n",
            "Train loss: 0.5084924101829529, Train f1: 0.7184466123580933\n",
            "Train loss: 0.5265562534332275, Train f1: 0.6666666865348816\n",
            "Train loss: 0.44816213846206665, Train f1: 0.7768595218658447\n",
            "Train loss: 0.45343610644340515, Train f1: 0.7843137383460999\n",
            "Train loss: 0.491019606590271, Train f1: 0.7809523940086365\n",
            "Train loss: 0.4388306438922882, Train f1: 0.8113206624984741\n",
            "Train loss: 0.520430862903595, Train f1: 0.7368420958518982\n",
            "Train loss: 0.6219308376312256, Train f1: 0.6902654767036438\n",
            "Train loss: 0.53977370262146, Train f1: 0.7747747898101807\n",
            "Train loss: 0.5720081329345703, Train f1: 0.6382979154586792\n",
            "Train loss: 0.5424007177352905, Train f1: 0.6874999403953552\n",
            "Train loss: 0.4828830659389496, Train f1: 0.7777777910232544\n",
            "Train loss: 0.3894495964050293, Train f1: 0.7368420958518982\n",
            "Train loss: 0.4982636272907257, Train f1: 0.6739130020141602\n",
            "Train loss: 0.5143185257911682, Train f1: 0.7126436829566956\n",
            "Train loss: 0.5065323114395142, Train f1: 0.6956521272659302\n",
            "\n",
            "Validating...\n",
            "Val loss_ev: 0.5070140957832336, Val f1_ev: 0.6966291666030884\n",
            "Val loss_ev: 0.49307677149772644, Val f1_ev: 0.7027026414871216\n",
            "\n",
            "starting Epoch 8\n",
            "Training...\n",
            "Train loss: 0.5743828415870667, Train f1: 0.6666666865348816\n",
            "Train loss: 0.572234034538269, Train f1: 0.6808510422706604\n",
            "Train loss: 0.362448126077652, Train f1: 0.8351648449897766\n",
            "Train loss: 0.4853922128677368, Train f1: 0.7128713130950928\n",
            "Train loss: 0.5325651168823242, Train f1: 0.7394958734512329\n",
            "Train loss: 0.4663163721561432, Train f1: 0.769230842590332\n",
            "Train loss: 0.568929135799408, Train f1: 0.6857143044471741\n",
            "Train loss: 0.45296749472618103, Train f1: 0.8035714626312256\n",
            "Train loss: 0.47655928134918213, Train f1: 0.8067226409912109\n",
            "Train loss: 0.4664531946182251, Train f1: 0.8118812441825867\n",
            "Train loss: 0.47117185592651367, Train f1: 0.7722772359848022\n",
            "Train loss: 0.41012412309646606, Train f1: 0.8080808520317078\n",
            "Train loss: 0.46236327290534973, Train f1: 0.7524752616882324\n",
            "Train loss: 0.38867029547691345, Train f1: 0.8349514007568359\n",
            "Train loss: 0.5001004934310913, Train f1: 0.7021276950836182\n",
            "Train loss: 0.5522341728210449, Train f1: 0.7021276354789734\n",
            "Train loss: 0.47911834716796875, Train f1: 0.6741573214530945\n",
            "Train loss: 0.5294590592384338, Train f1: 0.7610619068145752\n",
            "\n",
            "Validating...\n",
            "Val loss_ev: 0.5142087936401367, Val f1_ev: 0.7115384936332703\n",
            "Val loss_ev: 0.5393096804618835, Val f1_ev: 0.7422680258750916\n",
            "\n",
            "starting Epoch 9\n",
            "Training...\n",
            "Train loss: 0.4556272029876709, Train f1: 0.7640449404716492\n",
            "Train loss: 0.4387778043746948, Train f1: 0.7600000500679016\n",
            "Train loss: 0.6122868061065674, Train f1: 0.6024096608161926\n",
            "Train loss: 0.5632678270339966, Train f1: 0.6428571939468384\n",
            "Train loss: 0.5037509799003601, Train f1: 0.7272727489471436\n",
            "Train loss: 0.5043376088142395, Train f1: 0.769230842590332\n",
            "Train loss: 0.5995922684669495, Train f1: 0.6436781883239746\n",
            "Train loss: 0.4428621530532837, Train f1: 0.7799999713897705\n",
            "Train loss: 0.47784003615379333, Train f1: 0.7378641366958618\n",
            "Train loss: 0.4518694281578064, Train f1: 0.7708333134651184\n",
            "Train loss: 0.4994664788246155, Train f1: 0.7706422209739685\n",
            "Train loss: 0.48122331500053406, Train f1: 0.7857142090797424\n",
            "Train loss: 0.4421328008174896, Train f1: 0.8041237592697144\n",
            "Train loss: 0.5049892067909241, Train f1: 0.7678571343421936\n",
            "Train loss: 0.467099666595459, Train f1: 0.7872340679168701\n",
            "Train loss: 0.5497488379478455, Train f1: 0.6352941393852234\n",
            "Train loss: 0.5028249025344849, Train f1: 0.7608695030212402\n",
            "Train loss: 0.5340942740440369, Train f1: 0.7199999690055847\n",
            "\n",
            "Validating...\n",
            "Val loss_ev: 0.5118430256843567, Val f1_ev: 0.6881721019744873\n",
            "Val loss_ev: 0.5084781050682068, Val f1_ev: 0.649350643157959\n"
          ]
        }
      ]
    },
    {
      "cell_type": "code",
      "metadata": {
        "id": "6NPJieomLQ2I",
        "colab": {
          "base_uri": "https://localhost:8080/",
          "height": 294
        },
        "outputId": "3811dbea-3f65-4355-aba3-fec9fe9c0bfd"
      },
      "source": [
        "import matplotlib.pyplot as plt\n",
        "plt.plot(losses3)\n",
        "plt.plot(losses_eval3)\n",
        "plt.title('BCE loss value')\n",
        "plt.ylabel('BCE loss')\n",
        "plt.xlabel('epoch')\n",
        "plt.legend(['train', 'val'], loc='upper right')\n",
        "plt.show()"
      ],
      "execution_count": 70,
      "outputs": [
        {
          "output_type": "display_data",
          "data": {
            "image/png": "[encoded data removed]",
            "text/plain": [
              "<Figure size 432x288 with 1 Axes>"
            ]
          },
          "metadata": {
            "needs_background": "light"
          }
        }
      ]
    },
    {
      "cell_type": "code",
      "metadata": {
        "id": "Z013yE7HLSi8",
        "colab": {
          "base_uri": "https://localhost:8080/",
          "height": 294
        },
        "outputId": "af39ca67-fd6e-468d-81ff-833ea2295a84"
      },
      "source": [
        "import matplotlib.pyplot as plt\n",
        "plt.plot(f1s3)\n",
        "plt.plot(f1s_eval3)\n",
        "plt.title('f1 value')\n",
        "plt.ylabel('f1 value')\n",
        "plt.xlabel('epoch')\n",
        "plt.legend(['train', 'val'], loc='upper right')\n",
        "plt.show()"
      ],
      "execution_count": 71,
      "outputs": [
        {
          "output_type": "display_data",
          "data": {
            "image/png": "[encoded data removed]",
            "text/plain": [
              "<Figure size 432x288 with 1 Axes>"
            ]
          },
          "metadata": {
            "needs_background": "light"
          }
        }
      ]
    },
    {
      "cell_type": "code",
      "metadata": {
        "id": "r_cNuk5-yx-D"
      },
      "source": [
        "def predict(model, iterator):\n",
        "    model.eval()\n",
        "    fp = []\n",
        "    fn = []\n",
        "    tp = [] \n",
        "    tn = []\n",
        "    with torch.no_grad():\n",
        "        for i, (tokens, symbols, ys) in enumerate(iterator):   \n",
        "            preds = model(tokens[:, :90], symbols)  # делаем предсказания на тесте \n",
        "            for pred, gold, token, symbol in zip(preds, ys, tokens, symbols):\n",
        "              text = ' '.join([id2word[int(word)] for word in token if word !=0])\n",
        "              if round(pred.item()) > gold:\n",
        "                fp.append(text)\n",
        "              elif round(pred.item()) < gold:\n",
        "                fn.append(text)\n",
        "              elif round(pred.item()) == gold == 1:\n",
        "                tp.append(text)\n",
        "              elif round(pred.item()) == gold == 0:\n",
        "                tn.append(text)\n",
        "    return fp, fn, tp, tn"
      ],
      "execution_count": 72,
      "outputs": []
    },
    {
      "cell_type": "code",
      "metadata": {
        "id": "DT0givTwy8io"
      },
      "source": [
        "fp3, fn3, tp3, tn3 = predict(model3, train_iterator2)"
      ],
      "execution_count": 73,
      "outputs": []
    },
    {
      "cell_type": "code",
      "metadata": {
        "id": "CXHPcvzMy-ji",
        "colab": {
          "base_uri": "https://localhost:8080/"
        },
        "outputId": "23181e5f-74cf-4a57-c1ec-a15e79701fb2"
      },
      "source": [
        "len(fp3 + fn3 + tp3 +tn3)"
      ],
      "execution_count": 74,
      "outputs": [
        {
          "output_type": "execute_result",
          "data": {
            "text/plain": [
              "90000"
            ]
          },
          "metadata": {},
          "execution_count": 74
        }
      ]
    },
    {
      "cell_type": "code",
      "metadata": {
        "id": "Dmrl_Yguy_3-"
      },
      "source": [
        "a_model3 = (len(tp3)+len(tn3)) / (len(fp3)+len(fn3)+len(tp3)+len(tn3))\n",
        "p_model3 = len(tp3) / (len(tp3)+len(fp3))\n",
        "r_model3 = len(tp3) / (len(tp3)+len(fn3))"
      ],
      "execution_count": 75,
      "outputs": []
    },
    {
      "cell_type": "code",
      "metadata": {
        "id": "QvLday08zBcs",
        "colab": {
          "base_uri": "https://localhost:8080/"
        },
        "outputId": "639525dc-c8cc-4b9e-dc48-9064b91b3f67"
      },
      "source": [
        "a_model3, p_model3, r_model3"
      ],
      "execution_count": 76,
      "outputs": [
        {
          "output_type": "execute_result",
          "data": {
            "text/plain": [
              "(0.7530444444444444, 0.7694263981689131, 0.7308984692420881)"
            ]
          },
          "metadata": {},
          "execution_count": 76
        }
      ]
    },
    {
      "cell_type": "code",
      "metadata": {
        "colab": {
          "base_uri": "https://localhost:8080/"
        },
        "id": "JH4EfpPOKAw9",
        "outputId": "ef125d1b-ab49-4b60-fa96-9cadcea2feb6"
      },
      "source": [
        "a_model1, p_model1, r_model1"
      ],
      "execution_count": 77,
      "outputs": [
        {
          "output_type": "execute_result",
          "data": {
            "text/plain": [
              "(0.8636444444444444, 0.9091848534803041, 0.8115432763050974)"
            ]
          },
          "metadata": {},
          "execution_count": 77
        }
      ]
    },
    {
      "cell_type": "code",
      "metadata": {
        "colab": {
          "base_uri": "https://localhost:8080/"
        },
        "id": "OfAJDkGjKD95",
        "outputId": "4a428553-6455-4eca-bc85-16f5360361a4"
      },
      "source": [
        "a_model2, p_model2, r_model2"
      ],
      "execution_count": 78,
      "outputs": [
        {
          "output_type": "execute_result",
          "data": {
            "text/plain": [
              "(0.8706111111111111, 0.8740397350993377, 0.8695671271385589)"
            ]
          },
          "metadata": {},
          "execution_count": 78
        }
      ]
    },
    {
      "cell_type": "code",
      "metadata": {
        "colab": {
          "base_uri": "https://localhost:8080/"
        },
        "id": "e9Xxn9JNKF1a",
        "outputId": "c4bfbd71-a0d8-433c-b1c8-8c1d57fae64e"
      },
      "source": [
        "a_model3, p_model3, r_model3"
      ],
      "execution_count": 79,
      "outputs": [
        {
          "output_type": "execute_result",
          "data": {
            "text/plain": [
              "(0.7530444444444444, 0.7694263981689131, 0.7308984692420881)"
            ]
          },
          "metadata": {},
          "execution_count": 79
        }
      ]
    },
    {
      "cell_type": "markdown",
      "metadata": {
        "id": "DZhTmZqtWB0u"
      },
      "source": [
        "Дальше представлены немного улучшенные модели: первая - для сети с подгруженными fasttext эмбеддингами, вторая - для комбинации эмбеддингов токенов и эмбеддингов символов."
      ]
    },
    {
      "cell_type": "code",
      "metadata": {
        "id": "coftm0_PIJ-5"
      },
      "source": [
        "class CNN_ft2(nn.Module):\n",
        "    \n",
        "    def __init__(self, vocab_size, embedding_dim):\n",
        "        super().__init__()\n",
        "        self.embedding = nn.Embedding(vocab_size, embedding_dim)\n",
        "        self.embedding.from_pretrained(torch.tensor(weights), freeze=True)\n",
        "        self.bigrams = nn.Conv1d(in_channels=embedding_dim, out_channels=100, kernel_size=6, padding='same')\n",
        "        self.trigrams = nn.Conv1d(in_channels=embedding_dim, out_channels=80, kernel_size=8, padding='same')\n",
        "        self.pooling = nn.MaxPool1d(kernel_size=1, stride=2)\n",
        "        self.relu = nn.ReLU()\n",
        "        self.hidden = nn.Linear(in_features=180, out_features=1)\n",
        "        self.dropout = nn.Dropout(p=0.5)\n",
        "        self.out = nn.Sigmoid()\n",
        "\n",
        "    def forward(self, word):\n",
        "        embedded = self.embedding(word)\n",
        "        embedded = embedded.transpose(1,2)\n",
        "\n",
        "        feature_map_bigrams = self.relu(self.bigrams(embedded))\n",
        "        feature_map_trigrams = self.relu(self.trigrams(embedded))\n",
        "        concat = torch.cat((feature_map_bigrams, feature_map_trigrams), 1)\n",
        "\n",
        "        feature_map_bigrams2 = self.dropout(self.pooling(self.relu(self.bigrams(concat))))\n",
        "        feature_map_trigrams2 = self.dropout(self.pooling(self.relu(self.trigrams(concat))))\n",
        "        pooling1 = feature_map_bigrams2.max(2)[0] \n",
        "        pooling2 = feature_map_trigrams2.max(2)[0]\n",
        "        concat2 = torch.cat((pooling1, pooling2), 1)\n",
        "\n",
        "        logits = self.hidden(concat2) \n",
        "        logits = self.out(logits)    \n",
        "        return logits"
      ],
      "execution_count": 80,
      "outputs": []
    },
    {
      "cell_type": "markdown",
      "metadata": {
        "id": "shGxYvM8g2C7"
      },
      "source": [
        "Что изменили: kernel_size для биграмм - 6, kernel_size для триграмм - 8, kernel_size для пуллинга - 1."
      ]
    },
    {
      "cell_type": "code",
      "metadata": {
        "id": "sYt0pbZdImTI"
      },
      "source": [
        "model2_2 = CNN_ft2(len(word2id), 180)\n",
        "optimizer = optim.Adam(model2_2.parameters(), lr=0.001)\n",
        "criterion = nn.BCELoss() # \n",
        "\n",
        "# веса модели и значения лосса храним там же, где и все остальные тензоры\n",
        "model2_2 = model2_2.to(DEVICE)\n",
        "criterion = criterion.to(DEVICE)"
      ],
      "execution_count": 81,
      "outputs": []
    },
    {
      "cell_type": "code",
      "metadata": {
        "id": "5QVi8ws6I-YA"
      },
      "source": [
        "def train(model, iterator, optimizer, criterion, metric):\n",
        "    print('Training...')\n",
        "    epoch_loss = 0 # для подсчета среднего лосса на всех батчах\n",
        "    epoch_metric = 0\n",
        "    model.train()  # ставим модель в обучение, явно указываем, что сейчас надо будет хранить градиенты у всех весов\n",
        "\n",
        "    for i, (texts, ys) in enumerate(iterator): #итерируемся по батчам\n",
        "        optimizer.zero_grad()  #обнуляем градиенты\n",
        "        preds = model(texts)  #прогоняем данные через модель\n",
        "        loss = criterion(preds, ys) #считаем значение функции потерь  \n",
        "        loss.backward() #считаем градиенты  \n",
        "        optimizer.step() #обновляем веса \n",
        "        epoch_loss += loss.item() #сохраняем значение функции потерь\n",
        "        \n",
        "        batch_metric = metric(preds.round().long(), ys.long(), ignore_index=0)\n",
        "        epoch_metric += batch_metric\n",
        "        if not (i + 1) % 50:\n",
        "            print(f'Train loss: {loss.item()}, Train f1: {batch_metric}')\n",
        "            #print(f'Train loss: {epoch_loss/i}, Train f1: {epoch_metric/i}')\n",
        "        \n",
        "    return epoch_metric / len(iterator), epoch_loss / len(iterator) # возвращаем среднее значение по всей выборке"
      ],
      "execution_count": 82,
      "outputs": []
    },
    {
      "cell_type": "code",
      "metadata": {
        "id": "0yXah4_5I9nz"
      },
      "source": [
        "def evaluate(model, iterator, criterion, metric):\n",
        "    print(\"\\nValidating...\")\n",
        "    epoch_loss = 0\n",
        "    epoch_metric = 0\n",
        "    model.eval() \n",
        "    with torch.no_grad():\n",
        "        for i, (texts, ys) in enumerate(iterator):\n",
        "            preds = model(texts)  # делаем предсказания на тесте\n",
        "            loss = criterion(preds, ys)   # считаем значения функции ошибки для статистики  \n",
        "            epoch_loss += loss.item()\n",
        "            batch_metric = metric(preds.round().long(), ys.long(), ignore_index=0)\n",
        "            epoch_metric += batch_metric\n",
        "\n",
        "            if not (i + 1) % 50:\n",
        "              pass\n",
        "              print(f'Val loss_ev: {loss.item()}, Val f1_ev: {batch_metric}')\n",
        "                #print(f'Val loss: {epoch_loss/i}, Val f1: {epoch_metric/i}')\n",
        "\n",
        "    return epoch_metric / len(iterator), epoch_loss / len(iterator) # возвращаем среднее значение по всей выборке"
      ],
      "execution_count": 83,
      "outputs": []
    },
    {
      "cell_type": "code",
      "metadata": {
        "colab": {
          "base_uri": "https://localhost:8080/"
        },
        "id": "DUqe_0PiIqyW",
        "outputId": "b7032387-7b6f-4ec7-ab54-9a77f57cdc4e"
      },
      "source": [
        "losses2_2 = []\n",
        "losses_eval2_2 = []\n",
        "f1s2_2 = []\n",
        "f1s_eval2_2 = []\n",
        "\n",
        "for i in range(10):\n",
        "    print(f'\\nstarting Epoch {i}')\n",
        "    f1_value, epoch_loss = train(model2_2, train_iterator, optimizer, criterion, metric=f1)\n",
        "    losses2_2.append(epoch_loss)\n",
        "    f1s2_2.append(f1_value)\n",
        "\n",
        "    f1_value_on_test, epoch_loss_on_test = evaluate(model2_2, val_iterator, criterion, metric=f1)\n",
        "    losses_eval2_2.append(epoch_loss_on_test)\n",
        "    f1s_eval2_2.append(f1_value_on_test)"
      ],
      "execution_count": 84,
      "outputs": [
        {
          "output_type": "stream",
          "name": "stdout",
          "text": [
            "\n",
            "starting Epoch 0\n",
            "Training...\n",
            "Train loss: 0.6859213709831238, Train f1: 0.6065574288368225\n",
            "Train loss: 0.6471372842788696, Train f1: 0.6504064798355103\n",
            "Train loss: 0.6686952710151672, Train f1: 0.5925925970077515\n",
            "Train loss: 0.5684576630592346, Train f1: 0.723809540271759\n",
            "Train loss: 0.604199230670929, Train f1: 0.7142857313156128\n",
            "Train loss: 0.5786007046699524, Train f1: 0.47499996423721313\n",
            "Train loss: 0.5597385168075562, Train f1: 0.651685357093811\n",
            "Train loss: 0.5495621562004089, Train f1: 0.7652173638343811\n",
            "Train loss: 0.5077215433120728, Train f1: 0.7596898674964905\n",
            "Train loss: 0.6158965826034546, Train f1: 0.6796116828918457\n",
            "Train loss: 0.5647343993186951, Train f1: 0.651685357093811\n",
            "Train loss: 0.5803012847900391, Train f1: 0.649350643157959\n",
            "Train loss: 0.546227216720581, Train f1: 0.6739130020141602\n",
            "Train loss: 0.6201624274253845, Train f1: 0.6599999666213989\n",
            "Train loss: 0.5071301460266113, Train f1: 0.7835051417350769\n",
            "Train loss: 0.5706967115402222, Train f1: 0.6739130616188049\n",
            "Train loss: 0.49180105328559875, Train f1: 0.7027027010917664\n",
            "Train loss: 0.6251350045204163, Train f1: 0.6590909361839294\n",
            "\n",
            "Validating...\n",
            "Val loss_ev: 0.5806264281272888, Val f1_ev: 0.6593406200408936\n",
            "Val loss_ev: 0.553943395614624, Val f1_ev: 0.5\n",
            "\n",
            "starting Epoch 1\n",
            "Training...\n",
            "Train loss: 0.518064022064209, Train f1: 0.6585365533828735\n",
            "Train loss: 0.4639874994754791, Train f1: 0.8545454740524292\n",
            "Train loss: 0.4630868434906006, Train f1: 0.8039215803146362\n",
            "Train loss: 0.4407247006893158, Train f1: 0.8244275450706482\n",
            "Train loss: 0.5528459548950195, Train f1: 0.7157894968986511\n",
            "Train loss: 0.49985191226005554, Train f1: 0.7160494327545166\n",
            "Train loss: 0.48049676418304443, Train f1: 0.7835051417350769\n",
            "Train loss: 0.43443700671195984, Train f1: 0.800000011920929\n",
            "Train loss: 0.4921663701534271, Train f1: 0.7735848426818848\n",
            "Train loss: 0.5408567190170288, Train f1: 0.7272727489471436\n",
            "Train loss: 0.48226410150527954, Train f1: 0.7356321811676025\n",
            "Train loss: 0.4767659902572632, Train f1: 0.8269230723381042\n",
            "Train loss: 0.5254303812980652, Train f1: 0.7454544901847839\n",
            "Train loss: 0.5144732594490051, Train f1: 0.7755101919174194\n",
            "Train loss: 0.503057599067688, Train f1: 0.7252747416496277\n",
            "Train loss: 0.5624174475669861, Train f1: 0.7216495275497437\n",
            "Train loss: 0.6504468321800232, Train f1: 0.5647059082984924\n",
            "Train loss: 0.4808387756347656, Train f1: 0.7800000309944153\n",
            "\n",
            "Validating...\n",
            "Val loss_ev: 0.5932095050811768, Val f1_ev: 0.6105263233184814\n",
            "Val loss_ev: 0.5324831008911133, Val f1_ev: 0.6428571939468384\n",
            "\n",
            "starting Epoch 2\n",
            "Training...\n",
            "Train loss: 0.46167755126953125, Train f1: 0.7818182110786438\n",
            "Train loss: 0.4506945312023163, Train f1: 0.75\n",
            "Train loss: 0.4364791810512543, Train f1: 0.7741935849189758\n",
            "Train loss: 0.5010242462158203, Train f1: 0.7555555105209351\n",
            "Train loss: 0.4475652873516083, Train f1: 0.8205128312110901\n",
            "Train loss: 0.5442846417427063, Train f1: 0.6590909361839294\n",
            "Train loss: 0.5149899125099182, Train f1: 0.7096773982048035\n",
            "Train loss: 0.47698211669921875, Train f1: 0.7446808815002441\n",
            "Train loss: 0.5293942093849182, Train f1: 0.7619048357009888\n",
            "Train loss: 0.43475547432899475, Train f1: 0.8205128312110901\n",
            "Train loss: 0.48421531915664673, Train f1: 0.7916666269302368\n",
            "Train loss: 0.5252116918563843, Train f1: 0.7454545497894287\n",
            "Train loss: 0.4382004737854004, Train f1: 0.7526881694793701\n",
            "Train loss: 0.4796340763568878, Train f1: 0.7428570985794067\n",
            "Train loss: 0.4053839147090912, Train f1: 0.8514851927757263\n",
            "Train loss: 0.520193338394165, Train f1: 0.6739130020141602\n",
            "Train loss: 0.6356270909309387, Train f1: 0.6436781883239746\n",
            "Train loss: 0.47824037075042725, Train f1: 0.7173912525177002\n",
            "\n",
            "Validating...\n",
            "Val loss_ev: 0.5564205646514893, Val f1_ev: 0.7256636619567871\n",
            "Val loss_ev: 0.5259160399436951, Val f1_ev: 0.6292134523391724\n",
            "\n",
            "starting Epoch 3\n",
            "Training...\n",
            "Train loss: 0.44446730613708496, Train f1: 0.8301886320114136\n",
            "Train loss: 0.43383780121803284, Train f1: 0.7872340679168701\n",
            "Train loss: 0.44314810633659363, Train f1: 0.75\n",
            "Train loss: 0.5390352010726929, Train f1: 0.698113203048706\n",
            "Train loss: 0.49312394857406616, Train f1: 0.7499999403953552\n",
            "Train loss: 0.5685625076293945, Train f1: 0.7169811129570007\n",
            "Train loss: 0.569532573223114, Train f1: 0.6728971600532532\n",
            "Train loss: 0.542679488658905, Train f1: 0.752293586730957\n",
            "Train loss: 0.4222593605518341, Train f1: 0.8461538553237915\n",
            "Train loss: 0.4519667625427246, Train f1: 0.7961164712905884\n",
            "Train loss: 0.4689711630344391, Train f1: 0.7722772359848022\n",
            "Train loss: 0.5034927129745483, Train f1: 0.784000039100647\n",
            "Train loss: 0.4693056643009186, Train f1: 0.7551020979881287\n",
            "Train loss: 0.5686162710189819, Train f1: 0.6739130020141602\n",
            "Train loss: 0.5283557176589966, Train f1: 0.7524752616882324\n",
            "Train loss: 0.40064719319343567, Train f1: 0.7962962985038757\n",
            "Train loss: 0.472622275352478, Train f1: 0.7647058367729187\n",
            "Train loss: 0.5133733153343201, Train f1: 0.7272727489471436\n",
            "\n",
            "Validating...\n",
            "Val loss_ev: 0.5536001324653625, Val f1_ev: 0.7070707082748413\n",
            "Val loss_ev: 0.49015361070632935, Val f1_ev: 0.6265060305595398\n",
            "\n",
            "starting Epoch 4\n",
            "Training...\n",
            "Train loss: 0.4072558581829071, Train f1: 0.8545454740524292\n",
            "Train loss: 0.4066723585128784, Train f1: 0.8468468189239502\n",
            "Train loss: 0.4506951868534088, Train f1: 0.826923131942749\n",
            "Train loss: 0.38484933972358704, Train f1: 0.8648648858070374\n",
            "Train loss: 0.37267959117889404, Train f1: 0.8333333134651184\n",
            "Train loss: 0.44179093837738037, Train f1: 0.800000011920929\n",
            "Train loss: 0.6137564182281494, Train f1: 0.7216495275497437\n",
            "Train loss: 0.4909937083721161, Train f1: 0.692307710647583\n",
            "Train loss: 0.4353327453136444, Train f1: 0.7872340083122253\n",
            "Train loss: 0.5780967473983765, Train f1: 0.6829268336296082\n",
            "Train loss: 0.4823625087738037, Train f1: 0.75\n",
            "Train loss: 0.47053176164627075, Train f1: 0.7777777910232544\n",
            "Train loss: 0.4025052487850189, Train f1: 0.8545454740524292\n",
            "Train loss: 0.3886656165122986, Train f1: 0.7954545617103577\n",
            "Train loss: 0.5536156892776489, Train f1: 0.6521738767623901\n",
            "Train loss: 0.5803859829902649, Train f1: 0.6444444060325623\n",
            "Train loss: 0.4269687533378601, Train f1: 0.8113207221031189\n",
            "Train loss: 0.40140464901924133, Train f1: 0.800000011920929\n",
            "\n",
            "Validating...\n",
            "Val loss_ev: 0.5110530257225037, Val f1_ev: 0.7766990065574646\n",
            "Val loss_ev: 0.48363402485847473, Val f1_ev: 0.6666666865348816\n",
            "\n",
            "starting Epoch 5\n",
            "Training...\n",
            "Train loss: 0.26231807470321655, Train f1: 0.9090909361839294\n",
            "Train loss: 0.4236057698726654, Train f1: 0.75\n",
            "Train loss: 0.4609149098396301, Train f1: 0.7157894372940063\n",
            "Train loss: 0.3610196113586426, Train f1: 0.8409090638160706\n",
            "Train loss: 0.46294698119163513, Train f1: 0.7435896992683411\n",
            "Train loss: 0.42326682806015015, Train f1: 0.8316831588745117\n",
            "Train loss: 0.41439536213874817, Train f1: 0.791208803653717\n",
            "Train loss: 0.40944868326187134, Train f1: 0.8080808520317078\n",
            "Train loss: 0.4351087808609009, Train f1: 0.8113207817077637\n",
            "Train loss: 0.4682312607765198, Train f1: 0.7636364102363586\n",
            "Train loss: 0.48453590273857117, Train f1: 0.7628865838050842\n",
            "Train loss: 0.4579198360443115, Train f1: 0.7663551568984985\n",
            "Train loss: 0.554561972618103, Train f1: 0.7647058367729187\n",
            "Train loss: 0.4095372259616852, Train f1: 0.7551020383834839\n",
            "Train loss: 0.4680858850479126, Train f1: 0.75\n",
            "Train loss: 0.5211395025253296, Train f1: 0.7380952835083008\n",
            "Train loss: 0.503979504108429, Train f1: 0.7454545497894287\n",
            "Train loss: 0.3808753192424774, Train f1: 0.8333333134651184\n",
            "\n",
            "Validating...\n",
            "Val loss_ev: 0.5241206288337708, Val f1_ev: 0.7199999690055847\n",
            "Val loss_ev: 0.48726561665534973, Val f1_ev: 0.6341463327407837\n",
            "\n",
            "starting Epoch 6\n",
            "Training...\n",
            "Train loss: 0.3664878010749817, Train f1: 0.8085106611251831\n",
            "Train loss: 0.3729473054409027, Train f1: 0.8041236996650696\n",
            "Train loss: 0.4144642651081085, Train f1: 0.8392857313156128\n",
            "Train loss: 0.3995390236377716, Train f1: 0.8333333730697632\n",
            "Train loss: 0.3467766344547272, Train f1: 0.8648648262023926\n",
            "Train loss: 0.41761958599090576, Train f1: 0.8181818723678589\n",
            "Train loss: 0.39582037925720215, Train f1: 0.8089887499809265\n",
            "Train loss: 0.40376144647598267, Train f1: 0.7999999523162842\n",
            "Train loss: 0.537922739982605, Train f1: 0.7524752020835876\n",
            "Train loss: 0.41291117668151855, Train f1: 0.8421052098274231\n",
            "Train loss: 0.3696983754634857, Train f1: 0.8360655307769775\n",
            "Train loss: 0.36163291335105896, Train f1: 0.8545454740524292\n",
            "Train loss: 0.42190033197402954, Train f1: 0.8108108043670654\n",
            "Train loss: 0.3633959889411926, Train f1: 0.8089887499809265\n",
            "Train loss: 0.4880303144454956, Train f1: 0.7567567229270935\n",
            "Train loss: 0.40261751413345337, Train f1: 0.7961165308952332\n",
            "Train loss: 0.40125563740730286, Train f1: 0.8089887499809265\n",
            "Train loss: 0.487302303314209, Train f1: 0.7610619068145752\n",
            "\n",
            "Validating...\n",
            "Val loss_ev: 0.5287567973136902, Val f1_ev: 0.752293586730957\n",
            "Val loss_ev: 0.522905170917511, Val f1_ev: 0.6451612710952759\n",
            "\n",
            "starting Epoch 7\n",
            "Training...\n",
            "Train loss: 0.45759081840515137, Train f1: 0.792452871799469\n",
            "Train loss: 0.3453789949417114, Train f1: 0.8478260636329651\n",
            "Train loss: 0.3078102767467499, Train f1: 0.8979592323303223\n",
            "Train loss: 0.3740684390068054, Train f1: 0.8367347121238708\n",
            "Train loss: 0.3267952799797058, Train f1: 0.9230769276618958\n",
            "Train loss: 0.304745614528656, Train f1: 0.8602150678634644\n",
            "Train loss: 0.41260167956352234, Train f1: 0.822429895401001\n",
            "Train loss: 0.4341413676738739, Train f1: 0.8113207817077637\n",
            "Train loss: 0.36514532566070557, Train f1: 0.8190475702285767\n",
            "Train loss: 0.34829241037368774, Train f1: 0.8376068472862244\n",
            "Train loss: 0.4257940649986267, Train f1: 0.8200000524520874\n",
            "Train loss: 0.5358807444572449, Train f1: 0.7474747896194458\n",
            "Train loss: 0.4516802430152893, Train f1: 0.7500000596046448\n",
            "Train loss: 0.3395406901836395, Train f1: 0.83146071434021\n",
            "Train loss: 0.4698486924171448, Train f1: 0.7173912525177002\n",
            "Train loss: 0.5999982357025146, Train f1: 0.6808510422706604\n",
            "Train loss: 0.48519301414489746, Train f1: 0.7962963581085205\n",
            "Train loss: 0.4344846308231354, Train f1: 0.8155339360237122\n",
            "\n",
            "Validating...\n",
            "Val loss_ev: 0.5366038680076599, Val f1_ev: 0.7833333015441895\n",
            "Val loss_ev: 0.5688682198524475, Val f1_ev: 0.6868687272071838\n",
            "\n",
            "starting Epoch 8\n",
            "Training...\n",
            "Train loss: 0.39556190371513367, Train f1: 0.8163265585899353\n",
            "Train loss: 0.33932310342788696, Train f1: 0.7789473533630371\n",
            "Train loss: 0.38005268573760986, Train f1: 0.8080808520317078\n",
            "Train loss: 0.4494585394859314, Train f1: 0.8403361439704895\n",
            "Train loss: 0.3335220217704773, Train f1: 0.8723404407501221\n",
            "Train loss: 0.31667816638946533, Train f1: 0.8541666269302368\n",
            "Train loss: 0.4140484035015106, Train f1: 0.82828289270401\n",
            "Train loss: 0.3943363130092621, Train f1: 0.7956990003585815\n",
            "Train loss: 0.4307374358177185, Train f1: 0.8200000524520874\n",
            "Train loss: 0.34772804379463196, Train f1: 0.8039215803146362\n",
            "Train loss: 0.43451035022735596, Train f1: 0.8518518209457397\n",
            "Train loss: 0.5321899652481079, Train f1: 0.7809523940086365\n",
            "Train loss: 0.4533582329750061, Train f1: 0.7469879388809204\n",
            "Train loss: 0.3516368865966797, Train f1: 0.8041236996650696\n",
            "Train loss: 0.31001827120780945, Train f1: 0.8387096524238586\n",
            "Train loss: 0.4956323206424713, Train f1: 0.7586206793785095\n",
            "Train loss: 0.4615185558795929, Train f1: 0.7272727489471436\n",
            "Train loss: 0.41374698281288147, Train f1: 0.720930278301239\n",
            "\n",
            "Validating...\n",
            "Val loss_ev: 0.48571109771728516, Val f1_ev: 0.7199999690055847\n",
            "Val loss_ev: 0.5075897574424744, Val f1_ev: 0.6506024599075317\n",
            "\n",
            "starting Epoch 9\n",
            "Training...\n",
            "Train loss: 0.3167414367198944, Train f1: 0.859649121761322\n",
            "Train loss: 0.3112761676311493, Train f1: 0.8484848141670227\n",
            "Train loss: 0.3238067626953125, Train f1: 0.8888888955116272\n",
            "Train loss: 0.3711124062538147, Train f1: 0.8490566611289978\n",
            "Train loss: 0.35464686155319214, Train f1: 0.833333432674408\n",
            "Train loss: 0.31922876834869385, Train f1: 0.8571429252624512\n",
            "Train loss: 0.41599729657173157, Train f1: 0.8800000548362732\n",
            "Train loss: 0.357835978269577, Train f1: 0.859649121761322\n",
            "Train loss: 0.41413789987564087, Train f1: 0.8403361439704895\n",
            "Train loss: 0.36205270886421204, Train f1: 0.8333333134651184\n",
            "Train loss: 0.4149494171142578, Train f1: 0.8600000143051147\n",
            "Train loss: 0.3417147099971771, Train f1: 0.7956989407539368\n",
            "Train loss: 0.49951037764549255, Train f1: 0.8041236996650696\n",
            "Train loss: 0.42147883772850037, Train f1: 0.7962962985038757\n",
            "Train loss: 0.3117128312587738, Train f1: 0.846846878528595\n",
            "Train loss: 0.3877521753311157, Train f1: 0.8148148059844971\n",
            "Train loss: 0.46333861351013184, Train f1: 0.8045977354049683\n",
            "Train loss: 0.3393853008747101, Train f1: 0.8833333253860474\n",
            "\n",
            "Validating...\n",
            "Val loss_ev: 0.4977128505706787, Val f1_ev: 0.752293586730957\n",
            "Val loss_ev: 0.5299261212348938, Val f1_ev: 0.7032966613769531\n"
          ]
        }
      ]
    },
    {
      "cell_type": "code",
      "metadata": {
        "colab": {
          "base_uri": "https://localhost:8080/",
          "height": 294
        },
        "id": "jHRUu8ZIKvhO",
        "outputId": "5548d2d3-a88a-46f3-bc27-ef590754c3dc"
      },
      "source": [
        "import matplotlib.pyplot as plt\n",
        "plt.plot(losses2_2)\n",
        "plt.plot(losses_eval2_2)\n",
        "plt.title('BCE loss value')\n",
        "plt.ylabel('BCE loss')\n",
        "plt.xlabel('epoch')\n",
        "plt.legend(['train', 'val'], loc='upper right')\n",
        "plt.show()"
      ],
      "execution_count": 85,
      "outputs": [
        {
          "output_type": "display_data",
          "data": {
            "image/png": "[encoded data removed]",
            "text/plain": [
              "<Figure size 432x288 with 1 Axes>"
            ]
          },
          "metadata": {
            "needs_background": "light"
          }
        }
      ]
    },
    {
      "cell_type": "code",
      "metadata": {
        "colab": {
          "base_uri": "https://localhost:8080/",
          "height": 294
        },
        "id": "gRd0rPLWKy-A",
        "outputId": "0af9d5be-8fd9-4794-ee52-0c23d270eed8"
      },
      "source": [
        "import matplotlib.pyplot as plt\n",
        "plt.plot(f1s2_2)\n",
        "plt.plot(f1s_eval2_2)\n",
        "plt.title('f1 value')\n",
        "plt.ylabel('f1 value')\n",
        "plt.xlabel('epoch')\n",
        "plt.legend(['train', 'val'], loc='upper right')\n",
        "plt.show()"
      ],
      "execution_count": 86,
      "outputs": [
        {
          "output_type": "display_data",
          "data": {
            "image/png": "[encoded data removed]",
            "text/plain": [
              "<Figure size 432x288 with 1 Axes>"
            ]
          },
          "metadata": {
            "needs_background": "light"
          }
        }
      ]
    },
    {
      "cell_type": "code",
      "metadata": {
        "id": "vY4TW-PhI34q"
      },
      "source": [
        "def predict(model, iterator):\n",
        "    model.eval()\n",
        "    fp = []\n",
        "    fn = []\n",
        "    tp = [] \n",
        "    tn = []\n",
        "    with torch.no_grad():\n",
        "        for i, (texts, ys) in enumerate(iterator):   \n",
        "            preds = model(texts)  # делаем предсказания на тесте \n",
        "            for pred, gold, text in zip(preds, ys, texts):\n",
        "              text = ' '.join([id2word[int(word)] for word in text if word !=0])\n",
        "              if round(pred.item()) > gold:\n",
        "                fp.append(text)\n",
        "              elif round(pred.item()) < gold:\n",
        "                fn.append(text)\n",
        "              elif round(pred.item()) == gold == 1:\n",
        "                tp.append(text)\n",
        "              elif round(pred.item()) == gold == 0:\n",
        "                tn.append(text)\n",
        "    return fp, fn, tp, tn"
      ],
      "execution_count": 87,
      "outputs": []
    },
    {
      "cell_type": "code",
      "metadata": {
        "id": "c1oa_XUeK7bj"
      },
      "source": [
        "fp2_2, fn2_2, tp2_2, tn2_2 = predict(model2_2, train_iterator)"
      ],
      "execution_count": 89,
      "outputs": []
    },
    {
      "cell_type": "code",
      "metadata": {
        "id": "J7ZFWmmMK-z1"
      },
      "source": [
        "a_model2_2 = (len(tp2_2)+len(tn2_2)) / (len(fp2_2)+len(fn2_2)+len(tp2_2)+len(tn2_2))\n",
        "p_model2_2 = len(tp2_2) / (len(tp2_2)+len(fp2_2))\n",
        "r_model2_2 = len(tp2_2) / (len(tp2_2)+len(fn2_2))"
      ],
      "execution_count": 90,
      "outputs": []
    },
    {
      "cell_type": "code",
      "metadata": {
        "colab": {
          "base_uri": "https://localhost:8080/"
        },
        "id": "uGOkcyMLLA91",
        "outputId": "c0a7e7ad-2da4-4ed6-e076-f8789a271c86"
      },
      "source": [
        "a_model2_2, p_model2_2, r_model2_2"
      ],
      "execution_count": 115,
      "outputs": [
        {
          "output_type": "execute_result",
          "data": {
            "text/plain": [
              "(0.8903444444444445, 0.8518825479516932, 0.9481035732326005)"
            ]
          },
          "metadata": {},
          "execution_count": 115
        }
      ]
    },
    {
      "cell_type": "code",
      "metadata": {
        "id": "l3S9acSeQzfe",
        "colab": {
          "base_uri": "https://localhost:8080/"
        },
        "outputId": "478e871a-1025-474a-d89f-70c9ae35753d"
      },
      "source": [
        "a_model2, p_model2, r_model2"
      ],
      "execution_count": 116,
      "outputs": [
        {
          "output_type": "execute_result",
          "data": {
            "text/plain": [
              "(0.8706111111111111, 0.8740397350993377, 0.8695671271385589)"
            ]
          },
          "metadata": {},
          "execution_count": 116
        }
      ]
    },
    {
      "cell_type": "code",
      "metadata": {
        "id": "_M8XaBG0Qzik"
      },
      "source": [
        "class CNN_ft2(nn.Module):\n",
        "    \n",
        "    def __init__(self, vocab_tokens, vocab_symbols, embedding_dim_tokens, embedding_dim_symbols):\n",
        "        super().__init__()\n",
        "        self.embedding_tokens = nn.Embedding(vocab_tokens, embedding_dim_tokens)\n",
        "        self.embedding_symbols = nn.Embedding(vocab_symbols, embedding_dim_symbols)\n",
        "        self.bigrams_symbols = nn.Conv1d(in_channels=embedding_dim_symbols, out_channels=60, kernel_size=14, padding='same')\n",
        "        self.trigrams_symbols = nn.Conv1d(in_channels=embedding_dim_symbols, out_channels=80, kernel_size=6, padding='same')\n",
        "        self.pooling = nn.MaxPool1d(kernel_size=1, stride=2)\n",
        "        self.relu = nn.ReLU()\n",
        "        self.hidden = nn.Linear(in_features=45, out_features=1)\n",
        "        self.hidden2 = nn.Linear(in_features=326, out_features=1)\n",
        "        self.dropout = nn.Dropout(p=0.5)\n",
        "        self.out = nn.Sigmoid()\n",
        "\n",
        "    def forward(self, token, symbol):\n",
        "        embedded_tokens = self.embedding_tokens(token)\n",
        "        embedded_symbols = self.embedding_symbols(symbol)\n",
        "\n",
        "        embedded_tokens = embedded_tokens.transpose(1,2)\n",
        "        embedded_symbols = embedded_symbols.transpose(1,2)\n",
        "\n",
        "        pooling_tokens = self.pooling(embedded_tokens)\n",
        "        hidden = self.hidden(pooling_tokens)\n",
        "\n",
        "        feature_map_bigrams = self.relu(self.bigrams_symbols(embedded_symbols))\n",
        "        feature_map_trigrams = self.relu(self.trigrams_symbols(embedded_symbols))\n",
        "        concat1 = torch.cat((feature_map_bigrams, feature_map_trigrams), 1)\n",
        "        pooling_symbols = concat1.max(2)[0] \n",
        "\n",
        "        hidden = hidden.reshape(100,186)\n",
        "\n",
        "        concat2 = torch.cat((pooling_symbols, hidden), 1)\n",
        "        logits = self.hidden2(concat2) \n",
        "        logits = self.out(logits)    \n",
        "        return logits\n"
      ],
      "execution_count": 93,
      "outputs": []
    },
    {
      "cell_type": "markdown",
      "metadata": {
        "id": "lmaSOoGkhOEe"
      },
      "source": [
        "Что изменили: kernel_size для биграмм - 14, kernel_size для триграмм - 6, kernel_size для пуллинга - 1,  изменен оптимизатор на NAdam. \n",
        "Также была попытка сделатьт фильтры для токенов, а не только для символов, однако к улучшению это не привело."
      ]
    },
    {
      "cell_type": "code",
      "metadata": {
        "id": "qvSmDMUvQ0aU"
      },
      "source": [
        "model3_2 = CNN_ft2(len(id2word), len(id2symbol), 186, 8)\n",
        "optimizer = optim.NAdam(model3_2.parameters(), lr=0.002)\n",
        "criterion = nn.BCELoss() # \n",
        "\n",
        "# веса модели и значения лосса храним там же, где и все остальные тензоры\n",
        "model3_2 = model3_2.to(DEVICE)\n",
        "criterion = criterion.to(DEVICE)"
      ],
      "execution_count": 94,
      "outputs": []
    },
    {
      "cell_type": "code",
      "metadata": {
        "id": "GrUjtm6vRBb5"
      },
      "source": [
        "def train(model, iterator, optimizer, criterion, metric):\n",
        "    print('Training...')\n",
        "    epoch_loss = 0 # для подсчета среднего лосса на всех батчах\n",
        "    epoch_metric = 0\n",
        "    model.train()  # ставим модель в обучение, явно указываем, что сейчас надо будет хранить градиенты у всех весов\n",
        "\n",
        "    for i, (tokens, symbols, ys) in enumerate(iterator):\n",
        "       #итерируемся по батчам\n",
        "        optimizer.zero_grad()  #обнуляем градиенты\n",
        "        preds = model(tokens[:, :90], symbols)  #прогоняем данные через модель\n",
        "        loss = criterion(preds, ys) #считаем значение функции потерь  \n",
        "        loss.backward() #считаем градиенты  \n",
        "        optimizer.step() #обновляем веса \n",
        "        epoch_loss += loss.item() #сохраняем значение функции потерь\n",
        "        \n",
        "        batch_metric = metric(preds.round().long(), ys.long(), ignore_index=0)\n",
        "        epoch_metric += batch_metric\n",
        "        if not (i + 1) % 50:\n",
        "            print(f'Train loss: {loss.item()}, Train f1: {batch_metric}')\n",
        "            #print(f'Train loss: {epoch_loss/i}, Train f1: {epoch_metric/i}')\n",
        "        \n",
        "    return epoch_metric / len(iterator), epoch_loss / len(iterator) # возвращаем среднее значение по всей выборке"
      ],
      "execution_count": 95,
      "outputs": []
    },
    {
      "cell_type": "code",
      "metadata": {
        "id": "hhwkyxM_RDRX"
      },
      "source": [
        "def evaluate(model, iterator, criterion, metric):\n",
        "    print(\"\\nValidating...\")\n",
        "    epoch_loss = 0\n",
        "    epoch_metric = 0\n",
        "    model.eval() \n",
        "    with torch.no_grad():\n",
        "        for i, (tokens, symbols, ys) in enumerate(iterator):\n",
        "            preds = model(tokens[:, :90], symbols)  # делаем предсказания на тесте\n",
        "            loss = criterion(preds, ys)   # считаем значения функции ошибки для статистики  \n",
        "            epoch_loss += loss.item()\n",
        "            batch_metric = metric(preds.round().long(), ys.long(), ignore_index=0)\n",
        "            epoch_metric += batch_metric\n",
        "\n",
        "            if not (i + 1) % 50:\n",
        "              pass\n",
        "              print(f'Val loss_ev: {loss.item()}, Val f1_ev: {batch_metric}')\n",
        "                #print(f'Val loss: {epoch_loss/i}, Val f1: {epoch_metric/i}')\n",
        "\n",
        "    return epoch_metric / len(iterator), epoch_loss / len(iterator) # возвращаем среднее значение по всей выборке"
      ],
      "execution_count": 96,
      "outputs": []
    },
    {
      "cell_type": "code",
      "metadata": {
        "colab": {
          "base_uri": "https://localhost:8080/"
        },
        "id": "EvvNjOuTQ8cX",
        "outputId": "50d69ae7-d73e-4713-d1ff-bce4bd098a4e"
      },
      "source": [
        "losses3_2 = []\n",
        "losses_eval3_2 = []\n",
        "f1s3_2 = []\n",
        "f1s_eval3_2 = []\n",
        "\n",
        "for i in range(10):\n",
        "    print(f'\\nstarting Epoch {i}')\n",
        "    f1_value, epoch_loss = train(model3_2, train_iterator2, optimizer, criterion, metric=f1)\n",
        "    losses3_2.append(epoch_loss)\n",
        "    f1s3_2.append(f1_value)\n",
        "\n",
        "    f1_value_on_test, epoch_loss_on_test = evaluate(model3_2, val_iterator2, criterion, metric=f1)\n",
        "    losses_eval3_2.append(epoch_loss_on_test)\n",
        "    f1s_eval3_2.append(f1_value_on_test)"
      ],
      "execution_count": 97,
      "outputs": [
        {
          "output_type": "stream",
          "name": "stdout",
          "text": [
            "\n",
            "starting Epoch 0\n",
            "Training...\n",
            "Train loss: 0.6849169135093689, Train f1: 0.594059407711029\n",
            "Train loss: 0.6344932913780212, Train f1: 0.5979381799697876\n",
            "Train loss: 0.6411176919937134, Train f1: 0.6666666865348816\n",
            "Train loss: 0.6639078855514526, Train f1: 0.5517240762710571\n",
            "Train loss: 0.5513006448745728, Train f1: 0.7179486751556396\n",
            "Train loss: 0.5750533938407898, Train f1: 0.6526315808296204\n",
            "Train loss: 0.555837094783783, Train f1: 0.658227801322937\n",
            "Train loss: 0.55118328332901, Train f1: 0.6585365533828735\n",
            "Train loss: 0.5641307830810547, Train f1: 0.6964285969734192\n",
            "Train loss: 0.5352452993392944, Train f1: 0.8188976645469666\n",
            "Train loss: 0.5361543297767639, Train f1: 0.7768595218658447\n",
            "Train loss: 0.5683374404907227, Train f1: 0.6190476417541504\n",
            "Train loss: 0.5342312455177307, Train f1: 0.695652186870575\n",
            "Train loss: 0.5455847978591919, Train f1: 0.7422680854797363\n",
            "Train loss: 0.5497470498085022, Train f1: 0.7716535925865173\n",
            "Train loss: 0.49835479259490967, Train f1: 0.7200000286102295\n",
            "Train loss: 0.4204924702644348, Train f1: 0.7999999523162842\n",
            "Train loss: 0.6247432827949524, Train f1: 0.6000000238418579\n",
            "\n",
            "Validating...\n",
            "Val loss_ev: 0.5092923045158386, Val f1_ev: 0.7339449524879456\n",
            "Val loss_ev: 0.5370385646820068, Val f1_ev: 0.6888889074325562\n",
            "\n",
            "starting Epoch 1\n",
            "Training...\n",
            "Train loss: 0.5380110144615173, Train f1: 0.7047618627548218\n",
            "Train loss: 0.45813459157943726, Train f1: 0.8037383556365967\n",
            "Train loss: 0.5750461220741272, Train f1: 0.7413792610168457\n",
            "Train loss: 0.5239397287368774, Train f1: 0.6744186282157898\n",
            "Train loss: 0.524649977684021, Train f1: 0.7358490228652954\n",
            "Train loss: 0.5387753248214722, Train f1: 0.725490152835846\n",
            "Train loss: 0.5985237956047058, Train f1: 0.6990291476249695\n",
            "Train loss: 0.5377750992774963, Train f1: 0.6666666865348816\n",
            "Train loss: 0.470425009727478, Train f1: 0.736842155456543\n",
            "Train loss: 0.45692119002342224, Train f1: 0.6666666865348816\n",
            "Train loss: 0.565773606300354, Train f1: 0.727272629737854\n",
            "Train loss: 0.5684412121772766, Train f1: 0.7166666984558105\n",
            "Train loss: 0.5134413242340088, Train f1: 0.7999999523162842\n",
            "Train loss: 0.5703639388084412, Train f1: 0.7826087474822998\n",
            "Train loss: 0.4993772506713867, Train f1: 0.7045454382896423\n",
            "Train loss: 0.45413389801979065, Train f1: 0.7727272510528564\n",
            "Train loss: 0.5203530192375183, Train f1: 0.6756757497787476\n",
            "Train loss: 0.5510708689689636, Train f1: 0.7457627058029175\n",
            "\n",
            "Validating...\n",
            "Val loss_ev: 0.4781547486782074, Val f1_ev: 0.7555555105209351\n",
            "Val loss_ev: 0.4788074791431427, Val f1_ev: 0.6268656849861145\n",
            "\n",
            "starting Epoch 2\n",
            "Training...\n",
            "Train loss: 0.49773868918418884, Train f1: 0.7722772359848022\n",
            "Train loss: 0.5000055432319641, Train f1: 0.7272726893424988\n",
            "Train loss: 0.3928220570087433, Train f1: 0.868852436542511\n",
            "Train loss: 0.45926523208618164, Train f1: 0.7708333134651184\n",
            "Train loss: 0.5178888440132141, Train f1: 0.7068966031074524\n",
            "Train loss: 0.6289380788803101, Train f1: 0.7457627654075623\n",
            "Train loss: 0.4770263433456421, Train f1: 0.6376811861991882\n",
            "Train loss: 0.44957998394966125, Train f1: 0.8264462351799011\n",
            "Train loss: 0.51619553565979, Train f1: 0.7400000095367432\n",
            "Train loss: 0.5384198427200317, Train f1: 0.7758620977401733\n",
            "Train loss: 0.5053370594978333, Train f1: 0.7799999713897705\n",
            "Train loss: 0.6468212604522705, Train f1: 0.5957446694374084\n",
            "Train loss: 0.4169498383998871, Train f1: 0.8656716346740723\n",
            "Train loss: 0.44313380122184753, Train f1: 0.8073394298553467\n",
            "Train loss: 0.5033857822418213, Train f1: 0.8141593337059021\n",
            "Train loss: 0.4151369035243988, Train f1: 0.8200000524520874\n",
            "Train loss: 0.4615005850791931, Train f1: 0.7647058367729187\n",
            "Train loss: 0.4161679744720459, Train f1: 0.8190475702285767\n",
            "\n",
            "Validating...\n",
            "Val loss_ev: 0.47152096033096313, Val f1_ev: 0.739130437374115\n",
            "Val loss_ev: 0.4833775460720062, Val f1_ev: 0.6944444179534912\n",
            "\n",
            "starting Epoch 3\n",
            "Training...\n",
            "Train loss: 0.49357709288597107, Train f1: 0.7272727489471436\n",
            "Train loss: 0.4313018023967743, Train f1: 0.7526881694793701\n",
            "Train loss: 0.47400641441345215, Train f1: 0.7999999523162842\n",
            "Train loss: 0.4590280055999756, Train f1: 0.7722772359848022\n",
            "Train loss: 0.49171939492225647, Train f1: 0.8070175051689148\n",
            "Train loss: 0.4939267635345459, Train f1: 0.8188976049423218\n",
            "Train loss: 0.39290815591812134, Train f1: 0.8297872543334961\n",
            "Train loss: 0.47014400362968445, Train f1: 0.7850466966629028\n",
            "Train loss: 0.527111828327179, Train f1: 0.6595745086669922\n",
            "Train loss: 0.6466404795646667, Train f1: 0.6999999284744263\n",
            "Train loss: 0.4084799885749817, Train f1: 0.8349514007568359\n",
            "Train loss: 0.41762790083885193, Train f1: 0.7878788113594055\n",
            "Train loss: 0.5865336656570435, Train f1: 0.6391751766204834\n",
            "Train loss: 0.4087994396686554, Train f1: 0.8709677457809448\n",
            "Train loss: 0.5708541870117188, Train f1: 0.5757575631141663\n",
            "Train loss: 0.5210973024368286, Train f1: 0.7636363506317139\n",
            "Train loss: 0.5208083987236023, Train f1: 0.7967479228973389\n",
            "Train loss: 0.5354724526405334, Train f1: 0.7254902124404907\n",
            "\n",
            "Validating...\n",
            "Val loss_ev: 0.4764184355735779, Val f1_ev: 0.75\n",
            "Val loss_ev: 0.4837329685688019, Val f1_ev: 0.6746988296508789\n",
            "\n",
            "starting Epoch 4\n",
            "Training...\n",
            "Train loss: 0.430111825466156, Train f1: 0.7872340083122253\n",
            "Train loss: 0.41719886660575867, Train f1: 0.7727273106575012\n",
            "Train loss: 0.47154325246810913, Train f1: 0.7209302186965942\n",
            "Train loss: 0.38571199774742126, Train f1: 0.800000011920929\n",
            "Train loss: 0.502738893032074, Train f1: 0.7809523940086365\n",
            "Train loss: 0.4983595311641693, Train f1: 0.6835442781448364\n",
            "Train loss: 0.4513751268386841, Train f1: 0.8000000715255737\n",
            "Train loss: 0.468656450510025, Train f1: 0.7358490228652954\n",
            "Train loss: 0.4478834569454193, Train f1: 0.8376068472862244\n",
            "Train loss: 0.5241749882698059, Train f1: 0.7272726893424988\n",
            "Train loss: 0.5058438181877136, Train f1: 0.7474746704101562\n",
            "Train loss: 0.41958412528038025, Train f1: 0.8073394894599915\n",
            "Train loss: 0.4351032078266144, Train f1: 0.7961165308952332\n",
            "Train loss: 0.4342418909072876, Train f1: 0.8214285373687744\n",
            "Train loss: 0.38061976432800293, Train f1: 0.7804878354072571\n",
            "Train loss: 0.41239655017852783, Train f1: 0.7524752020835876\n",
            "Train loss: 0.40276724100112915, Train f1: 0.8318584561347961\n",
            "Train loss: 0.48387718200683594, Train f1: 0.7111111283302307\n",
            "\n",
            "Validating...\n",
            "Val loss_ev: 0.4875962734222412, Val f1_ev: 0.7311828136444092\n",
            "Val loss_ev: 0.48470380902290344, Val f1_ev: 0.6582278609275818\n",
            "\n",
            "starting Epoch 5\n",
            "Training...\n",
            "Train loss: 0.42374181747436523, Train f1: 0.7710843682289124\n",
            "Train loss: 0.4443095028400421, Train f1: 0.7884615063667297\n",
            "Train loss: 0.40977081656455994, Train f1: 0.7640448808670044\n",
            "Train loss: 0.4660916030406952, Train f1: 0.7586206793785095\n",
            "Train loss: 0.38349390029907227, Train f1: 0.8041237592697144\n",
            "Train loss: 0.5971492528915405, Train f1: 0.6990291476249695\n",
            "Train loss: 0.4729820191860199, Train f1: 0.7555555701255798\n",
            "Train loss: 0.474036306142807, Train f1: 0.7647058963775635\n",
            "Train loss: 0.42731422185897827, Train f1: 0.8440366983413696\n",
            "Train loss: 0.5129383206367493, Train f1: 0.7526881694793701\n",
            "Train loss: 0.4127175509929657, Train f1: 0.7529411911964417\n",
            "Train loss: 0.5193214416503906, Train f1: 0.782608687877655\n",
            "Train loss: 0.5308258533477783, Train f1: 0.7659574747085571\n",
            "Train loss: 0.46539542078971863, Train f1: 0.8141592741012573\n",
            "Train loss: 0.43583372235298157, Train f1: 0.7708333134651184\n",
            "Train loss: 0.4415037930011749, Train f1: 0.7787610292434692\n",
            "Train loss: 0.5330498218536377, Train f1: 0.6947368383407593\n",
            "Train loss: 0.46277984976768494, Train f1: 0.6666666865348816\n",
            "\n",
            "Validating...\n",
            "Val loss_ev: 0.5148610472679138, Val f1_ev: 0.6746988296508789\n",
            "Val loss_ev: 0.48523229360580444, Val f1_ev: 0.6376811265945435\n",
            "\n",
            "starting Epoch 6\n",
            "Training...\n",
            "Train loss: 0.3902536630630493, Train f1: 0.8264462351799011\n",
            "Train loss: 0.3708129823207855, Train f1: 0.8761904835700989\n",
            "Train loss: 0.38722774386405945, Train f1: 0.8907563090324402\n",
            "Train loss: 0.4299556612968445, Train f1: 0.7659574151039124\n",
            "Train loss: 0.4947624206542969, Train f1: 0.8141593337059021\n",
            "Train loss: 0.4658823609352112, Train f1: 0.8155339956283569\n",
            "Train loss: 0.4556841254234314, Train f1: 0.8073394894599915\n",
            "Train loss: 0.549952507019043, Train f1: 0.7387387752532959\n",
            "Train loss: 0.39115530252456665, Train f1: 0.8478260636329651\n",
            "Train loss: 0.49694937467575073, Train f1: 0.7659575343132019\n",
            "Train loss: 0.4265914857387543, Train f1: 0.7789473533630371\n",
            "Train loss: 0.42703214287757874, Train f1: 0.7592592835426331\n",
            "Train loss: 0.4567430019378662, Train f1: 0.6410256624221802\n",
            "Train loss: 0.505280077457428, Train f1: 0.7608695030212402\n",
            "Train loss: 0.5208268761634827, Train f1: 0.7706422209739685\n",
            "Train loss: 0.43011441826820374, Train f1: 0.8135592937469482\n",
            "Train loss: 0.4196605086326599, Train f1: 0.8399999737739563\n",
            "Train loss: 0.3870307207107544, Train f1: 0.7954545021057129\n",
            "\n",
            "Validating...\n",
            "Val loss_ev: 0.5669847130775452, Val f1_ev: 0.6172839403152466\n",
            "Val loss_ev: 0.496030330657959, Val f1_ev: 0.6470588445663452\n",
            "\n",
            "starting Epoch 7\n",
            "Training...\n",
            "Train loss: 0.5171839594841003, Train f1: 0.6352941393852234\n",
            "Train loss: 0.3598126769065857, Train f1: 0.8947368264198303\n",
            "Train loss: 0.3993214964866638, Train f1: 0.8045976758003235\n",
            "Train loss: 0.47244468331336975, Train f1: 0.7843137383460999\n",
            "Train loss: 0.3920944929122925, Train f1: 0.8085106015205383\n",
            "Train loss: 0.40518173575401306, Train f1: 0.796296238899231\n",
            "Train loss: 0.321257621049881, Train f1: 0.8666666150093079\n",
            "Train loss: 0.45700040459632874, Train f1: 0.8141593337059021\n",
            "Train loss: 0.4106489419937134, Train f1: 0.7954545617103577\n",
            "Train loss: 0.4678622782230377, Train f1: 0.7499999403953552\n",
            "Train loss: 0.49409419298171997, Train f1: 0.7610619068145752\n",
            "Train loss: 0.5404718518257141, Train f1: 0.7843137979507446\n",
            "Train loss: 0.3472159802913666, Train f1: 0.8235294222831726\n",
            "Train loss: 0.47027114033699036, Train f1: 0.7826086282730103\n",
            "Train loss: 0.38170942664146423, Train f1: 0.833333432674408\n",
            "Train loss: 0.4573429524898529, Train f1: 0.7959184050559998\n",
            "Train loss: 0.4603941738605499, Train f1: 0.7600000500679016\n",
            "Train loss: 0.41061103343963623, Train f1: 0.8073394894599915\n",
            "\n",
            "Validating...\n",
            "Val loss_ev: 0.5391276478767395, Val f1_ev: 0.723809540271759\n",
            "Val loss_ev: 0.545133650302887, Val f1_ev: 0.7446808815002441\n",
            "\n",
            "starting Epoch 8\n",
            "Training...\n",
            "Train loss: 0.3197706639766693, Train f1: 0.8235294222831726\n",
            "Train loss: 0.4854743480682373, Train f1: 0.7422680854797363\n",
            "Train loss: 0.36897483468055725, Train f1: 0.8461538553237915\n",
            "Train loss: 0.39069366455078125, Train f1: 0.7954545617103577\n",
            "Train loss: 0.48142629861831665, Train f1: 0.7291666865348816\n",
            "Train loss: 0.3705156743526459, Train f1: 0.8250000476837158\n",
            "Train loss: 0.4001016914844513, Train f1: 0.8041237592697144\n",
            "Train loss: 0.4225817918777466, Train f1: 0.8275862336158752\n",
            "Train loss: 0.3443894386291504, Train f1: 0.8045976161956787\n",
            "Train loss: 0.43029165267944336, Train f1: 0.7333333492279053\n",
            "Train loss: 0.35764265060424805, Train f1: 0.8363636136054993\n",
            "Train loss: 0.5360016226768494, Train f1: 0.7474746704101562\n",
            "Train loss: 0.4599056541919708, Train f1: 0.7962963581085205\n",
            "Train loss: 0.41145193576812744, Train f1: 0.8039215803146362\n",
            "Train loss: 0.5237622857093811, Train f1: 0.6976744532585144\n",
            "Train loss: 0.38325950503349304, Train f1: 0.7816092371940613\n",
            "Train loss: 0.34388846158981323, Train f1: 0.8737863898277283\n",
            "Train loss: 0.3919823467731476, Train f1: 0.8514851927757263\n",
            "\n",
            "Validating...\n",
            "Val loss_ev: 0.526781439781189, Val f1_ev: 0.7096774578094482\n",
            "Val loss_ev: 0.49297699332237244, Val f1_ev: 0.7058823108673096\n",
            "\n",
            "starting Epoch 9\n",
            "Training...\n",
            "Train loss: 0.37144365906715393, Train f1: 0.7567567825317383\n",
            "Train loss: 0.4000544250011444, Train f1: 0.8360655903816223\n",
            "Train loss: 0.40773069858551025, Train f1: 0.78899085521698\n",
            "Train loss: 0.4313376545906067, Train f1: 0.8076922297477722\n",
            "Train loss: 0.4356834292411804, Train f1: 0.824742317199707\n",
            "Train loss: 0.3929486870765686, Train f1: 0.8163265585899353\n",
            "Train loss: 0.39625152945518494, Train f1: 0.8131868243217468\n",
            "Train loss: 0.3162669539451599, Train f1: 0.8484848141670227\n",
            "Train loss: 0.4528026580810547, Train f1: 0.8190475702285767\n",
            "Train loss: 0.4015655815601349, Train f1: 0.7560976147651672\n",
            "Train loss: 0.5413442254066467, Train f1: 0.7142857313156128\n",
            "Train loss: 0.3865123689174652, Train f1: 0.8448275923728943\n",
            "Train loss: 0.45307043194770813, Train f1: 0.800000011920929\n",
            "Train loss: 0.5978254079818726, Train f1: 0.6999999284744263\n",
            "Train loss: 0.4146282970905304, Train f1: 0.8085106611251831\n",
            "Train loss: 0.46047258377075195, Train f1: 0.8037383556365967\n",
            "Train loss: 0.5168393850326538, Train f1: 0.7529411911964417\n",
            "Train loss: 0.3271528482437134, Train f1: 0.8928571343421936\n",
            "\n",
            "Validating...\n",
            "Val loss_ev: 0.518564760684967, Val f1_ev: 0.7128713130950928\n",
            "Val loss_ev: 0.5418151617050171, Val f1_ev: 0.6739130616188049\n"
          ]
        }
      ]
    },
    {
      "cell_type": "code",
      "metadata": {
        "colab": {
          "base_uri": "https://localhost:8080/",
          "height": 294
        },
        "id": "HoFtBwA9RB5E",
        "outputId": "779e2efd-3430-47e6-9b74-8df636dc6452"
      },
      "source": [
        "import matplotlib.pyplot as plt\n",
        "plt.plot(losses3_2)\n",
        "plt.plot(losses_eval3_2)\n",
        "plt.title('BCE loss value')\n",
        "plt.ylabel('BCE loss')\n",
        "plt.xlabel('epoch')\n",
        "plt.legend(['train', 'val'], loc='upper right')\n",
        "plt.show()"
      ],
      "execution_count": 98,
      "outputs": [
        {
          "output_type": "display_data",
          "data": {
            "image/png": "[encoded data removed]",
            "text/plain": [
              "<Figure size 432x288 with 1 Axes>"
            ]
          },
          "metadata": {
            "needs_background": "light"
          }
        }
      ]
    },
    {
      "cell_type": "code",
      "metadata": {
        "colab": {
          "base_uri": "https://localhost:8080/",
          "height": 294
        },
        "id": "SVgAccghRVLd",
        "outputId": "70d3ce3c-14e8-42a1-abcd-35fecb37971e"
      },
      "source": [
        "import matplotlib.pyplot as plt\n",
        "plt.plot(f1s3_2)\n",
        "plt.plot(f1s_eval3_2)\n",
        "plt.title('f1 value')\n",
        "plt.ylabel('f1 value')\n",
        "plt.xlabel('epoch')\n",
        "plt.legend(['train', 'val'], loc='upper right')\n",
        "plt.show()"
      ],
      "execution_count": 99,
      "outputs": [
        {
          "output_type": "display_data",
          "data": {
            "image/png": "[encoded data removed]",
            "text/plain": [
              "<Figure size 432x288 with 1 Axes>"
            ]
          },
          "metadata": {
            "needs_background": "light"
          }
        }
      ]
    },
    {
      "cell_type": "code",
      "metadata": {
        "id": "-4mtOcc1Rc70"
      },
      "source": [
        "def predict(model, iterator):\n",
        "    model.eval()\n",
        "    fp = []\n",
        "    fn = []\n",
        "    tp = [] \n",
        "    tn = []\n",
        "    with torch.no_grad():\n",
        "        for i, (tokens, symbols, ys) in enumerate(iterator):   \n",
        "            preds = model(tokens[:, :90], symbols)  # делаем предсказания на тесте \n",
        "            for pred, gold, token, symbol in zip(preds, ys, tokens, symbols):\n",
        "              text = ' '.join([id2word[int(word)] for word in token if word !=0])\n",
        "              if round(pred.item()) > gold:\n",
        "                fp.append(text)\n",
        "              elif round(pred.item()) < gold:\n",
        "                fn.append(text)\n",
        "              elif round(pred.item()) == gold == 1:\n",
        "                tp.append(text)\n",
        "              elif round(pred.item()) == gold == 0:\n",
        "                tn.append(text)\n",
        "    return fp, fn, tp, tn"
      ],
      "execution_count": 100,
      "outputs": []
    },
    {
      "cell_type": "code",
      "metadata": {
        "id": "O6txut2bRj3S"
      },
      "source": [
        "fp3_2, fn3_2, tp3_2, tn3_2 = predict(model3_2, train_iterator2)"
      ],
      "execution_count": 101,
      "outputs": []
    },
    {
      "cell_type": "code",
      "metadata": {
        "id": "0OYV4t2sRles"
      },
      "source": [
        "a_model3_2 = (len(tp3_2)+len(tn3_2)) / (len(fp3_2)+len(fn3_2)+len(tp3_2)+len(tn3_2))\n",
        "p_model3_2 = len(tp3_2) / (len(tp3_2)+len(fp3_2))\n",
        "r_model3_2 = len(tp3_2) / (len(tp3_2)+len(fn3_2))"
      ],
      "execution_count": 102,
      "outputs": []
    },
    {
      "cell_type": "code",
      "metadata": {
        "colab": {
          "base_uri": "https://localhost:8080/"
        },
        "id": "i3wIOX0ZRl2o",
        "outputId": "e6e8f89c-b4ed-4d9a-9769-b085a28f5a72"
      },
      "source": [
        "a_model3_2, p_model3_2, r_model3_2"
      ],
      "execution_count": 103,
      "outputs": [
        {
          "output_type": "execute_result",
          "data": {
            "text/plain": [
              "(0.8199666666666666, 0.7921314741035856, 0.8733226451145323)"
            ]
          },
          "metadata": {},
          "execution_count": 103
        }
      ]
    },
    {
      "cell_type": "code",
      "metadata": {
        "colab": {
          "base_uri": "https://localhost:8080/"
        },
        "id": "7_CL12tKb_t0",
        "outputId": "48e66512-2ac2-4621-8b2e-3c0522c0538f"
      },
      "source": [
        "a_model3, p_model3, r_model3"
      ],
      "execution_count": 104,
      "outputs": [
        {
          "output_type": "execute_result",
          "data": {
            "text/plain": [
              "(0.7530444444444444, 0.7694263981689131, 0.7308984692420881)"
            ]
          },
          "metadata": {},
          "execution_count": 104
        }
      ]
    },
    {
      "cell_type": "markdown",
      "metadata": {
        "id": "aLaUZ_f0Wl-O"
      },
      "source": [
        "Сравним метрики на всех моделях:"
      ]
    },
    {
      "cell_type": "code",
      "metadata": {
        "colab": {
          "base_uri": "https://localhost:8080/"
        },
        "id": "yAUp3_BrW5ys",
        "outputId": "c2822926-9f48-457f-e7c2-2eeff776698f"
      },
      "source": [
        "a_model1, p_model1, r_model1"
      ],
      "execution_count": 105,
      "outputs": [
        {
          "output_type": "execute_result",
          "data": {
            "text/plain": [
              "(0.8636444444444444, 0.9091848534803041, 0.8115432763050974)"
            ]
          },
          "metadata": {},
          "execution_count": 105
        }
      ]
    },
    {
      "cell_type": "code",
      "metadata": {
        "colab": {
          "base_uri": "https://localhost:8080/"
        },
        "id": "k1m1EA0gW75o",
        "outputId": "0ad54b8b-b93c-49a2-c3df-383dbc56ff9b"
      },
      "source": [
        "a_model2, p_model2, r_model2"
      ],
      "execution_count": 106,
      "outputs": [
        {
          "output_type": "execute_result",
          "data": {
            "text/plain": [
              "(0.8706111111111111, 0.8740397350993377, 0.8695671271385589)"
            ]
          },
          "metadata": {},
          "execution_count": 106
        }
      ]
    },
    {
      "cell_type": "code",
      "metadata": {
        "colab": {
          "base_uri": "https://localhost:8080/"
        },
        "id": "gUxJuTlJW8m_",
        "outputId": "54769c5a-fa3a-4abb-d5ce-63dd7d451fe3"
      },
      "source": [
        "a_model2_2, p_model2_2, r_model2_2"
      ],
      "execution_count": 107,
      "outputs": [
        {
          "output_type": "execute_result",
          "data": {
            "text/plain": [
              "(0.8903444444444445, 0.8518825479516932, 0.9481035732326005)"
            ]
          },
          "metadata": {},
          "execution_count": 107
        }
      ]
    },
    {
      "cell_type": "code",
      "metadata": {
        "colab": {
          "base_uri": "https://localhost:8080/"
        },
        "id": "HUvzaIrwW9AQ",
        "outputId": "21cdfd16-1ea1-4b2f-f53c-3dc73b7fabe9"
      },
      "source": [
        "a_model3, p_model3, r_model3"
      ],
      "execution_count": 108,
      "outputs": [
        {
          "output_type": "execute_result",
          "data": {
            "text/plain": [
              "(0.7530444444444444, 0.7694263981689131, 0.7308984692420881)"
            ]
          },
          "metadata": {},
          "execution_count": 108
        }
      ]
    },
    {
      "cell_type": "code",
      "metadata": {
        "colab": {
          "base_uri": "https://localhost:8080/"
        },
        "id": "MgdP-pTVW9Tg",
        "outputId": "1f2ebea0-8255-47e3-b20f-9cecdc1e9c04"
      },
      "source": [
        "a_model3_2, p_model3_2, r_model3_2"
      ],
      "execution_count": 109,
      "outputs": [
        {
          "output_type": "execute_result",
          "data": {
            "text/plain": [
              "(0.8199666666666666, 0.7921314741035856, 0.8733226451145323)"
            ]
          },
          "metadata": {},
          "execution_count": 109
        }
      ]
    },
    {
      "cell_type": "code",
      "metadata": {
        "id": "Cgki_O2ThWSN"
      },
      "source": [
        "accuracy = [a_model1, a_model2, a_model3, a_model2_2, a_model3_2]\n",
        "precision = [p_model1, p_model2, p_model3, p_model2_2, p_model3_2]\n",
        "recall = [r_model1, r_model2, r_model3, r_model2_2, r_model3_2]"
      ],
      "execution_count": 110,
      "outputs": []
    },
    {
      "cell_type": "code",
      "metadata": {
        "id": "vkvbxD9lWqFw"
      },
      "source": [
        "df = pd.DataFrame({'model': ['CNN', 'CNN_Fasttext', 'CNN_symbols_tokens','CNN_Fasttext2','CNN_symbols_tokens2' ], 'Accuracy': accuracy, 'Precision':precision, 'Recall':recall})"
      ],
      "execution_count": 111,
      "outputs": []
    },
    {
      "cell_type": "code",
      "metadata": {
        "colab": {
          "base_uri": "https://localhost:8080/",
          "height": 202
        },
        "id": "zVxqfZF9jD8g",
        "outputId": "f69f3abc-9e7a-423f-8097-40100daa6955"
      },
      "source": [
        "df"
      ],
      "execution_count": 112,
      "outputs": [
        {
          "output_type": "execute_result",
          "data": {
            "text/html": [
              "<div>\n",
              "<style scoped>\n",
              "    .dataframe tbody tr th:only-of-type {\n",
              "        vertical-align: middle;\n",
              "    }\n",
              "\n",
              "    .dataframe tbody tr th {\n",
              "        vertical-align: top;\n",
              "    }\n",
              "\n",
              "    .dataframe thead th {\n",
              "        text-align: right;\n",
              "    }\n",
              "</style>\n",
              "<table border=\"1\" class=\"dataframe\">\n",
              "  <thead>\n",
              "    <tr style=\"text-align: right;\">\n",
              "      <th></th>\n",
              "      <th>model</th>\n",
              "      <th>Accuracy</th>\n",
              "      <th>Precision</th>\n",
              "      <th>Recall</th>\n",
              "    </tr>\n",
              "  </thead>\n",
              "  <tbody>\n",
              "    <tr>\n",
              "      <th>0</th>\n",
              "      <td>CNN</td>\n",
              "      <td>0.863644</td>\n",
              "      <td>0.909185</td>\n",
              "      <td>0.811543</td>\n",
              "    </tr>\n",
              "    <tr>\n",
              "      <th>1</th>\n",
              "      <td>CNN_Fasttext</td>\n",
              "      <td>0.870611</td>\n",
              "      <td>0.874040</td>\n",
              "      <td>0.869567</td>\n",
              "    </tr>\n",
              "    <tr>\n",
              "      <th>2</th>\n",
              "      <td>CNN_symbols_tokens</td>\n",
              "      <td>0.753044</td>\n",
              "      <td>0.769426</td>\n",
              "      <td>0.730898</td>\n",
              "    </tr>\n",
              "    <tr>\n",
              "      <th>3</th>\n",
              "      <td>CNN_Fasttext2</td>\n",
              "      <td>0.890344</td>\n",
              "      <td>0.851883</td>\n",
              "      <td>0.948104</td>\n",
              "    </tr>\n",
              "    <tr>\n",
              "      <th>4</th>\n",
              "      <td>CNN_symbols_tokens2</td>\n",
              "      <td>0.819967</td>\n",
              "      <td>0.792131</td>\n",
              "      <td>0.873323</td>\n",
              "    </tr>\n",
              "  </tbody>\n",
              "</table>\n",
              "</div>"
            ],
            "text/plain": [
              "                 model  Accuracy  Precision    Recall\n",
              "0                  CNN  0.863644   0.909185  0.811543\n",
              "1         CNN_Fasttext  0.870611   0.874040  0.869567\n",
              "2   CNN_symbols_tokens  0.753044   0.769426  0.730898\n",
              "3        CNN_Fasttext2  0.890344   0.851883  0.948104\n",
              "4  CNN_symbols_tokens2  0.819967   0.792131  0.873323"
            ]
          },
          "metadata": {},
          "execution_count": 112
        }
      ]
    },
    {
      "cell_type": "markdown",
      "metadata": {
        "id": "-ttIgA36gq58"
      },
      "source": [
        "К сожалению, текст представлен с пробелами между буквами."
      ]
    },
    {
      "cell_type": "code",
      "metadata": {
        "colab": {
          "base_uri": "https://localhost:8080/"
        },
        "id": "Iigb1FUVj5gd",
        "outputId": "fb116846-9982-4d5e-9555-aa16cc006741"
      },
      "source": [
        "print('что правильно предсказываем:')"
      ],
      "execution_count": 119,
      "outputs": [
        {
          "output_type": "stream",
          "name": "stdout",
          "text": [
            "что правильно предсказываем: ['с а м а я с ч а с т л и в а я с п а с и б о р о д н ы е ч т о в ы с о м н о й э т о о г р о м н о е с ч а с т ь е и м е т ь т а к и х к а к в ы', 'b a p b a n g y o n g g u k д а п о ж а л у й с т а м ы р а д ы е с л и в ы р а д ы п р и е з ж а й к н а м в р о с с и ю', 't a y a s c h m i d t ч т о ч т ч о ч т о ч т о ч т о ч т ч о т ч о т ч т ч о ч т о ч т ч о т ч о d', 'в о о б щ е л ю б л ю т е к с т у р у и с н и м а т ь в с я к у ю х е р н ю', 'g r a n d i s o g n a t o r e а х а х а х а х а х п р о с т о к р а с а в е ц d н у к о н е ч н о й о р к и к о у л в т е г о д ы п р о с т о з а ж и г а л и', 'с е г о д н я н а к а з а л 2 р а з а n o i s e 1 3 в f i f a э т о у с п е х', 'l o k t i n a c т ы д о л ж н а б ы л а в с е г д а б ы т ь н а ч е к у к а к б а т ь к а н е з а б у д ь у п о м я н у т ь ч т о е щ е щ е к о т а л а', 'e c h e r i e c g д а н е т п р о с т о ч е л о в е к г о в о р и т ч т о о н и д и о т а в р е з у л ь т а т е и д и о т а м и о к а з ы в а ю т с я в с е в о к р у г', 'r t b y t y c e t a p i g п о с м о т р е л в с е 7 h e l l s i n g o v a п р и с о е д и н я ю с ь к о ж и д а ю щ и м в о с ь м у ю с е р и ю', 'a n a u t h e n t i c у д и в и т е л ь н о ч т о н а х а б р е н и к т о н е и з л и л с в о й г н е в п о п о в о д у к р и в о с т и с е г о п о д е л и я и л и п о с т ы п р о с с т у м о ч а т с я а в т о м а т о м', 'i b e t r e t d i n o v р а д у е т е м е н я м и м и м и ш н о с т я м и с п а с и б о в а м', 's i l v e r b l e i s с о с в о и м т е л е ф о н о м н у и с т о л с с е м ь е й', 'м н е н р а в и т с я т в о я р о д и н к а т в о и у ш и м е н я в о з б у ж д а ю т d т в о и н о з д р и т а к и е с е к с у а л ь н ы е d я к о н ч а ю н а т в о и н о г и d у п р л d n e e s s i a a u l y a k k k', 'j u l j u l i a n a p a i в о т я и с л у ш а ю с у д о в о л ь с т в и е м с п а с и б о', 'e u r o u k r a i n e r e p o s t t w i t и д и т е и д и т е с е й ч а с т а м п о л у ч и т е', 'v a s i l i s a b o b r o v a в с е г д а п о ж а л у й с т а d й э э э х а я п о к а т о л ь к о м е ч т а ю т у д а с ъ е з д и т ь с', 'f r a n k i e p i e и т о с в я т о е в с е х с в я т ы х я п л а к а л т у т и з з а с е р и и о д н о й п о и т о м у л и ц о о п у х л о о d', 's e p t o f e m b e r м ы с к а т е й з а д е н ь д о э т о г о с п а л и 2 ч а с а а д о э т о г о 5 ч а с о в и н о р м', 'в с е м п р и в е т б ы л и п р о б л е м ы с п л а н ш е т о м и о н н е в к л ю ч а л с я т е п е р ь я с н о в а з д е с ь 3', 'r t n n a s t y a 2 8 5 m a p c h a m a p c e б е д н я ж к а д а к т ы п р и б е р и с ь', 'с е г о д н я д е н ь г е р о е в т а к ч т о в с е х п р и ч а с т н ы х и с ч и т а ю щ и х с е б я т а к о в ы м и п о з д р а в л я ю', 'r t r r u s i k 1 у с н у л а с л а д к о п о с л е г а м о в в б а с и к е м ы л о', 'd a m n d r 6 6 6 а з а з з а з а з а м е д л е н н о d в с е р а в н о е с л и п и с а т ь в с е о ч е м м ы г о в о р и л и в т в и т т е р э т о п р о с т о н е п о м е с т и т с я d', 'л у х а н с с е х у н d д и о я н е у п о р о т о н и п р а в д а п о х о ж и', 'n n i k o l a s h m a r i y a k u а х х а х э т о т е б е п о д а р о к н а ш', 'r t a c o l l a a а д м и р а л ь с к а я с п л е т н и ц а н у а х у е т ь т е п е р ь d d d', 'к и с е л е в а н и к т о н е п р о б о в а л о т п и н а т ь т о р а д и о и л и т е л е к к о т о р ы й е м у н е т о в е щ а е т о н в с е г о л и ш ь р е т р а н с л я т о р', 'б а р а н и н а с ш а м п а н с к и м о т с т о й п р о в е р е н о з а н о с с и з о л о т о е р у н о', 'e n y a 8 3 r k s e n y a 1 5 1 о н и п р о с т о ж и з н ь ю н е т а к п о б и т ы е д а д е т и к р у т ы е я с о г л а с н а', 'д о п р е м ь е р н ы й п о к а з л ю б о в ь в б о л ь ш о м г о р о д е 3 у ж е с о в с е м с к о р о', 'v i k e k o 1 в н а ч а л е п о е д и м в а р г е н т и н у к у ш а т ь с т е й к и п о х о р о ш и м ц е н а м о т т у д а и о ц е н и м', 'т о р г о в ы й р о б о т з о л о т о й ж у к п о с у п е р ц е н е о т п р о ф е с с и о н а л о в', 'r t o z e r i n a r i t k a с а н к и в д р е б е з г и н о г и и р у к и п р о с т о о х е в а ю т н а м н о р м', 'п р и с е л а н а д о р о ж к у о т п р а в л я ю с ь в д о о о о л г и й п у т ь з а в т р а з а б е р у о с т а в ш и е с я в е щ и и с р а з б е г у в н о в у ю ж и з н ь', 'е с л и ж е н щ и н а б е р е ж е т в а ш е в р е м я с и л ы и н е р в ы н е р е в н у е т и н е з а к а т ы в а е т с к а н д а л о в н е в о л н у й т е с ь в ы п р о с т о е й б е з р а з л и ч н ы', 'к а р т о щ щ к у л ю б и ш ь д а а е щ е к а к д', 'д о б р ы й д е н ь т в и х о т я у м е н я э т о т о л ь к о д о б р о е у т р о', 'r t k o z u b u q u v e q д в е в е р с и и м с а м о з в а н е ц л г у щ и й ч т о п а д ш и й а н г е л з л о н и з в е р г т о в а р и щ а и о б ъ я в и л с е б я т в о р ц о м п о к а', 'k a t t i r o s e 1 4 к и р и л л а у д и о т к р ы л е г о з а п и с и п о с л у ш а л а d d', 'm u s t a c h p o p o v a з а ч е м л ю д я м м е т р о н а т р о е щ и н у о н и в с е р а в н о к а ж д ы й д е н ь и к а ж д у ю н о ч ь в ц е н т р е т о л к у т с я', 'а х а а п р о с т о с у п е р д е р ж и т с я в а ш а р т е м к и р е е в ю м о р', 'e n y a 8 3 r н у я и м е л а в в и д у л е т о н а в е с н у в с е о с т а л ь н о е п у с т ь о с т а е т с я а а х а а х х х а х о т я д р в е с н о й 8 м а р т а в е с н о й', 'о ч е н ь и н т е р е с н а я т е о р и я х о т е л о с ь б ы в е р и т ь к о н е ч н о', 'q u a n t i z e r э т о е д и н с т в е н н о е м е с т о г д е т ы в и д е л р е ш е т к и н а о к н а х', 'n i k i t a s u m e n k o v 1 н о е щ е и д е б и л н о э т о с о в с е м д р у г а я и с т о р и я', 'k t h f g а х а х а м ы п р о с т о и з в е р г и х о р о ш о з а в т р а р а с с к а ж е ш ь', 'у ч и т е л ь н и ц а п о г е о г р а ф и и у в и д е в м е н я с о с п и н ы п о д у м а л а ч т о я н о в а я у ч и т е л ь н и ц а d', 'p o s h l u i f a n н е м о ж е т т у т т ы в с е р а с с к а ж е ш ь б ы л о б ы и н т е р е с н о', 'm e g g i o r l o v a б р у т а л ь н о с т ь в а ж н а я ч а с т ь м у ж ч и н ы к а к б о г а л ю б в и и л ю б в и н е п л а т о н и ч е с к о й а ж е л а н н о й в о в с е х е е п р о я в л е н и я х', 'о о о о ф а н к а м с в о р л д д э й т в з г л я д д ж о н г а н е с х о д и т с к и d', 'a l l e n s w e i t z e r а а а а н у б и н а и я з н а ю з н а к о м а я и в п о л н е з н а м е н и т а я л и ч н о с т ь', 'd i s f a i r y t a l e в г р у п п е е с т ь п а р о ч к а', 's a v i 2 7 3 н у у у в с е г о т о в ь к в а р т и р у ч е я м о г у т е б е с к а з а т ь', 'п о з д р а в л я ю н а ш и х у к р а и н с к и х д р у з е й н е в е з е т в ф у т б о л е п о в е з е т в б и а т л о н е р о с с и й с к и е к о м м е н т р ы т а к и е р о с с и й с к и е к о м м е н т р ы б и а т л о н', 'e m p r e s s p a n d a у м н и ц а п р и я т н ы х п р и я т н ы х с н о в и д е н и й', 'n a s t u a a p p l e а х а х н у т о м о л о д е ж и б ы л о т о в с е г о 4 с е р и й к у д а ж е б е з п р о д о л ж е н и я', 's a t a n s b l o o d н о я п о с в я щ а л к а к о й т о т а м т в и т и н а п и с а л с о к р а щ е н н о', 'r t s q u i r r e l m m к о м у с и г н у н а с и с ь к а х d в ы б е р у 2 х ч е л о в е к r t р т p s т о л ь к о ч и т а т е л я м', '1 т в и т м о и м л ю б и м ы м к о т и к а м в с е м д о б р а и б о б р а з', 'b y a l e n k a н е т с в и к о й о н и п о й д у т в к и н о и в и к а о п я т ь з а с е б я б у д е т п л а т и т ь d', 'r t d a r y a v a y s v u l g a r c a c t u s м и л о с т и п р и я т н о с т и с п а с и б о о о', 's a d j u l i e t д а ж е з а 2 н а д о б у д е т в с т а р т п р о д а ж б е ж а т ь н о м ы м о ж е м в ф е в р а л е с н и м и и г р а т ь и п о ф и г г л а в н о е к а с и л ь я с', 'ж е н с к а я п о д л о с т ь э т о з а м е т и т ь ч т о п о д р у г а п о х у д е л а и н е с к а з а т ь е й о б э т о м', 'r t k a t y a p a n i c h e v a а м ы в с е г д а н а й д е м в р е м я ч т о б ы с д е л а т ь х о т ь п а р у ф о т о к d', 'a b b a t 1 5 m f l o r o v s k y 2 1 3 б ы в а е т н о т е м а х о р о ш а я', 'с а ш а я к ц е м и б у д е м ф о т к а т и с ь я н а ф о т о п а р а т с а ш а д а б л т ь я п о н я в я т а н н а ф о т о р у ж й о g t l t', 'а м н е п е р е д а ю т п р и в е т ы с m i l o f m ч е р т о в с к и п р и я т н о', 'к а к о е б л ю д о б ы л о н а с т о л ь к о в к у с н ы м ч т о т ы н е м о ж е ш ь э т о з а б ы т ь ж у л ь е н', 'э т о п р и я т н о е о щ у щ е н и е к о г д а у з н а е ш ь ч т о с о з д а т е л и к а к о г о т о к р у т о г о п р о е к т а т в о и х о р о ш и е з н а к о м ы е', 's u l t a n o r e ш у ч у н е м в и д е о ш у ч у н е в з р ы в а т ь и х х о т ь з а ч т о', 'е б а т ь г у л я л н о ч ь ю п о г о р о д у и с л у ч а й н о н а т к н у л с я н а т а к у ю х у й н ю у т р о т е б е е б а т ь b i l y k d m i t r y', 'r t g r e e n s u i t c a s e с g o r g e o u s s h e e p д е л а е м ч е р ч е н и е в 3 н о ч и', 'л ю б л ю г о т о в и т ь д л я e l i j a h n i k i s h i n', 'п о с к о л ь к у я з а б ы л а п р о 1 т в и т с в о й 1 5 т в и т п о с в я щ а ю т е б е m a p c h a m a p c e н и к о г о н е с л у ш а й т ы п р е к р а с н а', 'э т и м л е т о м б ы л а и н д о н е з и я с л е д у ю щ и м л е т о м п о е д е м к у д а н и б у д ь в е в р о п у', 'п о ш л и с д а н ю ш е й в к и н о м ы с о в е р ш е н н о о д н и в з а л е в е д е м с е б я к а к к о р о л и', 'я п р о с т о х о ч у о п я т ь с т о б о й о б щ а т ь с я н о г и в р у к и и д е р з а й', 'е с л и н е п о д п и ш е ш ь с я т о п р о в а л и ш ь в е с ь у ч е б н ы й г о д', 'я с п а л а з а т о т е п е р ь д о п о з д н а п р о с и ж у т е м о ч к а п р и е х а л с', 'd a s h k a y a o i k r i s t i n a e c h e l o n о б л и л с я в о т и з а в я з а л р у б а ш к у т а к х а т ы п р о с е к ф и ш у л ю d', 'm a r i a p o t a p o w a т о г д а д о г о в о р и с ь с х о д и и н а ч н у т с я у н а с к а н и к у л ы п о н а с т о я щ е м у d к а к о й н о в о г о д н и й ф и л ь м с м о т р е т ь б у д е м', 'a n y e 4 k a е щ е к а к ч и т а ю т т в о я л ю б и м а я в о с ь м и к л а с с н и ц а', 'т о м и д ж е р и п о д о р о г е д о м о й п р я м н а с т р о е н и е л у ч ш е', 'n a r i s h a n a r i s h a д а п а ш а в а щ е п у п с и к 3 п е с н и н у н у ж н ы е с т р о ч к и в с т а в и л и и в н у ж н о м м о м е н т е к р а с и в о п о л у ч и л о с ь', 'с е г о д н я a l i n a y a h h o y у б е д и л а с т а т ь в е д у щ и м д у м а ю э т о к л у ч ш е м у', 'a n n a d o w n e y б е з п о н я т и я м н е н и к о г д а н е п о з н а т ь э т о г о и с к у с с т в а d', 'и д е о л о г и я м м м п р о с т о п р о ч т и т е и ч е р е з п а р у д н е й в ы н а ч н е т е м е н я т ь с я п р о в е р е н о', 'п р о ш е л п е р в ы й п о е д и н о к л у ч ш и м с п и к е р о м с т а л а v e t r o v a l п о з д р а в л я ю', 'ч т о п о д а р и т ь т р и н а д ц а т и л е т н е м у м а л ь ч и к у н а д е н ь р о ж д е н и я т р и н а д ц а т и л е т н ю ю д е в о ч к у', 'i v a x e r д а н у в н о р м а л ь н о м м ы т у т п р о с т о в т о р о й д е н ь и п о к а ч т о н е с к а з а т ь ч т о б ы к у х н я б ы л а к а к а я т о с в е р х о с о б а я п о р ц и и т о л ь к о о г р о м н ы е', 'i n n b l a n c o н е г о в о р и т а к о е 1 н а м л н н о р о ж д а е т с я d', 'm a x s e d d o n n a v a l n y n e t o v e t z н а д е ю с ь о н и н о г д а с м е я л с я п у с к а л с л ю н к и и х л о п а л', 'k a c k u r i n a а х а х а н о я и х х о т я б ы б р е ю а х а х а в о т л и ч и и о т т в о е й б о р о д к и d', 'i m e r k o u r i н а р у б л е в к е н о в ы й б у м в с е с р о ч н о с т а в я т у р ж а в и т е л и в о д ы а в д р у г в л а д и м и р в л а д и м и р о в и с д м и т р и е м а н а т о л ь е в и ч е м з а е д у т', 'z a r i s h a z a r i s h a т а н и ч е г о т а к о г о м и т и н г н а с о т н и т ы с я ч л ю д е й d', 'r t p l u s h s a y u r i х э п п и 2 1 с т м и н д э й т ы т а к о й у р у р р у р у ш 3 ч е с т н о ч е с т н о', 'в о л о с ы в ы с о х л и д о т о г о к а к я и х р а с ч е с а л а т е п е р ь я н а л ь в а п о х о ж а', 'r t g r e e n d a y v m k a t y a m o k r o u s o v a о к е й з а й д и т у д а д л я н а ч а л а х о т ь с ц у к о', 'd i k a a v y a s o v a s t a s i a n a s t e n k a э м д о ш л а у ж п о д в о и м с к у ч а й', 'r t o c o g a x o b o m э т о н е м о ж е т н е н р а в и т с я с н а ч а л а п о д у м а л ч т о н и ч е г о о с о б е н н о г о н о к о г д а с а м п о т е с т и л у д и в и л с я']\n"
          ]
        }
      ]
    },
    {
      "cell_type": "code",
      "metadata": {
        "colab": {
          "base_uri": "https://localhost:8080/"
        },
        "id": "kbLdA-JajKvV",
        "outputId": "92389186-b5d8-487d-ab77-10ab8f0b5565"
      },
      "source": [
        "tp3[:10]"
      ],
      "execution_count": 126,
      "outputs": [
        {
          "output_type": "execute_result",
          "data": {
            "text/plain": [
              "['с а м а я с ч а с т л и в а я с п а с и б о р о д н ы е ч т о в ы с о м н о й э т о о г р о м н о е с ч а с т ь е и м е т ь т а к и х к а к в ы',\n",
              " 'b a p b a n g y o n g g u k д а п о ж а л у й с т а м ы р а д ы е с л и в ы р а д ы п р и е з ж а й к н а м в р о с с и ю',\n",
              " 't a y a s c h m i d t ч т о ч т ч о ч т о ч т о ч т о ч т ч о т ч о т ч т ч о ч т о ч т ч о т ч о d',\n",
              " 'в о о б щ е л ю б л ю т е к с т у р у и с н и м а т ь в с я к у ю х е р н ю',\n",
              " 'g r a n d i s o g n a t o r e а х а х а х а х а х п р о с т о к р а с а в е ц d н у к о н е ч н о й о р к и к о у л в т е г о д ы п р о с т о з а ж и г а л и',\n",
              " 'с е г о д н я н а к а з а л 2 р а з а n o i s e 1 3 в f i f a э т о у с п е х',\n",
              " 'l o k t i n a c т ы д о л ж н а б ы л а в с е г д а б ы т ь н а ч е к у к а к б а т ь к а н е з а б у д ь у п о м я н у т ь ч т о е щ е щ е к о т а л а',\n",
              " 'e c h e r i e c g д а н е т п р о с т о ч е л о в е к г о в о р и т ч т о о н и д и о т а в р е з у л ь т а т е и д и о т а м и о к а з ы в а ю т с я в с е в о к р у г',\n",
              " 'r t b y t y c e t a p i g п о с м о т р е л в с е 7 h e l l s i n g o v a п р и с о е д и н я ю с ь к о ж и д а ю щ и м в о с ь м у ю с е р и ю',\n",
              " 'a n a u t h e n t i c у д и в и т е л ь н о ч т о н а х а б р е н и к т о н е и з л и л с в о й г н е в п о п о в о д у к р и в о с т и с е г о п о д е л и я и л и п о с т ы п р о с с т у м о ч а т с я а в т о м а т о м']"
            ]
          },
          "metadata": {},
          "execution_count": 126
        }
      ]
    },
    {
      "cell_type": "code",
      "metadata": {
        "colab": {
          "base_uri": "https://localhost:8080/"
        },
        "id": "INDb_n4tj6Do",
        "outputId": "6d5772aa-1cd9-42e8-ae9f-64d9307f324d"
      },
      "source": [
        "print('что неправильно:')"
      ],
      "execution_count": 127,
      "outputs": [
        {
          "output_type": "stream",
          "name": "stdout",
          "text": [
            "что неправильно:\n"
          ]
        }
      ]
    },
    {
      "cell_type": "code",
      "metadata": {
        "colab": {
          "base_uri": "https://localhost:8080/"
        },
        "id": "oOOHDZHWiAW7",
        "outputId": "65932ab1-4a2a-4ad0-da6b-795a3666e8b3"
      },
      "source": [
        "fn3[:10]"
      ],
      "execution_count": 122,
      "outputs": [
        {
          "output_type": "execute_result",
          "data": {
            "text/plain": [
              "['h e l l s p i t e п р о ч и т а л а с п а л ь ц е м',\n",
              " 'н а п е ч а т а л а т о л ь к о о д н у с т р а н и ц у щ а с с д е л а ю т в о ю м а т ь 2 6 ш р и ф т и н е б у д у п а р и т с я',\n",
              " 'н а д е ю с ь в р е м я п р и к л ю ч е н и й м н е н а с т р о е н и е п о д н и м е т',\n",
              " 'п о р а б о т а л и н е п л о х о ю л и а н н а п р и е х а л а с к и п р а п р и в е з л а н а м п о д а р о ч к и',\n",
              " 'я ж и в у в ч е р а ч т о б ы н е п о в т о р я т ь с е г о д н я ш н и х о ш и б о к',\n",
              " 'd e p u t a t l i s к о н е ч н о ж и в а я т о л ь к о с о с н а в ж и з н и и т а к с т о л ь к о п о д м е н ы и м у л я ж а р а з в г о д у х о ч е т с я н а с т о я щ е г о л ю б и м ы х л ю д е й д р у з е й е л к и',\n",
              " 'e v g e n b u l a n k i n е б а н ы й н а с о с п у т а ю к о н е ч н о й о р к а р а й т б л я т ь',\n",
              " 'о к а з ы в а е т с я е с т ь г р у п п а i n m y h u m b l e o p i n i o n i m h o',\n",
              " 'в о т н е т б ы о б н а д е ж и т ь ч е м н и т ь т ь ф у у ж е н а э т о т м т с д е в а т ь с я н е к у д а о т н и х',\n",
              " 'z h e k o r o а т ы б о л ь ш е п о с т ы т о л ь к о о к и н о л ю б и ш ь и л и о ж и з н и т о ж е б е з п о л и т и к и и м е ю в в и д у']"
            ]
          },
          "metadata": {},
          "execution_count": 122
        }
      ]
    },
    {
      "cell_type": "markdown",
      "metadata": {
        "id": "eEzoLMDrjOgy"
      },
      "source": [
        "Хорошо предсказываются те твиты, в которых точно есть слова с положительной окраской, плохо предсказываются те твиты, где на самом деле не очень понятно6 положительный он или нет. Возможно, удобно было бы сделать третий класс, в который входили бы твиты, которые нельзя отнести ни к положительным, ни к отрицательным."
      ]
    }
  ]
}